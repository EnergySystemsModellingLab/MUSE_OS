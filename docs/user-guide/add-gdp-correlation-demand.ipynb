{
 "cells": [
  {
   "cell_type": "markdown",
   "metadata": {},
   "source": [
    "# Adding a service demand by correlation"
   ]
  },
  {
   "cell_type": "markdown",
   "metadata": {},
   "source": [
    "In the previous tutorial we added an exogenous service demand. That is, we explicitly specified what the demand would be per year. \n",
    "However, we may not know what the electricity demand may be per year. Instead, we may conclude that our electricity demand is a function of the GDP and population of a particular region. \n",
    "To accommodate such a scenario, MUSE enables us to choose a regression function that estimates service demands from GDP and population, which may be more certain in your case.\n",
    "In this section we will show how this can be done.\n",
    "\n",
    "This tutorial will build off the default model that comes with MUSE. To copy the files for this model, run:\n",
    "\n",
    "```bash\n",
    "python -m muse --model default --copy PATH/TO/COPY/THE/MODEL/TO\n",
    "```"
   ]
  },
  {
   "cell_type": "markdown",
   "metadata": {},
   "source": [
    "## Additional files"
   ]
  },
  {
   "cell_type": "markdown",
   "metadata": {},
   "source": [
    "Similarly to before, we must amend the `residential_presets` folder. As we are no longer explicitly specifying demand, we can delete the `Residential2020Consumption.csv` and `Residential2050Consumption.csv` files. Instead, we must replace these files with the following:\n",
    "\n",
    "- __A macrodrivers file__: This contains the drivers of the service demand that we want to model. For this example, these will include GDP based on purchasing power parity (GDP PPP) and the population that we expect from 2010 to 2110.\n",
    "\n",
    "- __A regression parameters file__: This file will set the function type we would like to use to predict the service demand and the respective parameters of this regression file per region.\n",
    "\n",
    "- __A timeslice share file__: This file sets how the demand is shared between timeslice.\n",
    "\n",
    "The example files for each of those just mentioned can be found below, respectively:\n",
    "\n",
    "- [Macrodrivers.csv](https://github.com/EnergySystemsModellingLab/MUSE_OS/blob/main/docs/tutorial-code/6-add-correlation-demand/1-correlation/residential_presets/Macrodrivers.csv)\n",
    "\n",
    "- [regressionparameters.csv](https://github.com/EnergySystemsModellingLab/MUSE_OS/blob/main/docs/tutorial-code/6-add-correlation-demand/1-correlation/residential_presets/regressionparameters.csv)\n",
    "\n",
    "- [TimesliceSharepreset.csv](https://github.com/EnergySystemsModellingLab/MUSE_OS/blob/main/docs/tutorial-code/6-add-correlation-demand/1-correlation/residential_presets/TimesliceSharepreset.csv)\n",
    "\n",
    "For a full description of these files, see the link [here](../inputs/correlation_files.rst).\n",
    "\n",
    "Download these files and save them within the `preset` folder.\n",
    "\n",
    "Next, we must amend our toml file to link to these files."
   ]
  },
  {
   "cell_type": "markdown",
   "metadata": {},
   "source": [
    "## TOML file"
   ]
  },
  {
   "cell_type": "markdown",
   "metadata": {},
   "source": [
    "Towards the bottom of the toml file, you will see the following section: \n",
    "\n",
    "```toml\n",
    "[sectors.residential_presets]\n",
    "type = 'presets'\n",
    "priority = 0\n",
    "consumption_path= \"{path}/residential_presets/*Consumption.csv\"\n",
    "```\n",
    "\n",
    "This enables us to run the model in exogenous mode (i.e. explicitly specifying demand), but now we would like to run the model using the new regression files. This can be done by linking new variables to the new files, as follows:\n",
    "\n",
    "```toml\n",
    "[sectors.residential_presets]\n",
    "type = 'presets'\n",
    "priority = 0\n",
    "timeslice_shares_path = '{path}/residential_presets/TimesliceSharepreset.csv'\n",
    "macrodrivers_path = '{path}/residential_presets/Macrodrivers.csv'\n",
    "regression_path = '{path}/residential_presets/regressionparameters.csv'\n",
    "```"
   ]
  },
  {
   "cell_type": "markdown",
   "metadata": {},
   "source": [
    "## Running and visualising our new results"
   ]
  },
  {
   "cell_type": "markdown",
   "metadata": {},
   "source": [
    "With those changes made, we are now able to run our modified model, with the `python -m muse settings.toml` command in the command line, as before.\n",
    "\n",
    "As before, we will now visualise the output."
   ]
  },
  {
   "cell_type": "code",
   "execution_count": null,
   "metadata": {},
   "outputs": [],
   "source": [
    "import matplotlib.pyplot as plt\n",
    "import pandas as pd"
   ]
  },
  {
   "cell_type": "code",
   "execution_count": null,
   "metadata": {},
   "outputs": [],
   "source": [
    "mca_capacity = pd.read_csv(\n",
    "    \"../tutorial-code/add-correlation-demand/1-correlation/Results/MCACapacity.csv\"\n",
    ")\n",
    "mca_capacity.head()"
   ]
  },
  {
   "cell_type": "code",
   "execution_count": null,
   "metadata": {},
   "outputs": [],
   "source": [
    "fig, axes = plt.subplots(1, 3)\n",
    "all_years = mca_capacity[\"year\"].unique()\n",
    "for ax, (sector_name, sector_data) in zip(axes, mca_capacity.groupby(\"sector\")):\n",
    "    sector_capacity = sector_data.groupby([\"year\", \"technology\"]).sum().reset_index()\n",
    "    sector_capacity.pivot(\n",
    "        index=\"year\", columns=\"technology\", values=\"capacity\"\n",
    "    ).reindex(all_years).plot(kind=\"bar\", stacked=True, ax=ax)\n",
    "    ax.set_ylabel(\"Capacity (PJ)\")\n",
    "    ax.set_xlabel(\"Year\")\n",
    "    ax.set_title(f\"{sector_name.capitalize()} Sector:\", fontsize=10)\n",
    "    ax.legend(title=None, prop={\"size\": 8})\n",
    "    ax.tick_params(axis=\"both\", labelsize=8)\n",
    "\n",
    "fig.set_size_inches(8, 2.5)\n",
    "fig.subplots_adjust(wspace=0.5)"
   ]
  },
  {
   "cell_type": "markdown",
   "metadata": {},
   "source": [
    "As expected, we see a different scenario emerge. The demand does not increase linearly, with variations in the total demand in the residential sector, in line with the changing population data."
   ]
  },
  {
   "cell_type": "markdown",
   "metadata": {},
   "source": []
  }
 ],
 "metadata": {
  "kernelspec": {
   "display_name": "muse_env",
   "language": "python",
   "name": "python3"
  },
  "language_info": {
   "codemirror_mode": {
    "name": "ipython",
    "version": 3
   },
   "file_extension": ".py",
   "mimetype": "text/x-python",
   "name": "python",
   "nbconvert_exporter": "python",
   "pygments_lexer": "ipython3",
   "version": "3.12.4"
  }
 },
 "nbformat": 4,
 "nbformat_minor": 4
}
