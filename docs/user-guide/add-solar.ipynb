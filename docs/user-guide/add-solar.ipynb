{
 "cells": [
  {
   "cell_type": "markdown",
   "metadata": {},
   "source": [
    "# Adding a new technology\n",
    "\n",
    "In this tutorial we will begin by giving an overview of the input files that MUSE requires to run. We will then show how to modify these files to add a new technology to the model."
   ]
  },
  {
   "cell_type": "markdown",
   "metadata": {},
   "source": [
    "## Input Files"
   ]
  },
  {
   "cell_type": "markdown",
   "metadata": {},
   "source": [
    "MUSE is made up of a number of different [input files](../inputs/index.rst). These can be broadly split into two types:\n",
    "- [Simulation settings](../inputs/toml.rst)\n",
    "- [Simulation data](../inputs/inputs_csv.rst)\n",
    "\n",
    "Simulation settings specify how a simulation should be run. For example, which sectors to run, for how many years, the benchmark years and what to output. \n",
    "In this context, benchmark years are the years in which the model is solved. \n",
    "In the examples following, we solve for every 5 years (ie. 2020, 2025, 2030 etc.)\n",
    "Simulation data, on the other hand, parametrises the technologies involved in the simulation, or the number and kinds of agents.\n",
    "To create a customised case study it is necessary to edit both of these file types.\n",
    "Simulation settings are specified in a TOML file. [TOML](../inputs/toml_primer.rst) is a simple, extensible and intuitive file format well suited for specifying small sets of complex data.\n",
    "Simulation data is specified in [CSV](https://en.wikipedia.org/wiki/Comma-separated_values) files. This is a common format used for larger datasets, and is made up of columns and rows, with a comma used to differentiate between entries. \n",
    "\n",
    "MUSE requires at least the following files to successfully run:\n",
    "\n",
    "* a single [simulation settings TOML file](../inputs/toml.rst) for the simulation as a whole\n",
    "* a file indicating initial market price [projections](../inputs/projections.rst)\n",
    "* a file describing the [commodities in the simulation](../inputs/commodities.rst)\n",
    "* for generalized sectors:\n",
    "   * a file descring the [agents](../inputs/agents.rst)\n",
    "   * a file descring the [technologies](../inputs/technodata.rst)\n",
    "   * a file descring the [input commodities](../inputs/commodities_io.rst) for each technology\n",
    "   * a file descring the [output commodities](../inputs/commodities_io.rst) for each technology\n",
    "   * a file descring the [existing capacity](../inputs/existing_capacity.rst) of a given\n",
    "     sector\n",
    "* for each preset sector:\n",
    "   * a csv file describing consumption for the duration of the simulation\n",
    "   \n",
    "For a full description of these files see the [input files section](../inputs/index.rst)."
   ]
  },
  {
   "cell_type": "markdown",
   "metadata": {},
   "source": [
    "## Copying the default model"
   ]
  },
  {
   "cell_type": "markdown",
   "metadata": {},
   "source": [
    "MUSE contains an inbuilt default model with three energy sectors (gas, power and electricity), and a preset sector containing residential demands for heating. In this tutorial we will supplement this model by adding an additional power technology: solar photovoltaics (`solarPV`).\n",
    "\n",
    "The first step is to create a copy of the default model files:\n",
    "\n",
    "```bash\n",
    "python -m muse --model default --copy PATH/TO/COPY/THE/MODEL/TO\n",
    "```\n",
    "\n",
    "You will see that the resulting folder contains a ```settings.toml``` file, a folder for each sector, and a few top-level csv files for cross-sector simulation data. In the rest of this tutorial we will edit these files to add a new technology to the simulation. You can modify the files in your favourite spreadsheet editor or text editor such as VSCODE, Excel, Numbers, Notepad or TextEdit."
   ]
  },
  {
   "cell_type": "markdown",
   "metadata": {},
   "source": [
    "## Adding a `solar` commodity to the model"
   ]
  },
  {
   "cell_type": "markdown",
   "metadata": {},
   "source": [
    "The new technology will consume solar energy and output electricity. As we do not already have a commodity in the model describing solar energy, we need to add this.\n",
    "To do so, open up the `GlobalCommodities.csv` file and add the following row (in bold):\n",
    "\n",
    "| commodity | commodity_type | unit |\n",
    "|---|---|---|\n",
    "| electricity | Energy | PJ |\n",
    "| gas | Energy | PJ |\n",
    "| heat | Energy | PJ |\n",
    "| wind | Energy | PJ |\n",
    "| CO2f | Environmental | kt |\n",
    "|**solar**|**Energy**|**PJ**|\n",
    "\n",
    "We specify the units as PJ and the commodity type as \"Energy\" (as opposed to \"Environmental\" which is used for non-energy polutants such as CO2)"
   ]
  },
  {
   "cell_type": "markdown",
   "metadata": {},
   "source": [
    "## Adding a `solarPV` technology"
   ]
  },
  {
   "cell_type": "markdown",
   "metadata": {},
   "source": [
    "Next, we will open up the `Technodata.csv` file for the power sector.\n",
    "This contains parametrisation data for the technologies in the sector, such as costs, growth constraints and lifetime.\n",
    "MUSE allows us to vary these parameters by year, but we can also just specify parameters for the first year and MUSE will carry these forward to future years, as we've done below:\n",
    "\n",
    "|technology|region|year|cap_par|cap_exp|…|Agent1|\n",
    "|-|-|-|-|-|-|-|\n",
    "|gasCCGT|R1|2020|23.78234399|1|…|1|\n",
    "|windturbine|R1|2020|36.30771182|1|…|1|\n",
    "|**solarPV**|**R1**|**2020**|**30**|**1**|...|**1**|\n",
    "\n",
    "To create a new `solarPV` technology, add the row highlighted in bold above.\n",
    "(We are only displaying the some of the due to space constraints. The remaining parameters will be copied from the `windturbine` technology. You can see the full file [here](https://github.com/EnergySystemsModellingLab/MUSE_OS/blob/main/docs/tutorial-code/1-add-new-technology/1-introduction/technodata/power/Technodata.csv), and details about each parameter [here](../inputs/technodata.rst).)"
   ]
  },
  {
   "cell_type": "markdown",
   "metadata": {},
   "source": [
    "Next, we will use the `CommIn.csv` and `CommOut.csv` files to specify the input and output commodites of the technology. In the case of the `CommIn.csv` file, we add a new row for `solarPV` and specify a [fixed](../inputs/commodities_io.rst) input quantity of 1 for `solar`. Neither `gasCCGT` nor `windturbine` consume `solar`, so we set `solar` input to zero for these technologies:\n",
    "\n",
    "|technology|region|year|Level|gas|wind|**solar**|\n",
    "|-----------|----------|----|-----|---|----|---------|\n",
    "|gasCCGT|R1|2020|fixed|1.67|0|**0**|\n",
    "|windturbine|R1|2020|fixed|0|1|**0**|\n",
    "|**solarPV**|**R1**|**2020**|**fixed**|**0**|**0**|**1**|\n",
    "\n",
    "For the `CommOut.csv` file, we want the output of `electricity` to be 1 (it doesn't emit any CO2 so we set this column to zero):\n",
    "\n",
    "|technology|region|year|electricity|CO2f|\n",
    "|-|-|-|-|-|\n",
    "|gasCCGT|R1|2020|1|91.67|\n",
    "|windturbine|R1|2020|1|0|\n",
    "|**solarPV**|**R1**|**2020**|**1**|**0**|"
   ]
  },
  {
   "cell_type": "markdown",
   "metadata": {},
   "source": [
    "Finally, we will modify the `ExistingCapacity.csv` file. This file details the existing capacity of each technology, and a decommissioning profile across every year of the time framework. For this example, we will set the existing capacity to be 0.\n",
    "\n",
    "|ProcessName|RegionName|2020|2025|2030|2035|2040|2045|2050|\n",
    "|-|-|-|-|-|-|-|-|-|\n",
    "|gasCCGT|R1|1|1|0|0|0|0|0|\n",
    "|windturbine|R1|0|0|0|0|0|0|0|\n",
    "|**solarPV**|**R1**|**0**|**0**|**0**|**0**|**0**|**0**|**0**|\n"
   ]
  },
  {
   "cell_type": "markdown",
   "metadata": {},
   "source": [
    "## Settings file"
   ]
  },
  {
   "cell_type": "markdown",
   "metadata": {},
   "source": [
    "Finally, we must make a small change to the `settings.toml` file. As `solar` is a renewable resource that isn't produced by any process defined in the model, we must add it to `excluded_commodities` in `settings.toml`, like so:\n",
    "\n",
    "```toml    \n",
    "excluded_commodities = [\"wind\", \"solar\"]\n",
    "```\n",
    "\n",
    "This will ensure MUSE excludes `solar` from its internal supply-fulfillment checks."
   ]
  },
  {
   "cell_type": "markdown",
   "metadata": {},
   "source": [
    "## Running our customised simulation"
   ]
  },
  {
   "cell_type": "markdown",
   "metadata": {},
   "source": [
    "Now we are able to run our simulation with the new solar power technology.\n",
    "To do this, we run the following command in the command line:\n",
    "\n",
    "```bash\n",
    "python -m muse settings.toml\n",
    "```"
   ]
  },
  {
   "cell_type": "markdown",
   "metadata": {},
   "source": [
    "If the simulation has run successfully, you should now have a folder in the same location as your `settings.toml` file called `Results`. The next step is to visualise the results using the data analysis library ```pandas``` and the plotting library ```matplotlib```."
   ]
  },
  {
   "cell_type": "code",
   "execution_count": null,
   "metadata": {},
   "outputs": [],
   "source": [
    "import matplotlib.pyplot as plt\n",
    "import pandas as pd"
   ]
  },
  {
   "cell_type": "markdown",
   "metadata": {},
   "source": [
    "First, we will import the ```MCACapacity.csv``` file using pandas, and print the first 5 lines with the ```head()``` command. (Make sure to change the file path as appropriate.)"
   ]
  },
  {
   "cell_type": "code",
   "execution_count": null,
   "metadata": {},
   "outputs": [],
   "source": [
    "mca_capacity = pd.read_csv(\n",
    "    \"../tutorial-code/add-new-technology/1-introduction/Results/MCACapacity.csv\"\n",
    ")\n",
    "mca_capacity.head()"
   ]
  },
  {
   "cell_type": "markdown",
   "metadata": {},
   "source": [
    "We will now visualise the results:"
   ]
  },
  {
   "cell_type": "code",
   "execution_count": null,
   "metadata": {},
   "outputs": [],
   "source": [
    "fig, axes = plt.subplots(1, 3)\n",
    "all_years = mca_capacity[\"year\"].unique()\n",
    "for ax, (sector_name, sector_data) in zip(axes, mca_capacity.groupby(\"sector\")):\n",
    "    sector_capacity = sector_data.groupby([\"year\", \"technology\"]).sum().reset_index()\n",
    "    sector_capacity.pivot(\n",
    "        index=\"year\", columns=\"technology\", values=\"capacity\"\n",
    "    ).reindex(all_years).plot(kind=\"bar\", stacked=True, ax=ax)\n",
    "    ax.set_ylabel(\"Capacity (PJ)\")\n",
    "    ax.set_xlabel(\"Year\")\n",
    "    ax.set_title(f\"{sector_name.capitalize()} Sector:\", fontsize=10)\n",
    "    ax.legend(title=None, prop={\"size\": 8})\n",
    "    ax.tick_params(axis=\"both\", labelsize=8)\n",
    "\n",
    "fig.set_size_inches(8, 2.5)\n",
    "fig.subplots_adjust(wspace=0.5)"
   ]
  },
  {
   "cell_type": "markdown",
   "metadata": {},
   "source": [
    "We can now see that there is `solarPV` capacity in the power sector. That's great and means it worked! \n",
    "\n",
    "We can see that `solarPV` has a higher uptake than `gasCCGT`, and has entirely replaced `windturbine` in of the sector, which is likely due to the lower `cap_par` (capital cost) which makes it more favourable for investment. We can investigate this by changing the `cap_par` value for `solarPV`, which we will do in the next section."
   ]
  },
  {
   "cell_type": "markdown",
   "metadata": {},
   "source": [
    "## Changing the capital costs of `solarPV`"
   ]
  },
  {
   "cell_type": "markdown",
   "metadata": {},
   "source": [
    "Now, we will observe what happens if we increase the capital price of solar to be more expensive than wind in the year 2020, but then reduce the price of solar in 2040. By doing this, we should observe an initial investment in wind in the first few benchmark years of the simulation, followed by a transition to solar as we approach the year 2040.\n",
    "\n",
    "To achieve this, we have to modify the `Technodata.csv` file in the `power` sector.\n",
    "\n",
    "|ProcessName|RegionName|Time|cap_par|cap_exp|…|Agent1|\n",
    "|-|-|-|-|-|-|-|\n",
    "|gasCCGT|R1|2020|23.78234399|1|…|1|\n",
    "|**gasCCGT**|**R1**|**2040**|**23.78234399**|**1**|**…**|**1**|\n",
    "|windturbine|R1|2020|36.30771182|1|…|1|\n",
    "|**windturbine**|**R1**|**2040**|**36.30771182**|**1**|**…**|**1**|\n",
    "|solarPV|R1|2020|**40**|1|...|1|\n",
    "|**solarPV**|**R1**|**2040**|**30**|**1**|**...**|**1**|\n",
    "\n",
    "Here, we increase `cap_par` for `solarPV` to 40 in the year 2020, and create a new row for 2040 with a reduced `cap_par` of 30.\n",
    "\n",
    "MUSE uses interpolation for the years which are unknown. So in this example, for the benchmark years between 2020 and 2040 (2025, 2030, 2035), MUSE uses interpolated `cap_par` values. The interpolation mode can be set in the `settings.toml` file, and defaults to linear interpolation. This example uses the default setting for interpolation.\n",
    "\n",
    "Note that we must also provide entries for 2040 for the other technologies, `gasCCGT` and `windturbine`. For this example, we will keep these the same as before, copying and pasting the rows. \n",
    "\n",
    "We can now rerun the simulation, using the same command as previously, import the new `MCACapacity.csv` file again, and visualise the results:"
   ]
  },
  {
   "cell_type": "code",
   "execution_count": null,
   "metadata": {},
   "outputs": [],
   "source": [
    "mca_capacity = pd.read_csv(\n",
    "    \"../tutorial-code/add-new-technology/2-scenario/Results/MCACapacity.csv\"\n",
    ")\n",
    "\n",
    "fig, axes = plt.subplots(1, 3)\n",
    "all_years = mca_capacity[\"year\"].unique()\n",
    "for ax, (sector_name, sector_data) in zip(axes, mca_capacity.groupby(\"sector\")):\n",
    "    sector_capacity = sector_data.groupby([\"year\", \"technology\"]).sum().reset_index()\n",
    "    sector_capacity.pivot(\n",
    "        index=\"year\", columns=\"technology\", values=\"capacity\"\n",
    "    ).reindex(all_years).plot(kind=\"bar\", stacked=True, ax=ax)\n",
    "    ax.set_ylabel(\"Capacity (PJ)\")\n",
    "    ax.set_xlabel(\"Year\")\n",
    "    ax.set_title(f\"{sector_name.capitalize()} Sector:\", fontsize=10)\n",
    "    ax.legend(title=None, prop={\"size\": 8})\n",
    "    ax.tick_params(axis=\"both\", labelsize=8)\n",
    "\n",
    "fig.set_size_inches(8, 2.5)\n",
    "fig.subplots_adjust(wspace=0.5)"
   ]
  },
  {
   "cell_type": "markdown",
   "metadata": {},
   "source": [
    "From the results, we can see that `windturbine` now outcompetes `solarPV` in the year 2025. However, between the years 2025 and 2050, as the capital cost of `solarPV` decreases, the share of `solarPV` begins to increase.\n",
    "\n",
    "For the full example with the completed input files see [here](https://github.com/EnergySystemsModellingLab/MUSE_OS/tree/main/docs/tutorial-code/1-add-new-technology/2-scenario)."
   ]
  },
  {
   "cell_type": "markdown",
   "metadata": {},
   "source": [
    "## Summary\n",
    "\n",
    "In this tutorial we have shown how to add a new technology to the model, and how to modify the parameters of this technology. Have a go at modifying some of the other parameters to see how this affects investment decisions. "
   ]
  },
  {
   "cell_type": "markdown",
   "metadata": {},
   "source": []
  }
 ],
 "metadata": {
  "kernelspec": {
   "display_name": "muse_env",
   "language": "python",
   "name": "python3"
  },
  "language_info": {
   "codemirror_mode": {
    "name": "ipython",
    "version": 3
   },
   "file_extension": ".py",
   "mimetype": "text/x-python",
   "name": "python",
   "nbconvert_exporter": "python",
   "pygments_lexer": "ipython3",
   "version": "3.12.11"
  }
 },
 "nbformat": 4,
 "nbformat_minor": 4
}
