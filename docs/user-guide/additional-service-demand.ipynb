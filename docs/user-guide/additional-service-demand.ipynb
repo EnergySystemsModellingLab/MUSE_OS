{
 "cells": [
  {
   "cell_type": "markdown",
   "metadata": {},
   "source": [
    "# Adding a service demand"
   ]
  },
  {
   "cell_type": "markdown",
   "metadata": {},
   "source": [
    "In this section, we detail how to add a service demand to MUSE. \n",
    "In the residential sector, a service demand could be cooking. Houses require energy to cook food and a technology to service this demand, such as an electric stove. \n",
    "This process consists of setting a demand, either through inputs derived from the user or correlations of GDP and population which reflect the socioeconomic development of a region or country. \n",
    "In addition, a technology must be added to service this new demand.\n",
    "\n",
    "This tutorial will build off the default model that comes with MUSE. To copy the files for this model, run:\n",
    "\n",
    "```bash\n",
    "python -m muse --model default --copy PATH/TO/COPY/THE/MODEL/TO\n",
    "```"
   ]
  },
  {
   "cell_type": "markdown",
   "metadata": {},
   "source": [
    "## Adding demand for `cook`"
   ]
  },
  {
   "cell_type": "markdown",
   "metadata": {},
   "source": [
    "First, we must edit the `GlobalCommodities.csv` file to add a new commodity called `cook`\n",
    "\n",
    "| commodity | commodity_type | unit |\n",
    "|---|---|---|\n",
    "| electricity | Energy | PJ |\n",
    "| gas | Energy | PJ |\n",
    "| heat | Energy | PJ |\n",
    "| wind | Energy | PJ |\n",
    "| CO2f | Environmental | kt |\n",
    "|**cook**|**Energy**|**PJ**|"
   ]
  },
  {
   "cell_type": "markdown",
   "metadata": {},
   "source": [
    "Next, we will add a cooking preset demand. To achieve this, we will first edit the `Residential2020Consumption.csv` and `Residential2050Consumption.csv` files, found within the `residential_presets` directory.\n",
    "These files allow us to specify end-use demands in 2020 and 2050, with datapoints between these years being interpolated.\n",
    "For simplicity, we will copy over the values from the `heat` column in both files, e.g. for `Residential2020Consumption.csv`:"
   ]
  },
  {
   "cell_type": "markdown",
   "metadata": {},
   "source": [
    "|region|timeslice|heat|**cook**|\n",
    "|-|-|-|-|\n",
    "|R1|1|1.0|**1.0**|\n",
    "|R1|2|1.5|**1.5**|\n",
    "|R1|3|1.0|**1.0**|\n",
    "|R1|4|1.5|**1.5**|\n",
    "|R1|5|3.0|**3.0**|\n",
    "|R1|6|2.0|**2.0**|"
   ]
  },
  {
   "cell_type": "markdown",
   "metadata": {},
   "source": [
    "## Adding `electric_stove` and `gas_stove` technologies"
   ]
  },
  {
   "cell_type": "markdown",
   "metadata": {},
   "source": [
    "Next, we must add a technology to service this new demand. This is similar to how we added the `solarPV` technology in a previous tutorial.\n",
    "For this example, we will add two competing technologies to service the cooking demand (`electric_stove` and `gas_stove`) to the `residential/Technodata.csv` file. \n",
    "For simplicity, we will copy parameters from existing technologies: `electric_stove` will copy the parameters from `heatpump`, and `gas_stove` will copy the parameters from `gasboiler`:\n",
    "\n",
    "|technology|region|year|cap_par|…|Agent1|\n",
    "|-|-|-|-|-|-|\n",
    "|...|...|...|...|...|...|\n",
    "|**electric_stove**|**R1**|**2020**|**8.8667**|**…**|**1**|\n",
    "|**gas_stove**|**R1**|**2020**|**3.8**|**…**|**1**|\n",
    "\n",
    "Note the extreme difference in `cap_par` costs. \n",
    "For the full file please see [here](https://github.com/EnergySystemsModellingLab/MUSE_OS/blob/main/docs/tutorial-code/5-add-service-demand/1-exogenous-demand/residential/Technodata.csv)."
   ]
  },
  {
   "cell_type": "markdown",
   "metadata": {},
   "source": [
    "We must also add the data for these new technologies to the following files:\n",
    "- `CommIn.csv`\n",
    "- `CommOut.csv`\n",
    "- `ExistingCapacity.csv`\n",
    "\n",
    "This is largely a similar process to the previous tutorial. \n",
    "We must add the input to each of the technologies (gas and electricity for `gas_stove` and `electric_stove` respectively), outputs of `cook` for both and the existing capacity for each technology in each region.\n",
    "To prevent repetition of the previous tutorial, we will leave the full files [here](https://github.com/EnergySystemsModellingLab/MUSE_OS/tree/main/docs/tutorial-code/5-add-service-demand/1-exogenous-demand). "
   ]
  },
  {
   "cell_type": "markdown",
   "metadata": {},
   "source": [
    "Again, we run the simulation with our modified input files using the following command, in the relevant directory:\n",
    "    \n",
    "    python -m muse settings.toml\n",
    "    \n",
    "Once this has run we are ready to visualise our results."
   ]
  },
  {
   "cell_type": "code",
   "execution_count": null,
   "metadata": {},
   "outputs": [],
   "source": [
    "import matplotlib.pyplot as plt\n",
    "import pandas as pd"
   ]
  },
  {
   "cell_type": "code",
   "execution_count": null,
   "metadata": {},
   "outputs": [],
   "source": [
    "mca_capacity = pd.read_csv(\n",
    "    \"../tutorial-code/add-service-demand/1-exogenous-demand/Results/MCACapacity.csv\"\n",
    ")\n",
    "mca_capacity.head()"
   ]
  },
  {
   "cell_type": "code",
   "execution_count": null,
   "metadata": {},
   "outputs": [],
   "source": [
    "fig, axes = plt.subplots(1, 3)\n",
    "all_years = mca_capacity[\"year\"].unique()\n",
    "for ax, (sector_name, sector_data) in zip(axes, mca_capacity.groupby(\"sector\")):\n",
    "    sector_capacity = sector_data.groupby([\"year\", \"technology\"]).sum().reset_index()\n",
    "    sector_capacity.pivot(\n",
    "        index=\"year\", columns=\"technology\", values=\"capacity\"\n",
    "    ).reindex(all_years).plot(kind=\"bar\", stacked=True, ax=ax)\n",
    "    ax.set_ylabel(\"Capacity (PJ)\")\n",
    "    ax.set_xlabel(\"Year\")\n",
    "    ax.set_title(f\"{sector_name.capitalize()} Sector:\", fontsize=10)\n",
    "    ax.legend(title=None, prop={\"size\": 8})\n",
    "    ax.tick_params(axis=\"both\", labelsize=8)\n",
    "\n",
    "fig.set_size_inches(8, 2.5)\n",
    "fig.subplots_adjust(wspace=0.5)"
   ]
  },
  {
   "cell_type": "markdown",
   "metadata": {},
   "source": [
    "We can see that `electric_stove` is heavily used in the residential sector, and `gas_stove` is barely used at all. Therefore, compared to the default model, there is a larger increase in capacity in the `power` sector to accommodate this increase in demand for electricity, which is largely driven by `windturbine`.\n",
    "\n",
    "## Summary\n",
    "\n",
    "In this tutorial we have shown how to add a service demand to MUSE, and how to add technologies to meet this demand. Try changing the demand profile for `cook` to see how this influences investment decisions."
   ]
  },
  {
   "cell_type": "markdown",
   "metadata": {},
   "source": []
  }
 ],
 "metadata": {
  "kernelspec": {
   "display_name": "muse_env",
   "language": "python",
   "name": "python3"
  },
  "language_info": {
   "codemirror_mode": {
    "name": "ipython",
    "version": 3
   },
   "file_extension": ".py",
   "mimetype": "text/x-python",
   "name": "python",
   "nbconvert_exporter": "python",
   "pygments_lexer": "ipython3",
   "version": "3.12.11"
  }
 },
 "nbformat": 4,
 "nbformat_minor": 4
}
