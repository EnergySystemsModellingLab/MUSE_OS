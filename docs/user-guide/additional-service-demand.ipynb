{
 "cells": [
  {
   "cell_type": "markdown",
   "metadata": {},
   "source": [
    "# Adding a service demand"
   ]
  },
  {
   "cell_type": "markdown",
   "metadata": {},
   "source": [
    "In this section, we detail how to add a service demand to MUSE. \n",
    "In the residential sector, a service demand could be cooking. Houses require energy to cook food and a technology to service this demand, such as an electric stove. \n",
    "This process consists of setting a demand, either through inputs derived from the user or correlations of GDP and population which reflect the socioeconomic development of a region or country. \n",
    "In addition, a technology must be added to service this new demand.\n",
    "\n",
    "This tutorial will build off the default model that comes with MUSE. To copy the files for this model, run:\n",
    "\n",
    "```bash\n",
    "python -m muse --model default --copy PATH/TO/COPY/THE/MODEL/TO\n",
    "```"
   ]
  },
  {
   "cell_type": "markdown",
   "metadata": {},
   "source": [
    "## Addition of cooking demand"
   ]
  },
  {
   "cell_type": "markdown",
   "metadata": {},
   "source": [
    "In this example, we will add a cooking preset demand. To achieve this, we will first edit the `Residential2020Consumption.csv` and `Residential2050Consumption.csv` files, found within the `residential_presets` directory.\n",
    "\n",
    "The `Residential2020Consumption.csv` file allows us to specify the demand in 2020 for each region and technology per timeslice. The `Residential2050Consumption.csv` file does the same, but for the year 2050. The datapoints between these years are interpolated.\n",
    "\n",
    "Firstly, we must add the new service demand, `cook`, to these two files, with values specifying the demand. For simplicity, we will copy over the values from the `heat` column:"
   ]
  },
  {
   "cell_type": "markdown",
   "metadata": {},
   "source": [
    "|RegionName|Timeslice|electricity|gas|heat|CO2f|wind|**cook**|\n",
    "|-|-|-|-|-|-|-|-|\n",
    "|R1|1|0|0|1.0|0|0|**1.0**|\n",
    "|R1|2|0|0|1.5|0|0|**1.5**|\n",
    "|R1|3|0|0|1.0|0|0|**1.0**|\n",
    "|R1|4|0|0|1.5|0|0|**1.5**|\n",
    "|R1|5|0|0|3.0|0|0|**3.0**|\n",
    "|R1|6|0|0|2.0|0|0|**2.0**|"
   ]
  },
  {
   "cell_type": "markdown",
   "metadata": {},
   "source": [
    "The process is very similar for the `Residential2050Consumption.csv` file: again we copy the values over from the `heat` column. For the complete file see the link [here](https://github.com/EnergySystemsModellingLab/MUSE_OS/blob/main/docs/tutorial-code/5-add-service-demand/1-exogenous-demand/residential_presets/Residential2050Consumption.csv)."
   ]
  },
  {
   "cell_type": "markdown",
   "metadata": {},
   "source": [
    "Next, we must edit the `GlobalCommodities.csv` file (in the `input` folder). This is where we define the new commodity `cook`. It tells MUSE the commodity type, name, emissions factor of CO2 and heat rate, amongst other things:\n",
    "\n",
    "|Commodity|CommodityType|CommodityName|CommodityEmissionFactor_CO2|HeatRate|Unit|\n",
    "|-|-|-|-|-|-|\n",
    "|Electricity|Energy|electricity|0|1|PJ|\n",
    "|Gas|Energy|gas|56.1|1|PJ|\n",
    "|Heat|Energy|heat|0|1|PJ|\n",
    "|Wind|Energy|wind|0|1|PJ|\n",
    "|CO2fuelcomsbustion|Environmental|CO2f|0|1|kt|\n",
    "|**Cook**|**Energy**|**cook**|**0**|**1**|**PJ**|"
   ]
  },
  {
   "cell_type": "markdown",
   "metadata": {},
   "source": [
    "Finally, the `Projections.csv` file must be changed. This is a large file which details the expected cost of the commodities across the timeframe of the simulation. Due to its size, we will only show two rows of the new column `cook`:\n",
    "\n",
    "|RegionName|Attribute|Time|…|**cook**|\n",
    "|-|-|-|-|-|\n",
    "|Unit|-|Year|…|**MUS\\$2010/PJ**|\n",
    "|R1|CommodityPrice|2010|…|**100**|\n",
    "|…|…|…|…|**…**|\n",
    "|R1|CommodityPrice|2100|…|**100**|\n",
    "\n",
    "We set every price of cook to be `100MUS$2010/PJ`"
   ]
  },
  {
   "cell_type": "markdown",
   "metadata": {},
   "source": [
    "## Addition of cooking technology"
   ]
  },
  {
   "cell_type": "markdown",
   "metadata": {},
   "source": [
    "Next, we must add a technology to service this new demand. This is similar to how we added the solarPV technology in a previous tutorial. However, we must be careful to specify the end-use of the technology as `cook`.\n",
    "\n",
    "For this example, we will add two competing technologies to service the cooking demand (`electric_stove` and `gas_stove`) to the `residential/Technodata.csv` file.\n",
    "\n",
    "Again, in the interests of space, we have omitted the existing `gasboiler` and `heatpump` technologies. For the new `electric_stove` technology, we will copy and paste the data from the `heatpump` row. For `gas_stove`, we copy and paste the data for `gasboiler`. Importantly, however, we must specify the end-use for these new technologies to be `cook` and not `heat`:\n",
    "\n",
    "|ProcessName|RegionName|Time|cap_par|…|Fuel|EndUse|Agent1|\n",
    "|-|-|-|-|-|-|-|-|\n",
    "|Unit|-|Year|MUS$2010/PJ_a|…|-|-|New|\n",
    "|...|...|...|...|...|...|...|...|\n",
    "|**electric_stove**|**R1**|**2020**|**8.8667**|**…**|**electricity**|**cook**|**1**|\n",
    "|**gas_stove**|**R1**|**2020**|**3.8**|**…**|**gas**|**cook**|**1**|\n",
    "\n",
    "As can be seen, we have added two technologies with different `cap_par` costs. We specified their respective fuels, and the enduse for both is `cook`. For the full file please see [here](https://github.com/EnergySystemsModellingLab/MUSE_OS/blob/main/docs/tutorial-code/5-add-service-demand/1-exogenous-demand/residential/Technodata.csv)."
   ]
  },
  {
   "cell_type": "markdown",
   "metadata": {},
   "source": [
    "We must also add the data for these new technologies to the following files:\n",
    "- `CommIn.csv`\n",
    "- `CommOut.csv`\n",
    "- `ExistingCapacity.csv`\n",
    "\n",
    "This is largely a similar process to the previous tutorial. We must add the input to each of the technologies (gas and electricity for `gas_stove` and `electric_stove` respectively), outputs of `cook` for both and the existing capacity for each technology in each region.\n",
    "\n",
    "To prevent repetition of the previous tutorial, we will leave the full files [here](https://github.com/EnergySystemsModellingLab/MUSE_OS/tree/main/docs/tutorial-code/5-add-service-demand/1-exogenous-demand). "
   ]
  },
  {
   "cell_type": "markdown",
   "metadata": {},
   "source": [
    "Again, we run the simulation with our modified input files using the following command, in the relevant directory:\n",
    "    \n",
    "    python -m muse settings.toml\n",
    "    \n",
    "Once this has run we are ready to visualise our results."
   ]
  },
  {
   "cell_type": "code",
   "execution_count": null,
   "metadata": {},
   "outputs": [],
   "source": [
    "import matplotlib.pyplot as plt\n",
    "import pandas as pd"
   ]
  },
  {
   "cell_type": "code",
   "execution_count": null,
   "metadata": {},
   "outputs": [],
   "source": [
    "mca_capacity = pd.read_csv(\n",
    "    \"../tutorial-code/add-service-demand/1-exogenous-demand/Results/MCACapacity.csv\"\n",
    ")\n",
    "mca_capacity.head()"
   ]
  },
  {
   "cell_type": "code",
   "execution_count": null,
   "metadata": {},
   "outputs": [],
   "source": [
    "fig, axes = plt.subplots(1, 3)\n",
    "all_years = mca_capacity[\"year\"].unique()\n",
    "for ax, (sector_name, sector_data) in zip(axes, mca_capacity.groupby(\"sector\")):\n",
    "    sector_capacity = sector_data.groupby([\"year\", \"technology\"]).sum().reset_index()\n",
    "    sector_capacity.pivot(\n",
    "        index=\"year\", columns=\"technology\", values=\"capacity\"\n",
    "    ).reindex(all_years).plot(kind=\"bar\", stacked=True, ax=ax)\n",
    "    ax.set_ylabel(\"Capacity (PJ)\")\n",
    "    ax.set_xlabel(\"Year\")\n",
    "    ax.set_title(f\"{sector_name.capitalize()} Sector:\", fontsize=10)\n",
    "    ax.legend(title=None, prop={\"size\": 8})\n",
    "    ax.tick_params(axis=\"both\", labelsize=8)\n",
    "\n",
    "fig.set_size_inches(8, 2.5)\n",
    "fig.subplots_adjust(wspace=0.5)"
   ]
  },
  {
   "cell_type": "markdown",
   "metadata": {},
   "source": [
    "We can see that `electric_stove` is heavily used in the residential sector, and `gas_stove` is barely used at all. Therefore, compared to the default model, there is a larger increase in capacity in the `power` sector to accommodate this increase in demand for electricity, which is largely driven by `windturbine`.\n",
    "\n",
    "## Summary\n",
    "\n",
    "In this tutorial we have shown how to add a service demand to MUSE, and how to add technologies to meet this demand. Try changing the demand profile for `cook` to see how this influences investment decisions."
   ]
  },
  {
   "cell_type": "markdown",
   "metadata": {},
   "source": []
  }
 ],
 "metadata": {
  "kernelspec": {
   "display_name": "muse_env",
   "language": "python",
   "name": "python3"
  },
  "language_info": {
   "codemirror_mode": {
    "name": "ipython",
    "version": 3
   },
   "file_extension": ".py",
   "mimetype": "text/x-python",
   "name": "python",
   "nbconvert_exporter": "python",
   "pygments_lexer": "ipython3",
   "version": "3.12.4"
  }
 },
 "nbformat": 4,
 "nbformat_minor": 4
}
