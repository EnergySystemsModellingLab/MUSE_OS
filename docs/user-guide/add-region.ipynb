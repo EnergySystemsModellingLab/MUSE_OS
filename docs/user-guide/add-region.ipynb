{
 "cells": [
  {
   "cell_type": "markdown",
   "metadata": {},
   "source": [
    "# Adding a region"
   ]
  },
  {
   "cell_type": "markdown",
   "metadata": {},
   "source": [
    "This tutorial will show you how to add additional regions to the model.\n",
    "\n",
    "Again, we will build off the default model that comes with MUSE. To copy the files for this model, run:\n",
    "\n",
    "```bash\n",
    "python -m muse --model default --copy PATH/TO/COPY/THE/MODEL/TO\n",
    "```\n",
    "\n",
    "We will add a region called `R2` (however, this could equally be called `USA` or `India`). This requires us to undertake a similar process as before of modifying the input simulation data.\n",
    "\n",
    "## Input files\n",
    "\n",
    "We begin by modifying the `settings.toml` file. We just have to add our new region to the `regions` variable, in the 4th line of the file, like so:\n",
    "\n",
    "```toml\n",
    "regions = [\"R1\", \"R2\"]\n",
    "```\n",
    "\n",
    "The process to change the input files, however, takes a bit more time. To achieve this, there must be data for each of the sectors for the new region. This, therefore, requires the modification of every [input file](../inputs/index.rst).\n",
    "\n",
    "Due to space constraints, we will not show you how to edit all of the files. However, you can access the modified files [here](https://github.com/EnergySystemsModellingLab/MUSE_OS/tree/main/docs/tutorial-code/3-add-region/1-new-region)."
   ]
  },
  {
   "cell_type": "markdown",
   "metadata": {},
   "source": [
    "Effectively, for this example, we will copy and paste the rows in each of the input files from region `R1`, and change the name of the region for the new rows to `R2`. \n",
    "\n",
    "We have placed two examples as to how to edit the residential sector below. Again, the edited data are highlighted in **bold**, with the original data in normal text. \n",
    "\n",
    "The following file is the modified `/residential/CommIn.csv` file:\n",
    "\n",
    "|ProcessName|RegionName|Time|Level|electricity|gas|heat|CO2f|wind|\n",
    "|-|-|-|-|-|-|-|-|-|\n",
    "|Unit|-|Year|-|PJ/PJ|PJ/PJ|PJ/PJ|kt/PJ|PJ/PJ|\n",
    "|gasboiler|R1|2020|fixed|0|1.16|0|0|0|\n",
    "|heatpump|R1|2020|fixed|0.4|0|0|0|0|\n",
    "|**gasboiler**|**R2**|**2020**|**fixed**|**0**|**1.16**|**0**|**0**|**0**|\n",
    "|**heatpump**|**R2**|**2020**|**fixed**|**0.4**|**0**|**0**|**0**|**0**|\n",
    "|...|...|...|...|...|...|...|...|...|\n",
    "\n",
    "Whereas the following file is the modified `/residential/ExistingCapacity.csv` file:\n",
    "\n",
    "|ProcessName|RegionName|Unit|2020|2025|2030|2035|2040|2045|2050|\n",
    "|-|-|-|-|-|-|-|-|-|-|\n",
    "|gasboiler|R1|PJ/y|10|5|0|0|0|0|0|\n",
    "|heatpump|R1|PJ/y|0|0|0|0|0|0|0|\n",
    "|**gasboiler**|**R2**|**PJ/y**|**10**|**5**|**0**|**0**|**0**|**0**|**0**|\n",
    "|**heatpump**|**R2**|**PJ/y**|**0**|**0**|**0**|**0**|**0**|**0**|**0**|\n",
    "\n",
    "We will follow a similar process in the `/residential/Technodata.csv` file, copying the lines from `R1` to create `R2`. In this tutorial we will test the scenario where `heatpump` has a strict upper limit on total capacity in `R2`, using the `TotalCapacityLimit` parameter, which is highlighted below in bold. The rest of the elements are the same for `R1` as they are for `R2`.\n",
    "\n",
    "|ProcessName|RegionName|Time|…|TotalCapacityLimit|…|Agent1|\n",
    "|-|-|-|-|-|-|-|\n",
    "|Unit|-|Year|…|PJ|…|New|\n",
    "|gasboiler|R1|2020|…|100|…|1|\n",
    "|heatpump|R1|2020|…|100|…|1|\n",
    "|gasboiler|R2|2020|…|100|…|1|\n",
    "|heatpump|R2|2020|…|**20**|…|1|\n",
    "\n",
    "Now, go ahead and amend all of the other input files for each of the sectors (including the preset sector, which defines the residential commodity demand in each region) by copying and pasting the rows from `R1` and replacing the `RegionName` to `R2` for the new rows. You must also modify the `Projections.csv` file in the `input` folder in a similar way.\n",
    "\n",
    "All of the edited input files can be seen [here](https://github.com/EnergySystemsModellingLab/MUSE_OS/tree/main/docs/tutorial-code/3-add-region/1-new-region)."
   ]
  },
  {
   "cell_type": "markdown",
   "metadata": {},
   "source": [
    "## Results\n",
    "\n",
    "Again, we will run the results using the ```python -m pip muse settings.toml``` in the command line, and visualize the data as follows:"
   ]
  },
  {
   "cell_type": "code",
   "execution_count": null,
   "metadata": {},
   "outputs": [],
   "source": [
    "import matplotlib.pyplot as plt\n",
    "import pandas as pd\n",
    "import seaborn as sns"
   ]
  },
  {
   "cell_type": "code",
   "execution_count": null,
   "metadata": {},
   "outputs": [],
   "source": [
    "mca_capacity = pd.read_csv(\n",
    "    \"../tutorial-code/add-region/1-new-region/Results/MCACapacity.csv\"\n",
    ")\n",
    "all_years = mca_capacity[\"year\"].unique()\n",
    "\n",
    "for sector_name, sector_data in mca_capacity.groupby(\"sector\"):\n",
    "    sector_capacity = (\n",
    "        sector_data.groupby([\"year\", \"region\", \"technology\"]).sum().reset_index()\n",
    "    )\n",
    "    g = sns.FacetGrid(data=sector_capacity, col=\"region\")\n",
    "    g.map_dataframe(\n",
    "        lambda data, **kwargs: data.pivot(\n",
    "            index=\"year\", columns=\"technology\", values=\"capacity\"\n",
    "        )\n",
    "        .reindex(all_years)\n",
    "        .plot(kind=\"bar\", stacked=True, ax=plt.gca())\n",
    "    )\n",
    "    g.add_legend()\n",
    "    g.set_ylabels(\"Capacity (PJ)\")\n",
    "    g.figure.suptitle(f\"{sector_name.capitalize()} Sector:\")\n",
    "    g.figure.subplots_adjust(top=0.8)"
   ]
  },
  {
   "cell_type": "markdown",
   "metadata": {},
   "source": [
    "We can see that `R2` quickly reaches its capacity limit for `heatpump`, and additional investment in `gasboiler` needed to meet the residential heating demand.\n",
    "\n",
    "## Summary\n",
    "\n",
    "In this tutorial we have shown how to add a new region to the model, and shown how the `TotalCapacityLimit` parameter can be used to put an upper limit on capacity in a region.\n",
    "\n",
    "Have a play around with the various costs data in the technodata files for each of the sectors and technologies to see if different scenarios emerge. Although be careful. In some cases, the constraints on certain technologies will make it impossible for the demand to be met and it will give you an error such as the following:\n",
    "\n",
    "    message: 'The algorithm terminated successfully and determined that the problem is infeasible.'\n",
    "\n",
    "To avoid this error message you may have to relax the constraints in the technodata files (`MaxCapacityGrowth`, `MaxCapacityAddition` and `TotalCapacityLimit`)"
   ]
  },
  {
   "cell_type": "markdown",
   "metadata": {},
   "source": []
  }
 ],
 "metadata": {
  "kernelspec": {
   "display_name": "muse_env",
   "language": "python",
   "name": "python3"
  },
  "language_info": {
   "codemirror_mode": {
    "name": "ipython",
    "version": 3
   },
   "file_extension": ".py",
   "mimetype": "text/x-python",
   "name": "python",
   "nbconvert_exporter": "python",
   "pygments_lexer": "ipython3",
   "version": "3.12.4"
  }
 },
 "nbformat": 4,
 "nbformat_minor": 4
}
