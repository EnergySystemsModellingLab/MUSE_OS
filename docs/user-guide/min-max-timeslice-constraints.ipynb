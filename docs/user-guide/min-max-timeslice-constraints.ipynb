{
 "cells": [
  {
   "cell_type": "markdown",
   "metadata": {},
   "source": [
    "# Production constraints by timeslice"
   ]
  },
  {
   "cell_type": "markdown",
   "metadata": {},
   "source": [
    "In some sectors it may be the case that a technology can only output a certain amount at a certain time. For instance, solar photovoltaics (PV) don't produce power in the dark, and thus their output is limited at night. \n",
    "\n",
    "In this section, we explain how to add constraints to outputs of technologies at certain timeslices. This could either by a maximum constraint, for instance with the solar PV example previously mentioned. Or, this could be a minimum constraint, where we expect a minimum amount of output by a nuclear power plant at all times."
   ]
  },
  {
   "cell_type": "markdown",
   "metadata": {},
   "source": [
    "## Minimum timeslice\n",
    "\n",
    "In this tutorial we will be amending the default example, which you can find [here](https://github.com/SGIModel/MUSE_OS/tree/main/src/muse/data/example/default). Firstly, we will be imposing a minimium service factor for gasCCGT in the power sector. This is the minimum that a technology can output per timeslice. \n",
    "\n",
    "To do this, we will need to create a new `csv` file that specifies the minimum service factor per timeslice.\n",
    "\n",
    "An example of the file can be seen below, and downloaded [here](https://github.com/SGIModel/MUSE_OS/blob/main/src/muse/data/example/default_timeslice/technodata/power/TechnodataTimeslices.csv).\n",
    "\n",
    "|ProcessName|RegionName|Time|month|day|hour|UtilizationFactor|MinimumServiceFactor|\n",
    "|-|-|-|-|-|-|-|-|\n",
    "|Unit|-|Year|-|-|-|-|-|\n",
    "|gasCCGT|R1|2020|all-year|all-week|night|1|1|\n",
    "|gasCCGT|R1|2020|all-year|all-week|morning|1|2|\n",
    "|gasCCGT|R1|2020|all-year|all-week|afternoon|1|3|\n",
    "|gasCCGT|R1|2020|all-year|all-week|early-peak|1|2|\n",
    "|gasCCGT|R1|2020|all-year|all-week|late-peak|1|5|\n",
    "|gasCCGT|R1|2020|all-year|all-week|evening|1|6|\n",
    "|windturbine|R1|2020|all-year|all-week|night|1|1|\n",
    "|windturbine|R1|2020|all-year|all-week|morning|1|1|\n",
    "|windturbine|R1|2020|all-year|all-week|afternoon|1|1|\n",
    "|windturbine|R1|2020|all-year|all-week|early-peak|1|1|\n",
    "|windturbine|R1|2020|all-year|all-week|late-peak|1|1|\n",
    "|windturbine|R1|2020|all-year|all-week|evening|1|1|\n"
   ]
  },
  {
   "cell_type": "markdown",
   "metadata": {},
   "source": [
    "Notice that we have to specify the following columns: `ProcessName`, `RegionName`, `Time`, `month`, `day`, `hour`, `UtilizationFactor`, `MinimumServiceFactor`\n",
    "\n",
    "The majority of these columns are self explanatory, and correspond to the columns in other `csv` files - for instance, `ProcessName`, `RegionName` and `Time`. The timeslice based columns, however, are dynamic and will match the levels as defined in the `toml` file. \n",
    "\n",
    "The `UtilizationFactor` column specifies the maximum utilization factor for the respective technologies in the respective timeslices, and the `MinimumServiceFactor` specifies the minimum service factor of a technology.\n",
    "\n",
    "Next, we must link this file to the `settings.toml` file. This is done by modifying the respective section. As we are modifying the power sector, we have to add it to the following section:\n",
    "\n",
    "    [sectors.power]\n",
    "    type = 'default'\n",
    "    priority = 2\n",
    "    dispatch_production = 'costed'\n",
    "\n",
    "    technodata = '{path}/technodata/power/Technodata.csv'\n",
    "    commodities_in = '{path}/technodata/power/CommIn.csv'\n",
    "    commodities_out = '{path}/technodata/power/CommOut.csv'\n",
    "    technodata_timeslices = '{path}/technodata/power/TechnodataTimeslices.csv'\n",
    "    \n",
    "Notice the technodata_timeslices path in the bottom row of the code above."
   ]
  },
  {
   "cell_type": "markdown",
   "metadata": {},
   "source": [
    "For the next part, we want to visualise the output of supply per technology, per timeslice. To do so, we will need to create our own output function. Creating our own output functions will be explored in later tutorials, so don't worry about understanding the code posted below for now.\n",
    "\n",
    "Just copy and paste the code below into a python file called `output.py` and link to it in your `settings.toml` file as shown below:\n",
    "\n",
    "    plugins = \"{path}/output.py\""
   ]
  },
  {
   "cell_type": "code",
   "execution_count": 1,
   "metadata": {},
   "outputs": [],
   "source": [
    "from typing import List, Optional, Text\n",
    "\n",
    "import xarray as xr\n",
    "\n",
    "from muse.outputs.sector import register_output_quantity\n",
    "from muse.outputs.sector import market_quantity\n",
    "\n",
    "\n",
    "@register_output_quantity\n",
    "def supply_timeslice(\n",
    "    market: xr.Dataset,\n",
    "    capacity: xr.DataArray,\n",
    "    technologies: xr.Dataset,\n",
    "    sum_over: Optional[List[Text]] = None,\n",
    "    drop: Optional[List[Text]] = None,\n",
    "    rounding: int = 4,\n",
    ") -> xr.DataArray:\n",
    "    \"\"\"Current supply.\"\"\"\n",
    "    market = market.reset_index(\"timeslice\")\n",
    "    result = (\n",
    "        market_quantity(market.supply, sum_over=sum_over, drop=drop)\n",
    "        .rename(\"supply\")\n",
    "        .to_dataframe()\n",
    "        .round(rounding)\n",
    "    )\n",
    "    return result[result.supply != 0]"
   ]
  },
  {
   "cell_type": "markdown",
   "metadata": {},
   "source": [
    "To link to our new output `supply_timeslice` we must past the following code in our `settings.toml` file.\n",
    "\n",
    "    [[sectors.power.outputs]]\n",
    "    filename = '{cwd}/{default_output_dir}/{Sector}/{Quantity}/{year}{suffix}'\n",
    "    quantity = \"supply_timeslice\"\n",
    "    sink = \"csv\"\n",
    "    overwrite = true"
   ]
  },
  {
   "cell_type": "markdown",
   "metadata": {},
   "source": [
    "Once this has been completed, we are able to run MUSE as before, with the following command:\n",
    "\n",
    "    python -m muse settings.toml\n",
    "\n",
    "Next, we will visualise the output of the technologies as before. However, this time we will visualise the supply outputs that we created with the previous function per technology and per timeslice."
   ]
  },
  {
   "cell_type": "code",
   "execution_count": 2,
   "metadata": {},
   "outputs": [],
   "source": [
    "import pandas as pd\n",
    "import seaborn as sns\n",
    "import matplotlib.pyplot as plt"
   ]
  },
  {
   "cell_type": "code",
   "execution_count": 5,
   "metadata": {},
   "outputs": [
    {
     "data": {
      "text/plain": [
       "(0.0, 6.0)"
      ]
     },
     "execution_count": 5,
     "metadata": {},
     "output_type": "execute_result"
    },
    {
     "data": {
      "image/png": "[encoded data removed]",
      "text/plain": [
       "<Figure size 432x288 with 1 Axes>"
      ]
     },
     "metadata": {
      "needs_background": "light"
     },
     "output_type": "display_data"
    }
   ],
   "source": [
    "power_supply_2020 = pd.read_csv(\"../tutorial-code/7-min-max-timeslice-constraints/1-min-constraint/Results/Power/Supply_Timeslice/2020.csv\")\n",
    "sns.lineplot(data=power_supply_2020[power_supply_2020.commodity==\"electricity\"], x=\"timeslice\", y=\"supply\", hue=\"technology\")\n",
    "plt.title(\"Supply versus timeslice for the year 2020\")\n",
    "plt.ylim(0,6)"
   ]
  },
  {
   "cell_type": "markdown",
   "metadata": {},
   "source": [
    "As expected, for the year 2020, the gasCCGT supplies the electricity mix by the minimum per timeslice. This is as specified in the `TechnodataTimeslices.csv` file. Starting from a supply of 1 in the first timeslice and ending with a supply of 6 in the last timeslice. The supply increases linearly apart from during the 3rd timeslice, where it reduces to 2."
   ]
  },
  {
   "cell_type": "markdown",
   "metadata": {},
   "source": [
    "## Maximum timeslice constraint"
   ]
  },
  {
   "cell_type": "markdown",
   "metadata": {},
   "source": [
    "Next, we want to ensure that the supply of `windturbine` does not exceed a certain value during the day. This may be because, for example, there is reduced wind during the day. We will, therefore, modify the `TechnodataTimeslices.csv` file by changing the values of `UtilizationFactor`.\n",
    "\n",
    "|ProcessName|RegionName|Time|month|day|hour|UtilizationFactor|MinimumServiceFactor|\n",
    "|-|-|-|-|-|-|-|-|\n",
    "|Unit|-|Year|-|-|-|-|-|\n",
    "|gasCCGT|R1|2020|all-year|all-week|night|1|1|\n",
    "|gasCCGT|R1|2020|all-year|all-week|morning|1|2|\n",
    "|gasCCGT|R1|2020|all-year|all-week|afternoon|1|3|\n",
    "|gasCCGT|R1|2020|all-year|all-week|early-peak|1|2|\n",
    "|gasCCGT|R1|2020|all-year|all-week|late-peak|1|5|\n",
    "|gasCCGT|R1|2020|all-year|all-week|evening|1|6|\n",
    "|windturbine|R1|2020|all-year|all-week|night|1|1|\n",
    "|windturbine|R1|2020|all-year|all-week|morning|0.5|1|\n",
    "|windturbine|R1|2020|all-year|all-week|afternoon|0.5|1|\n",
    "|windturbine|R1|2020|all-year|all-week|early-peak|1|1|\n",
    "|windturbine|R1|2020|all-year|all-week|late-peak|1|1|\n",
    "|windturbine|R1|2020|all-year|all-week|evening|1|1|\n"
   ]
  },
  {
   "cell_type": "markdown",
   "metadata": {},
   "source": [
    "Once this has been saved, we can run the model again (`python -m muse settings.toml`). Next, we can visualise our results as before. We should hopefully see a reduction in the output of `windturbine` to 0.5 in the 2nd and 3rd timeslices:"
   ]
  },
  {
   "cell_type": "code",
   "execution_count": 6,
   "metadata": {},
   "outputs": [
    {
     "data": {
      "text/plain": [
       "(0.0, 6.0)"
      ]
     },
     "execution_count": 6,
     "metadata": {},
     "output_type": "execute_result"
    },
    {
     "data": {
      "image/png": "[encoded data removed]",
      "text/plain": [
       "<Figure size 432x288 with 1 Axes>"
      ]
     },
     "metadata": {
      "needs_background": "light"
     },
     "output_type": "display_data"
    }
   ],
   "source": [
    "power_supply_2020 = pd.read_csv(\"../tutorial-code/7-min-max-timeslice-constraints/2-max-constraint/Results/Power/Supply_Timeslice/2020.csv\")\n",
    "sns.lineplot(data=power_supply_2020[power_supply_2020.commodity==\"electricity\"], x=\"timeslice\", y=\"supply\", hue=\"technology\")\n",
    "plt.title(\"Supply versus timeslice for the year 2020\")\n",
    "plt.ylim(0,6)"
   ]
  },
  {
   "cell_type": "markdown",
   "metadata": {},
   "source": [
    "As expected, we can see an enforced reduction in `windturbine` output to 0.5 in the 2nd (1) and 3rd (2) timeslices.\n",
    "\n",
    "## Next steps\n",
    "\n",
    "This brings us to the end of the user guide! Using the information explained in this tutorial, or following similar steps, you will be able to create complex scenarios of your choosing.\n",
    "\n",
    "For the full code to generate the final results, see [here](https://github.com/SGIModel/MUSE_OS/tree/main/docs/tutorial-code/7-min-max-timeslice-constraints/2-max-constraint)."
   ]
  }
 ],
 "metadata": {
  "kernelspec": {
   "display_name": "Python 3",
   "language": "python",
   "name": "python3"
  },
  "language_info": {
   "codemirror_mode": {
    "name": "ipython",
    "version": 3
   },
   "file_extension": ".py",
   "mimetype": "text/x-python",
   "name": "python",
   "nbconvert_exporter": "python",
   "pygments_lexer": "ipython3",
   "version": "3.8.5"
  }
 },
 "nbformat": 4,
 "nbformat_minor": 4
}
