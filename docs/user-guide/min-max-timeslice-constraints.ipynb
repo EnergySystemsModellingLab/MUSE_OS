{
 "cells": [
  {
   "cell_type": "markdown",
   "metadata": {},
   "source": [
    "# Production constraints by timeslice"
   ]
  },
  {
   "cell_type": "markdown",
   "metadata": {},
   "source": [
    "In some sectors it may be the case that a technology can only output a certain amount at a certain time. For instance, solar photovoltaics (PV) don't produce power in the dark, and thus their output is limited at night. \n",
    "\n",
    "In this section, we explain how to add constraints to outputs of technologies at certain timeslices. This could either be a maximum constraint, for instance with the solar PV example previously mentioned. Or, this could be a minimum constraint, for example with a nuclear power plant, where we expect a minimum output at all times."
   ]
  },
  {
   "cell_type": "markdown",
   "metadata": {},
   "source": [
    "## Minimum timeslice constraint\n",
    "\n",
    "In this tutorial we will be amending the `default_timeslice` example.\n",
    "\n",
    "To copy this model so you can edit the files, run:\n",
    "\n",
    "```bash\n",
    "python -m muse --model default_timeslice --copy PATH/TO/COPY/THE/MODEL/TO\n",
    "```\n",
    "\n",
    "You will see that, compared to the `default` example, this model has an additional `TechnodataTimeslices.csv` file in the `power` sector, which has the columns `ProcessName`, `RegionName`, `Time`, `month`, `day`, `hour`, `UtilizationFactor`, `MinimumServiceFactor`.\n",
    "The majority of these columns are self-explanatory, and correspond to the columns in other `csv` files - for instance, `ProcessName`, `RegionName` and `Time`. \n",
    "The `UtilizationFactor` column specifies the maximum utilization factor for the respective technologies in the respective timeslices, and the `MinimumServiceFactor` specifies the minimum service factor of a technology.\n",
    "The timeslice based columns, however, are dynamic and will match the levels as defined in the `toml` file. \n",
    "\n",
    "We will modify the minimum service factor for `gasCCGT` in the `power` sector as follows.\n",
    "\n",
    "| ProcessName | RegionName | Time | month    | day      | hour       | UtilizationFactor | MinimumServiceFactor |\n",
    "|-------------|------------|------|----------|----------|------------|-------------------|----------------------|\n",
    "| Unit        | -          | Year | -        | -        | -          | -                 | -                    |\n",
    "| gasCCGT     | R1         | 2020 | all-year | all-week | night      | 1                 | **0.2**              |\n",
    "| gasCCGT     | R1         | 2020 | all-year | all-week | morning    | 1                 | **0.4**              |\n",
    "| gasCCGT     | R1         | 2020 | all-year | all-week | afternoon  | 1                 | **0.6**              |\n",
    "| gasCCGT     | R1         | 2020 | all-year | all-week | early-peak | 1                 | **0.4**              |\n",
    "| gasCCGT     | R1         | 2020 | all-year | all-week | late-peak  | 1                 | **0.8**              |\n",
    "| gasCCGT     | R1         | 2020 | all-year | all-week | evening    | 1                 | **1**                |\n",
    "\n",
    "For example, if the capacity of `gasCCGT` in a given year is 1, and the minimum service factor in a timeslice is 0.5, then the minimum output in that timeslice will be capped at 0.083 (= (1 / 6) * 0.5), assuming there are 6 timeslices with equal length."
   ]
  },
  {
   "cell_type": "markdown",
   "metadata": {},
   "source": [
    "Looking at the `settings.toml` file, you should see that the file has already been linked to the appropriate sector:\n",
    "\n",
    "```toml\n",
    "[sectors.power]\n",
    "type = 'default'\n",
    "priority = 2\n",
    "technodata = '{path}/power/Technodata.csv'\n",
    "commodities_in = '{path}/power/CommIn.csv'\n",
    "commodities_out = '{path}/power/CommOut.csv'\n",
    "technodata_timeslices = '{path}/power/TechnodataTimeslices.csv'\n",
    "```\n",
    "    \n",
    "Notice the `technodata_timeslices` path in the bottom row."
   ]
  },
  {
   "cell_type": "markdown",
   "metadata": {},
   "source": [
    "The `default_timeslice` model also includes one additional output, which gives a detailed breakdown of commodity supply in the power sector:\n",
    "\n",
    "```toml\n",
    "[[sectors.power.outputs]]\n",
    "filename = \"{cwd}/{default_output_dir}/{Sector}_{Quantity}.csv\"\n",
    "sink = \"aggregate\"\n",
    "quantity = \"supply\"\n",
    "```\n",
    "\n",
    "This will create a new file in the results folder called `Power_Supply.csv`, which will be important for the analysis below."
   ]
  },
  {
   "cell_type": "markdown",
   "metadata": {},
   "source": [
    "Once you've had a look at these files, run MUSE with the usual command:\n",
    "\n",
    "    python -m muse settings.toml\n",
    "\n",
    "We will then visualise the output of the technologies in each timeslice:"
   ]
  },
  {
   "cell_type": "code",
   "execution_count": null,
   "metadata": {},
   "outputs": [],
   "source": [
    "from pathlib import Path\n",
    "\n",
    "import numpy as np\n",
    "import pandas as pd\n",
    "import seaborn as sns"
   ]
  },
  {
   "cell_type": "code",
   "execution_count": null,
   "metadata": {},
   "outputs": [],
   "source": [
    "def plot_supply(supply, capacity, technology, commodity, year, factor=None):\n",
    "    # Plot timeslice supply\n",
    "    tech_supply = (\n",
    "        supply[\n",
    "            (supply.technology == technology)\n",
    "            & (supply.commodity == commodity)\n",
    "            & (supply.year == year)\n",
    "        ]\n",
    "        .groupby([\"timeslice\", \"technology\"])\n",
    "        .sum()\n",
    "        .reset_index()\n",
    "    )\n",
    "\n",
    "    ax = sns.barplot(\n",
    "        data=tech_supply,\n",
    "        x=\"timeslice\",\n",
    "        y=\"supply\",\n",
    "        hue=\"technology\",\n",
    "    )\n",
    "    ax.set_title(f\"{commodity} supply from {technology} in {year}\")\n",
    "\n",
    "    # Add line for the expected minimum/maximum supply\n",
    "    if factor is not None:\n",
    "        tech_capa = capacity[\n",
    "            (capacity.technology == technology) & (capacity.year == year)\n",
    "        ].capacity.sum()\n",
    "        min_supply = (tech_capa / 6) * factor\n",
    "        ax.plot(min_supply, color=\"red\")\n",
    "\n",
    "\n",
    "path = Path(\"../tutorial-code/min-max-timeslice-constraints/1-min-constraint/Results/\")\n",
    "supply = pd.read_csv(path / \"Power_Supply.csv\")\n",
    "capacity = pd.read_csv(path / \"MCACapacity.csv\")\n",
    "\n",
    "plot_supply(\n",
    "    supply,\n",
    "    capacity,\n",
    "    \"gasCCGT\",\n",
    "    \"electricity\",\n",
    "    2025,\n",
    "    np.array([0.2, 0.4, 0.6, 0.4, 0.8, 1]),\n",
    ")"
   ]
  },
  {
   "cell_type": "markdown",
   "metadata": {},
   "source": [
    "Here, we can see that the supply of electricity by `gasCCGT` in 2025 successfully exceeds the lower-bound cap (red line) in every timeslice."
   ]
  },
  {
   "cell_type": "markdown",
   "metadata": {},
   "source": [
    "## Maximum timeslice constraint"
   ]
  },
  {
   "cell_type": "markdown",
   "metadata": {},
   "source": [
    "Next, we will try removing the minimum constraint for the last two timeslices and instead imposing a maximum constraint using the UtilizationFactor parameter\n",
    "\n",
    "|ProcessName|RegionName|Time|month|day|hour|UtilizationFactor|MinimumServiceFactor|\n",
    "|-|-|-|-|-|-|-|-|\n",
    "|Unit|-|Year|-|-|-|-|-|\n",
    "|gasCCGT|R1|2020|all-year|all-week|night|1|0.2|\n",
    "|gasCCGT|R1|2020|all-year|all-week|morning|1|0.4|\n",
    "|gasCCGT|R1|2020|all-year|all-week|afternoon|1|0.6|\n",
    "|gasCCGT|R1|2020|all-year|all-week|early-peak|1|0.4|\n",
    "|gasCCGT|R1|2020|all-year|all-week|late-peak|**0.5**|**0**|\n",
    "|gasCCGT|R1|2020|all-year|all-week|evening|**0.5**|**0**|"
   ]
  },
  {
   "cell_type": "markdown",
   "metadata": {},
   "source": [
    "Once this has been saved, we can run the model again (`python -m muse settings.toml`), and visualise our results as before."
   ]
  },
  {
   "cell_type": "code",
   "execution_count": null,
   "metadata": {},
   "outputs": [],
   "source": [
    "path = Path(\"../tutorial-code/min-max-timeslice-constraints/2-max-constraint/Results/\")\n",
    "supply = pd.read_csv(path / \"Power_Supply.csv\")\n",
    "capacity = pd.read_csv(path / \"MCACapacity.csv\")\n",
    "\n",
    "plot_supply(\n",
    "    supply,\n",
    "    capacity,\n",
    "    \"gasCCGT\",\n",
    "    \"electricity\",\n",
    "    2025,\n",
    "    np.array([1, 1, 1, 1, 0.5, 0.5]),\n",
    ")"
   ]
  },
  {
   "cell_type": "markdown",
   "metadata": {},
   "source": [
    "As expected, we can see an enforced reduction in supply in the final two timeslices, compared to the previous scenario.\n",
    "\n",
    "## Summary\n",
    "\n",
    "In this tutorial we've shown had to impose minimum and maximum constraints on the activity of technologies on a timeslice-basis. Not only will this impact the supply of comodities, but it may also influence investment decisions. You are encouraged to explore the implications of this on your own."
   ]
  },
  {
   "cell_type": "markdown",
   "metadata": {},
   "source": []
  }
 ],
 "metadata": {
  "kernelspec": {
   "display_name": "muse_env",
   "language": "python",
   "name": "python3"
  },
  "language_info": {
   "codemirror_mode": {
    "name": "ipython",
    "version": 3
   },
   "file_extension": ".py",
   "mimetype": "text/x-python",
   "name": "python",
   "nbconvert_exporter": "python",
   "pygments_lexer": "ipython3",
   "version": "3.12.4"
  }
 },
 "nbformat": 4,
 "nbformat_minor": 4
}
