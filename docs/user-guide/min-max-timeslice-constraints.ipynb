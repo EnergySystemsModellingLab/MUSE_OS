{
 "cells": [
  {
   "cell_type": "markdown",
   "metadata": {},
   "source": [
    "# Production constraints by timeslice"
   ]
  },
  {
   "cell_type": "markdown",
   "metadata": {},
   "source": [
    "In some sectors it may be the case that a technology can only output a certain amount at a certain time. For instance, solar photovoltaics (PV) don't produce power in the dark, and thus their output is limited at night. \n",
    "\n",
    "In this section, we explain how to add constraints to outputs of technologies at certain timeslices. This could either by a maximum constraint, for instance with the solar PV example previously mentioned. Or, this could be a minimum constraint, where we expect a minimum amount of output by a nuclear power plant at all times."
   ]
  },
  {
   "cell_type": "markdown",
   "metadata": {},
   "source": [
    "## Minimum timeslice\n",
    "\n",
    "In this tutorial we will be amending the `default_timeslice` example.\n",
    "\n",
    "Copy this model so you can edit the files:\n",
    "\n",
    "```bash\n",
    "python -m muse --model default_timeslice --copy PATH/TO/COPY/THE/MODEL/TO\n",
    "```\n",
    "\n",
    "You will see that, compared to the `default` example, this model has an additional `TechnodataTimeslices.csv` file in the `power` sector, which has the columns `ProcessName`, `RegionName`, `Time`, `month`, `day`, `hour`, `UtilizationFactor`, `MinimumServiceFactor`.\n",
    "The majority of these columns are self-explanatory, and correspond to the columns in other `csv` files - for instance, `ProcessName`, `RegionName` and `Time`. \n",
    "The `UtilizationFactor` column specifies the maximum utilization factor for the respective technologies in the respective timeslices, and the `MinimumServiceFactor` specifies the minimum service factor of a technology.\n",
    "The timeslice based columns, however, are dynamic and will match the levels as defined in the `toml` file. \n",
    "\n",
    "We will modify the minimum service factor for `gasCCGT` in the `power` sector as follows.\n",
    "\n",
    "| ProcessName | RegionName | Time | month    | day      | hour       | UtilizationFactor | MinimumServiceFactor |\n",
    "|-------------|------------|------|----------|----------|------------|-------------------|----------------------|\n",
    "| Unit        | -          | Year | -        | -        | -          | -                 | -                    |\n",
    "| gasCCGT     | R1         | 2020 | all-year | all-week | night      | 1                 | **0.2**              |\n",
    "| gasCCGT     | R1         | 2020 | all-year | all-week | morning    | 1                 | **0.4**              |\n",
    "| gasCCGT     | R1         | 2020 | all-year | all-week | afternoon  | 1                 | **0.6**              |\n",
    "| gasCCGT     | R1         | 2020 | all-year | all-week | early-peak | 1                 | **0.4**              |\n",
    "| gasCCGT     | R1         | 2020 | all-year | all-week | late-peak  | 1                 | **0.8**              |\n",
    "| gasCCGT     | R1         | 2020 | all-year | all-week | evening    | 1                 | **1**                |\n",
    "| windturbine | R1         | 2020 | all-year | all-week | night      | 1                 | 0                    |\n",
    "| windturbine | R1         | 2020 | all-year | all-week | morning    | 1                 | 0                    |\n",
    "| windturbine | R1         | 2020 | all-year | all-week | afternoon  | 1                 | 0                    |\n",
    "| windturbine | R1         | 2020 | all-year | all-week | early-peak | 1                 | 0                    |\n",
    "| windturbine | R1         | 2020 | all-year | all-week | late-peak  | 1                 | 0                    |\n",
    "| windturbine | R1         | 2020 | all-year | all-week | evening    | 1                 | 0                    |\n"
   ]
  },
  {
   "cell_type": "markdown",
   "metadata": {},
   "source": [
    "Looking at `settings.toml` file, you should see that the file has already been linked to the appropriate sector:\n",
    "\n",
    "```toml\n",
    "[sectors.power]\n",
    "type = 'default'\n",
    "priority = 2\n",
    "dispatch_production = 'costed'\n",
    "technodata = '{path}/technodata/power/Technodata.csv'\n",
    "commodities_in = '{path}/technodata/power/CommIn.csv'\n",
    "commodities_out = '{path}/technodata/power/CommOut.csv'\n",
    "technodata_timeslices = '{path}/technodata/power/TechnodataTimeslices.csv'\n",
    "```\n",
    "    \n",
    "Notice the `technodata_timeslices` path in the bottom row of the code above."
   ]
  },
  {
   "cell_type": "markdown",
   "metadata": {},
   "source": [
    "The `default_timeslice` model also includes one additional output, which gives a detailed breakdown of commodity supply in the power sector:\n",
    "\n",
    "```toml\n",
    "[[sectors.power.outputs]]\n",
    "filename = \"{cwd}/{default_output_dir}/{Sector}_{Quantity}.csv\"\n",
    "sink = \"aggregate\"\n",
    "quantity = \"supply\"\n",
    "```\n",
    "\n",
    "This will create a new file in the results folder called `Power_Supply.csv`, which will be important for the analysis below."
   ]
  },
  {
   "cell_type": "markdown",
   "metadata": {},
   "source": [
    "Once this has been completed, we are able to run MUSE as before, with the following command:\n",
    "\n",
    "    python -m muse settings.toml\n",
    "\n",
    "Next, we will visualise the output of the technologies as before. However, this time we will visualise the supply outputs per technology and per timeslice."
   ]
  },
  {
   "cell_type": "code",
   "execution_count": null,
   "metadata": {},
   "outputs": [],
   "source": [
    "import pandas as pd\n",
    "import seaborn as sns"
   ]
  },
  {
   "cell_type": "code",
   "execution_count": null,
   "metadata": {},
   "outputs": [],
   "source": [
    "power_supply = pd.read_csv(\n",
    "    \"../tutorial-code/7-min-max-timeslice-constraints/1-min-constraint/Results/Power_Supply.csv\"\n",
    ")\n",
    "gassCCGT_electricity_supply_2025 = (\n",
    "    power_supply[\n",
    "        (power_supply.technology == \"gasCCGT\")\n",
    "        & (power_supply.commodity == \"electricity\")\n",
    "        & (power_supply.year == 2025)\n",
    "    ]\n",
    "    .groupby([\"timeslice\", \"technology\"])\n",
    "    .sum()\n",
    "    .reset_index()\n",
    ")\n",
    "\n",
    "ax = sns.barplot(\n",
    "    data=gassCCGT_electricity_supply_2025,\n",
    "    x=\"timeslice\",\n",
    "    y=\"supply\",\n",
    "    hue=\"technology\",\n",
    ")\n",
    "ax.set_title(\"Electricity supply from gasCCGT in 2025\")"
   ]
  },
  {
   "cell_type": "markdown",
   "metadata": {},
   "source": [
    "Here we can see that the supply of electricity by `gasCCGT` in 2025 perfectly matches the values that we inputted for the `MinimumServiceFactor`. Given the capacity of `gasCCGT` in this year of 1 (see the `MCACapacity.csv` file), this suggests that this technology is operating at its minimum permitted level in all timeslices."
   ]
  },
  {
   "cell_type": "markdown",
   "metadata": {},
   "source": [
    "## Maximum timeslice constraint"
   ]
  },
  {
   "cell_type": "markdown",
   "metadata": {},
   "source": [
    "Next, we want to ensure that the supply of `windturbine` does not exceed a certain value during the day. This may be because, for example, there is reduced wind during the day. We will, therefore, modify the `TechnodataTimeslices.csv` file by changing the values of `UtilizationFactor` and `MinimumServiceFactor` as shown.\n",
    "\n",
    "|ProcessName|RegionName|Time|month|day|hour|UtilizationFactor|MinimumServiceFactor|\n",
    "|-|-|-|-|-|-|-|-|\n",
    "|Unit|-|Year|-|-|-|-|-|\n",
    "|gasCCGT|R1|2020|all-year|all-week|night|1|0.2|\n",
    "|gasCCGT|R1|2020|all-year|all-week|morning|1|0.4|\n",
    "|gasCCGT|R1|2020|all-year|all-week|afternoon|1|0.6|\n",
    "|gasCCGT|R1|2020|all-year|all-week|early-peak|1|0.4|\n",
    "|gasCCGT|R1|2020|all-year|all-week|late-peak|1|0.8|\n",
    "|gasCCGT|R1|2020|all-year|all-week|evening|1|1|\n",
    "|windturbine|R1|2020|all-year|all-week|night|1|**0**|\n",
    "|windturbine|R1|2020|all-year|all-week|morning|**0.5**|**0**|\n",
    "|windturbine|R1|2020|all-year|all-week|afternoon|**0.5**|**0**|\n",
    "|windturbine|R1|2020|all-year|all-week|early-peak|1|**0**|\n",
    "|windturbine|R1|2020|all-year|all-week|late-peak|1|**0**|\n",
    "|windturbine|R1|2020|all-year|all-week|evening|1|**0**|\n"
   ]
  },
  {
   "cell_type": "markdown",
   "metadata": {},
   "source": [
    "Once this has been saved, we can run the model again (`python -m muse settings.toml`). Next, we can visualise our results as before. We should hopefully see a reduction in the output of `windturbine` in the 2nd and 3rd timeslices:"
   ]
  },
  {
   "cell_type": "code",
   "execution_count": null,
   "metadata": {},
   "outputs": [],
   "source": [
    "power_supply = pd.read_csv(\n",
    "    \"../tutorial-code/7-min-max-timeslice-constraints/2-max-constraint/Results/Power_Supply.csv\"\n",
    ")\n",
    "windturbine_electricity_supply_2030 = (\n",
    "    power_supply[\n",
    "        (power_supply.technology == \"windturbine\")\n",
    "        & (power_supply.commodity == \"electricity\")\n",
    "        & (power_supply.year == 2030)\n",
    "    ]\n",
    "    .groupby([\"timeslice\", \"technology\"])\n",
    "    .sum()\n",
    "    .reset_index()\n",
    ")\n",
    "\n",
    "ax = sns.barplot(\n",
    "    data=windturbine_electricity_supply_2030,\n",
    "    x=\"timeslice\",\n",
    "    y=\"supply\",\n",
    "    hue=\"technology\",\n",
    ")\n",
    "ax.set_title(\"Electricity supply from windturbine in 2030\")"
   ]
  },
  {
   "cell_type": "markdown",
   "metadata": {},
   "source": [
    "As expected, we can see an enforced reduction in `windturbine` output in the 2nd (1) and 3rd (2) timeslices.\n",
    "\n",
    "From the `MCACapacity.csv` file, we can see that the capacity of `windturbine` in this year is 1. Therefore, the results show that `windturbine` is operating at its maximum permitted level in all timeslices apart from the first, where it's operating below this level."
   ]
  }
 ],
 "metadata": {
  "kernelspec": {
   "display_name": "Python 3.9.0 ('muse39')",
   "language": "python",
   "name": "python3"
  },
  "language_info": {
   "codemirror_mode": {
    "name": "ipython",
    "version": 3
   },
   "file_extension": ".py",
   "mimetype": "text/x-python",
   "name": "python",
   "nbconvert_exporter": "python",
   "pygments_lexer": "ipython3",
   "version": "3.12.4"
  },
  "vscode": {
   "interpreter": {
    "hash": "22ff8bbda430c28f07def99f448c0c69dabbaf0c7d993cae69f87b3c458d04b2"
   }
  }
 },
 "nbformat": 4,
 "nbformat_minor": 4
}
