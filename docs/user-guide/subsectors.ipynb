{
 "cells": [
  {
   "cell_type": "markdown",
   "metadata": {},
   "source": [
    "# Subsectors in MUSE\n",
    "\n",
    "In a previous tutorial (_\"Adding a service demand\"_) we added technologies to the residential sector to service an additional demand for cooking. In this tutorial, we will use this model to explore a feature of MUSE that we haven't touched on yet: subsectors\n",
    "\n",
    "All sectors in MUSE have at least one subsector. For simple sectors servicing a single commodity demand, one subsector is all we need. For example, a power sector servicing just electricity would contain a single subsector (in previous tutorials we would have called this subsector `all`). Within the sector, MUSE will then set up a single optimization problem to meet electricity demands by investing among a set of electricity-producing technologies.\n",
    "\n",
    "However, in the _\"Adding a service demand\"_ tutorial, we created a residential sector that produces __two__ demanded commodities: `cook` and `heat`.\n",
    "\n",
    "This is still possible with a single subsector (as we saw in that tutorial). In this case, MUSE sets up a single optimization problem to meet both `heat` and `cook` demands by investing among a set of `heat`-producing and `cook`-producing technologies. \n",
    "\n",
    "However, given that `heat` and `cook` are serviced by entirely independent sets of technologies, we could alternatively set up two distinct optimization problems: one to service `heat` demands by investing in `heat`-producting technologies, and another the service `cook` demands by investing in `cook`-producing technologies.\n",
    "\n",
    "This can be done by splitting the sector into multiple sectors, which will become clearer as we progress with this tutorial.\n",
    "\n",
    "There are several benefits of doing this. The first is computational, as MUSE now has to solve two simpler optimization problems rather than one larger, more complicated one. For this small example there may be no benefit of this (or the added overhead may outway the gains), but for larger sectors the gains can be substantial (particularly when the sector gets so large that the full linear problem cannot fit within the memory of your machine).\n",
    "\n",
    "The second benefit it that it allows you to specify different agent characteristics/objectives for servicing each commodity. For example, you may wish agents to minimise LCOE when investing in heating technologies, but minimise fuel consumption costs when investing in cooking technologies. We will explore this scenario below."
   ]
  },
  {
   "cell_type": "markdown",
   "metadata": {},
   "source": [
    "## Splitting a sector into subsectors\n",
    "\n",
    "_Note: This tutorial starts off from the model produced in the \"Adding a service demand\" tutorial. If you haven't done so already, please complete that tutorial and save the model input files before coming back to this tutorial_\n",
    "\n",
    "You will see in the settings file that we currently have a single subsector in the residential sector\n",
    "\n",
    "```toml\n",
    "[sectors.residential.subsectors.all]\n",
    "agents = '{path}/Agents.csv'\n",
    "existing_capacity = '{path}/residential/ExistingCapacity.csv'\n",
    "```\n",
    "\n",
    "If we look at the technologies in the sector, we can clearly put them into two groups: `gasboiler` and `heatpump` service `heat`, whereas `electric_stove` and `gas_stove` service `cook`.\n",
    "\n",
    "The first step for splitting a sector into multiple subsectors is to identify the technologies that service each commodity, and split up the existing capacity file along these lines. Currently, our existing capacity file looks as follows:\n",
    "\n",
    "|ProcessName   |RegionName|Unit|2020|2025|2030|2035|2040|2045|2050|\n",
    "|--------------|----------|----|----|----|----|----|----|----|----|\n",
    "|gasboiler     |R1        |PJ/y|10  |5   |0   |0   |0   |0   |0   |\n",
    "|heatpump      |R1        |PJ/y|0   |0   |0   |0   |0   |0   |0   |\n",
    "|electric_stove|R1        |PJ/y|0   |0   |0   |0   |0   |0   |0   |\n",
    "|gas_stove     |R1        |PJ/y|10  |5   |0   |0   |0   |0   |0   |\n",
    "\n",
    "We can split this into two files, one for the heating technologies:\n",
    "\n",
    "|ProcessName   |RegionName|Unit|2020|2025|2030|2035|2040|2045|2050|\n",
    "|--------------|----------|----|----|----|----|----|----|----|----|\n",
    "|gasboiler     |R1        |PJ/y|10  |5   |0   |0   |0   |0   |0   |\n",
    "|heatpump      |R1        |PJ/y|0   |0   |0   |0   |0   |0   |0   |\n",
    "\n",
    "and one for the cooking technologies:\n",
    "\n",
    "|ProcessName   |RegionName|Unit|2020|2025|2030|2035|2040|2045|2050|\n",
    "|--------------|----------|----|----|----|----|----|----|----|----|\n",
    "|electric_stove|R1        |PJ/y|0   |0   |0   |0   |0   |0   |0   |\n",
    "|gas_stove     |R1        |PJ/y|10  |5   |0   |0   |0   |0   |0   |\n",
    "\n",
    "If you save these as `ExistingCapacityHeat.csv` and `ExistingCapacityCook.csv`, you can then create two subsectors in the settings file as follows (replacing the previous `all` subsector):\n",
    "\n",
    "```toml\n",
    "[sectors.residential.subsectors.heat]\n",
    "agents = '{path}/Agents.csv'\n",
    "existing_capacity = '{path}/residential/ExistingCapacityHeat.csv'\n",
    "commodities = [\"heat\"]\n",
    "```\n",
    "\n",
    "```toml\n",
    "[sectors.residential.subsectors.cook]\n",
    "agents = '{path}/Agents.csv'\n",
    "existing_capacity = '{path}/residential/ExistingCapacityCook.csv'\n",
    "commodities = [\"cook\"]\n",
    "```\n",
    "\n",
    "Leave the `agents` field as it is for now, but we will change this later.\n",
    "\n",
    "Note: It's helpful to explicitly state the end-use commodity/commodities in the subsector, but if these are omitted MUSE can figure this out based on the technologies that you put in the existing capacity files. \n",
    "\n",
    "We can now run the model and look at the results:"
   ]
  },
  {
   "cell_type": "code",
   "execution_count": null,
   "metadata": {},
   "outputs": [],
   "source": [
    "import matplotlib.pyplot as plt\n",
    "import pandas as pd\n",
    "\n",
    "mca_capacity = pd.read_csv(\n",
    "    \"../tutorial-code/add-service-demand-subsectors/1-residential-subsectors/Results/MCACapacity.csv\"\n",
    ")\n",
    "\n",
    "fig, axes = plt.subplots(1, 3)\n",
    "all_years = mca_capacity[\"year\"].unique()\n",
    "for ax, (sector_name, sector_data) in zip(axes, mca_capacity.groupby(\"sector\")):\n",
    "    sector_capacity = sector_data.groupby([\"year\", \"technology\"]).sum().reset_index()\n",
    "    sector_capacity.pivot(\n",
    "        index=\"year\", columns=\"technology\", values=\"capacity\"\n",
    "    ).reindex(all_years).plot(kind=\"bar\", stacked=True, ax=ax)\n",
    "    ax.set_ylabel(\"Capacity (PJ)\")\n",
    "    ax.set_xlabel(\"Year\")\n",
    "    ax.set_title(f\"{sector_name.capitalize()} Sector:\", fontsize=10)\n",
    "    ax.legend(title=None, prop={\"size\": 8})\n",
    "    ax.tick_params(axis=\"both\", labelsize=8)\n",
    "\n",
    "fig.set_size_inches(8, 2.5)\n",
    "fig.subplots_adjust(wspace=0.5)"
   ]
  },
  {
   "cell_type": "markdown",
   "metadata": {},
   "source": [
    "You should see that the results are exactly as they were in the previous tutorial. This is a good control, and allows us to move onto the next scenario, where we consider different agent characteristics for each service demand."
   ]
  },
  {
   "cell_type": "markdown",
   "metadata": {},
   "source": [
    "## Subsector-level agents\n",
    "\n",
    "So far, in all tutorials, we have relied on a single agents configuration in all sectors. However, it's possible to specify unique agents at the subsector level. To do this, we must create separate agents files that we link to within each subsector.\n",
    "\n",
    "Start off by copying the existing agents file to create two new files within the residential folder: `AgentsHeat.csv` and `AgentsCook.csv`. Then link to these from the settings file as follows:\n",
    "\n",
    "```toml\n",
    "[sectors.residential.subsectors.heat]\n",
    "agents = '{path}/residential/AgentsHeat.csv'\n",
    "existing_capacity = '{path}/residential/ExistingCapacityHeat.csv'\n",
    "commodities = [\"heat\"]\n",
    "```\n",
    "\n",
    "```toml\n",
    "[sectors.residential.subsectors.cook]\n",
    "agents = '{path}/residential/AgentsCook.csv'\n",
    "existing_capacity = '{path}/residential/ExistingCapacityCook.csv'\n",
    "commodities = [\"cook\"]\n",
    "```\n",
    "\n",
    "Note: It's up to you how you organise your files, as long as you reference them properly in the settings file (for example, you may wish to create separate folders for each subsector).\n",
    "\n",
    "We can now modify these files to specify different agent configurations within each subsector. To demonstrate this, open up the `AgentsCook.csv` file and change the objective from `LCOE` to `fuel_consumption_cost`. Now we can run the model again and compare the results:"
   ]
  },
  {
   "cell_type": "code",
   "execution_count": null,
   "metadata": {},
   "outputs": [],
   "source": [
    "mca_capacity = pd.read_csv(\n",
    "    \"../tutorial-code/add-service-demand-subsectors/2-agents/Results/MCACapacity.csv\"\n",
    ")\n",
    "\n",
    "fig, axes = plt.subplots(1, 3)\n",
    "all_years = mca_capacity[\"year\"].unique()\n",
    "for ax, (sector_name, sector_data) in zip(axes, mca_capacity.groupby(\"sector\")):\n",
    "    sector_capacity = sector_data.groupby([\"year\", \"technology\"]).sum().reset_index()\n",
    "    sector_capacity.pivot(\n",
    "        index=\"year\", columns=\"technology\", values=\"capacity\"\n",
    "    ).reindex(all_years).plot(kind=\"bar\", stacked=True, ax=ax)\n",
    "    ax.set_ylabel(\"Capacity (PJ)\")\n",
    "    ax.set_xlabel(\"Year\")\n",
    "    ax.set_title(f\"{sector_name.capitalize()} Sector:\", fontsize=10)\n",
    "    ax.legend(title=None, prop={\"size\": 8})\n",
    "    ax.tick_params(axis=\"both\", labelsize=8)\n",
    "\n",
    "fig.set_size_inches(8, 2.5)\n",
    "fig.subplots_adjust(wspace=0.5)"
   ]
  },
  {
   "cell_type": "markdown",
   "metadata": {},
   "source": [
    "You should see that investment decisions for heating technologies (`gasboiler` and `heatpump`) are exactly the same as before, but a new scenario emerges for cooking technologies with a strong preference for `gas_stove` over `electric_stove`. This also has consequences for the gas and power sectors, which adapt to meet the shifting demands for gas and electricity (i.e. higher gas demand and lower electricity demand compared to the previous scenario)."
   ]
  },
  {
   "cell_type": "markdown",
   "metadata": {},
   "source": [
    "## Summary\n",
    "\n",
    "In this tutorial we have shown how to split a sector into multiple subsectors. In general, this is possible if the sector services multiple end-use commodities, and there are distinct groups of technologies that service each of these commodities.\n",
    "\n",
    "This will not always be the case. For example, if there was a technology that serviced both `heat` and `cook` (such as an AGA), it wouldn't be possible to split up the sector in this way.\n",
    "\n",
    "You are encouraged to think about this for your own models, and carefully consider whether each sector can be split up into multiple subsectors. Not only is there a potential computational benefit of doing so, but this also allows us to explore new scenarios by setting different agent properties in each subsector. We've shown an example here involving agent objectives, but you could also modify the search space, decision rule, or even the relative demand shares of agents in multi-agent simulations (as represented by the \"Quantity\" column)."
   ]
  },
  {
   "cell_type": "markdown",
   "metadata": {},
   "source": []
  }
 ],
 "metadata": {
  "kernelspec": {
   "display_name": "muse_env",
   "language": "python",
   "name": "python3"
  },
  "language_info": {
   "codemirror_mode": {
    "name": "ipython",
    "version": 3
   },
   "file_extension": ".py",
   "mimetype": "text/x-python",
   "name": "python",
   "nbconvert_exporter": "python",
   "pygments_lexer": "ipython3",
   "version": "3.12.4"
  }
 },
 "nbformat": 4,
 "nbformat_minor": 2
}
