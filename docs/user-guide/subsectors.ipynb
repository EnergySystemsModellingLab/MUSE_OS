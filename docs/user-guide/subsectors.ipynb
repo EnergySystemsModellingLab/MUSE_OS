{
 "cells": [
  {
   "cell_type": "code",
   "execution_count": null,
   "metadata": {},
   "outputs": [],
   "source": [
    "import matplotlib.pyplot as plt\n",
    "import pandas as pd"
   ]
  },
  {
   "cell_type": "code",
   "execution_count": null,
   "metadata": {},
   "outputs": [],
   "source": [
    "mca_capacity = pd.read_csv(\n",
    "    \"../tutorial-code/add-service-demand-subsectors/1-residential-subsectors/Results/MCACapacity.csv\"\n",
    ")\n",
    "mca_capacity.head()"
   ]
  },
  {
   "cell_type": "code",
   "execution_count": null,
   "metadata": {},
   "outputs": [],
   "source": [
    "fig, axes = plt.subplots(1, 3)\n",
    "all_years = mca_capacity[\"year\"].unique()\n",
    "for ax, (sector_name, sector_data) in zip(axes, mca_capacity.groupby(\"sector\")):\n",
    "    sector_capacity = sector_data.groupby([\"year\", \"technology\"]).sum().reset_index()\n",
    "    sector_capacity.pivot(\n",
    "        index=\"year\", columns=\"technology\", values=\"capacity\"\n",
    "    ).reindex(all_years).plot(kind=\"bar\", stacked=True, ax=ax)\n",
    "    ax.set_ylabel(\"Capacity (PJ)\")\n",
    "    ax.set_xlabel(\"Year\")\n",
    "    ax.set_title(f\"{sector_name.capitalize()} Sector:\", fontsize=10)\n",
    "    ax.legend(title=None, prop={\"size\": 8})\n",
    "    ax.tick_params(axis=\"both\", labelsize=8)\n",
    "\n",
    "fig.set_size_inches(8, 2.5)\n",
    "fig.subplots_adjust(wspace=0.5)"
   ]
  },
  {
   "cell_type": "code",
   "execution_count": null,
   "metadata": {},
   "outputs": [],
   "source": [
    "mca_capacity = pd.read_csv(\n",
    "    \"../tutorial-code/add-service-demand-subsectors/2-agents/Results/MCACapacity.csv\"\n",
    ")\n",
    "mca_capacity.head()"
   ]
  },
  {
   "cell_type": "code",
   "execution_count": null,
   "metadata": {},
   "outputs": [],
   "source": [
    "fig, axes = plt.subplots(1, 3)\n",
    "all_years = mca_capacity[\"year\"].unique()\n",
    "for ax, (sector_name, sector_data) in zip(axes, mca_capacity.groupby(\"sector\")):\n",
    "    sector_capacity = sector_data.groupby([\"year\", \"technology\"]).sum().reset_index()\n",
    "    sector_capacity.pivot(\n",
    "        index=\"year\", columns=\"technology\", values=\"capacity\"\n",
    "    ).reindex(all_years).plot(kind=\"bar\", stacked=True, ax=ax)\n",
    "    ax.set_ylabel(\"Capacity (PJ)\")\n",
    "    ax.set_xlabel(\"Year\")\n",
    "    ax.set_title(f\"{sector_name.capitalize()} Sector:\", fontsize=10)\n",
    "    ax.legend(title=None, prop={\"size\": 8})\n",
    "    ax.tick_params(axis=\"both\", labelsize=8)\n",
    "\n",
    "fig.set_size_inches(8, 2.5)\n",
    "fig.subplots_adjust(wspace=0.5)"
   ]
  },
  {
   "cell_type": "code",
   "execution_count": null,
   "metadata": {},
   "outputs": [],
   "source": []
  }
 ],
 "metadata": {
  "kernelspec": {
   "display_name": "muse_env",
   "language": "python",
   "name": "python3"
  },
  "language_info": {
   "codemirror_mode": {
    "name": "ipython",
    "version": 3
   },
   "file_extension": ".py",
   "mimetype": "text/x-python",
   "name": "python",
   "nbconvert_exporter": "python",
   "pygments_lexer": "ipython3",
   "version": "3.12.4"
  }
 },
 "nbformat": 4,
 "nbformat_minor": 2
}
