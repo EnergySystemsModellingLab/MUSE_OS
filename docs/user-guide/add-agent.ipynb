{
 "cells": [
  {
   "cell_type": "markdown",
   "metadata": {},
   "source": [
    "# Adding an agent"
   ]
  },
  {
   "cell_type": "markdown",
   "metadata": {},
   "source": [
    "This tutorial will show how we can add additional agents to the model, and modify the objectives of these agents. \n",
    "\n",
    "Again, we will build off the default model that comes with MUSE. To copy the files for this model, run:\n",
    "\n",
    "```bash\n",
    "python -m muse --model default --copy PATH/TO/COPY/THE/MODEL/TO\n",
    "```\n",
    "\n",
    "We will begin by adding a second agent to this model. Compared to the current agent, which bases investment decisions on minimising [LCOE](https://en.wikipedia.org/wiki/Levelized_cost_of_electricity), the second agent will aim to minimise fuel consumption costs.\n",
    "\n",
    "## Creating an agent\n",
    "\n",
    "To create the new agent, we must first modify the ```Agents.csv``` file in the directory:\n",
    "\n",
    "    {PATH_TO_MODEL}/Agents.csv"
   ]
  },
  {
   "cell_type": "markdown",
   "metadata": {},
   "source": [
    "To start with, we will copy the data for agent `A1` to create a new agent `A2`, and we will change the objective of this agent to `fuel_consumption_cost`. We keep `Objsort1` as True, which indicates that the objective should be minimised, rather than maximised. Also notice that we amend the `Quantity` column, to specify that each agent makes up 50% of the population.\n",
    "\n",
    "Again, we only show some of the columns due to space constraints, however see [here](https://github.com/EnergySystemsModellingLab/MUSE_OS/blob/main/docs/tutorial-code/2-add-agent/1-single-objective/technodata/Agents.csv) for the full file.\n",
    "\n",
    "|AgentShare|Name|RegionName|Objective1|…|ObjData1|…|DecisionMethod|Quantity|…|Type|\n",
    "|-|-|-|-|-|-|-|-|-|-|-|\n",
    "|Agent1|A1|R1|LCOE|…|1|…|singleObj|**0.5**|…|New|\n",
    "|**Agent2**|**A2**|**R1**|**fuel_consumption_cost**|…|**1**|…|**singleObj**|**0.5**|…|**New**|"
   ]
  },
  {
   "cell_type": "markdown",
   "metadata": {},
   "source": [
    "We then edit all of the `Technodata` files to split the existing capacity between the two agents by the proportions we like. As we now have two agents which take up 50% of the population each, we will split the existing capacity by 50% for each of the agents. \n",
    "\n",
    "The new technodata file for the power sector should look like the following:\n",
    "\n",
    "|ProcessName|RegionName|Time|cap_par|cap_exp|…|Fuel|EndUse|Agent1|Agent2|\n",
    "|-|-|-|-|-|-|-|-|-|-|\n",
    "|Unit|-|Year|MUS$2010/PJ_a|-|…|-|-|New|**New**|\n",
    "|gasCCGT|R1|2020|23.78234399|1|…|gas|electricity|**0.5**|**0.5**|\n",
    "|windturbine|R1|2020|36.30771182|1|…|wind|electricity|**0.5**|**0.5**|\n",
    "\n",
    "Remember you will have to make the same changes for the residential and gas sectors!"
   ]
  },
  {
   "cell_type": "markdown",
   "metadata": {},
   "source": [
    "We will now save this file and run the new simulation model using the following command:\n",
    "\n",
    "    python -m muse settings.toml\n",
    "\n",
    "Again, we use seaborn and pandas to analyse the data in the ```Results``` folder."
   ]
  },
  {
   "cell_type": "code",
   "execution_count": null,
   "metadata": {},
   "outputs": [],
   "source": [
    "import matplotlib.pyplot as plt\n",
    "import pandas as pd\n",
    "import seaborn as sns"
   ]
  },
  {
   "cell_type": "code",
   "execution_count": null,
   "metadata": {},
   "outputs": [],
   "source": [
    "mca_capacity = pd.read_csv(\n",
    "    \"../tutorial-code/add-agent/1-single-objective/Results/MCACapacity.csv\"\n",
    ")\n",
    "mca_capacity.head()"
   ]
  },
  {
   "cell_type": "markdown",
   "metadata": {},
   "source": [
    "This time we can see that there is data for the new agent, `A2`. Next, we will visualise the investments made by each of the agents using seaborn's facetgrid command. For simplicity, we will only visualise the residential sector."
   ]
  },
  {
   "cell_type": "code",
   "execution_count": null,
   "metadata": {},
   "outputs": [],
   "source": [
    "mca_capacity = pd.read_csv(\n",
    "    \"../tutorial-code/add-agent/1-single-objective/Results/MCACapacity.csv\"\n",
    ")\n",
    "sector_data = mca_capacity[mca_capacity[\"sector\"] == \"residential\"]\n",
    "sector_capacity = (\n",
    "    sector_data.groupby([\"year\", \"agent\", \"technology\"]).sum().reset_index()\n",
    ")\n",
    "g = sns.FacetGrid(data=sector_capacity, col=\"agent\")\n",
    "g.map_dataframe(\n",
    "    lambda data, **kwargs: data.pivot(\n",
    "        index=\"year\", columns=\"technology\", values=\"capacity\"\n",
    "    ).plot(kind=\"bar\", stacked=True, ax=plt.gca())\n",
    ")\n",
    "g.add_legend()\n",
    "g.set_ylabels(\"Capacity (PJ)\")\n",
    "g.figure.suptitle(\"Residential Sector:\")\n",
    "g.figure.subplots_adjust(top=0.8)"
   ]
  },
  {
   "cell_type": "markdown",
   "metadata": {},
   "source": [
    "We can see different results between the two agents. Whilst agent `A1` invests heavily in heat pumps, agent `A2` invests entirely in gas boilers, due to the lower fuel costs of this technology."
   ]
  },
  {
   "cell_type": "markdown",
   "metadata": {},
   "source": [
    "## Combining multiple objectives\n",
    "\n",
    "We can also use multiple objectives for a single agent, combining objectives by taking a weighted sum. We will try this for agent A2, using both `fuel_consumption_cost` and `LCOE` with relative weights of 0.5 each.\n",
    "\n",
    "To do this, we need to add the new objective in the `Objective2` column, use `Objsort2` to indicate that this objective should be minimised, modify `DecisionMethod` to indicate that a weighted sum should be taken between the two objectives, and specify the weights of the two objectives in `ObjData1` and `ObjData2`:\n",
    "\n",
    "|AgentShare|Name|RegionName|Objective1|Objective2|…|ObjData1|ObjData2|…|Objsort2|…|DecisionMethod|Quantity|…|Type|\n",
    "|-|-|-|-|-|-|-|-|-|-|-|-|-|-|-|\n",
    "|Agent1|A1|R1|LCOE||…|1||…||…|singleObj|0.5|…|New|\n",
    "|Agent2|A2|R1|fuel_consumption_cost|**LCOE**|…|**0.5**|**0.5**|…|**True**|…|**weighted_sum**|0.5|…|New|"
   ]
  },
  {
   "cell_type": "markdown",
   "metadata": {},
   "source": [
    "We will then re-run the simulation, and visualise the results as before:"
   ]
  },
  {
   "cell_type": "code",
   "execution_count": null,
   "metadata": {},
   "outputs": [],
   "source": [
    "mca_capacity = pd.read_csv(\n",
    "    \"../tutorial-code/add-agent/2-multiple-objective/Results/MCACapacity.csv\"\n",
    ")\n",
    "sector_data = mca_capacity[mca_capacity[\"sector\"] == \"residential\"]\n",
    "sector_capacity = (\n",
    "    sector_data.groupby([\"year\", \"agent\", \"technology\"]).sum().reset_index()\n",
    ")\n",
    "g = sns.FacetGrid(data=sector_capacity, col=\"agent\")\n",
    "g.map_dataframe(\n",
    "    lambda data, **kwargs: data.pivot(\n",
    "        index=\"year\", columns=\"technology\", values=\"capacity\"\n",
    "    ).plot(kind=\"bar\", stacked=True, ax=plt.gca())\n",
    ")\n",
    "g.add_legend()\n",
    "g.set_ylabels(\"Capacity (PJ)\")\n",
    "g.figure.suptitle(\"Residential Sector:\")\n",
    "g.figure.subplots_adjust(top=0.8)"
   ]
  },
  {
   "cell_type": "markdown",
   "metadata": {},
   "source": [
    "In this scenario we can see that agent `A2` has an intermediate behaviour compared to the two agents in the first simulation, investing in both gas boilers and heat pumps.\n",
    "\n",
    "## Summary\n",
    "\n",
    "From this small scenario, the difference between investment strategies between agents is evident. This is one of the key benefits of agent-based models when compared to optimisation-based models.\n",
    "\n",
    "Have a play around with the files to see if you can come up with different scenarios!"
   ]
  }
 ],
 "metadata": {
  "kernelspec": {
   "display_name": "muse_env",
   "language": "python",
   "name": "python3"
  },
  "language_info": {
   "codemirror_mode": {
    "name": "ipython",
    "version": 3
   },
   "file_extension": ".py",
   "mimetype": "text/x-python",
   "name": "python",
   "nbconvert_exporter": "python",
   "pygments_lexer": "ipython3",
   "version": "3.12.4"
  }
 },
 "nbformat": 4,
 "nbformat_minor": 4
}
