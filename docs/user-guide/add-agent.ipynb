{
 "cells": [
  {
   "cell_type": "markdown",
   "metadata": {},
   "source": [
    "# Adding an agent"
   ]
  },
  {
   "cell_type": "markdown",
   "metadata": {},
   "source": [
    "In this section, we will add a new agent called \"A2\". This agent will be slightly different to the other agents in the ```default``` example, in that it will make investments based upon a mixture of levelised cost of electricity (LCOE) and net present value (NPV). These two objectives will be combined by calculating the mean of the two when comparing potential investment options.\n",
    "\n",
    "To achieve this, we must modify the ```Agents.csv``` file in the directory:\n",
    "\n",
    "`{muse_install_location}/src/muse/data/example/default/technodata/Agents.csv`"
   ]
  },
  {
   "cell_type": "markdown",
   "metadata": {},
   "source": [
    "To do this, we will add two new rows to the file. To simplify the process, we copy the data from the first two rows of agent \"A1\", changing only the rows: ```Name```, ```Objective1```, ```Objective2```, ```ObjData1```, ```ObjData2``` and ```DecisionMethod```. The values we changed can be seen below:\n",
    "\n",
    "|AgentShare|Name|AgentNumber|RegionName|Objective1|Objective2|Objective3|ObjData1|ObjData2|…|DecisionMethod|…|Type|\n",
    "|-|-|-|-|-|-|-|-|-|-|-|-|-|\n",
    "|Agent1|A1|1|R1|LCOE|||1||…|singleObj|…|New|\n",
    "|Agent2|A1|2|R1|LCOE|||1||…|singleObj|…|Retrofit|\n",
    "|**Agent1**|**A2**|**1**|**R1**|**LCOE**|**NPV**||**1**|**1**|**…**|**mean**|**…**|**New**|\n",
    "|**Agent2**|**A2**|**2**|**R1**|**LCOE**|**NPV**||**1**|**1**|**…**|**mean**|**…**|**Retrofit**|"
   ]
  },
  {
   "cell_type": "markdown",
   "metadata": {},
   "source": [
    "We will now save this file and run the new simulation model using the following command:\n",
    "\n",
    "```python -m muse settings.toml```\n",
    "\n",
    "Again, we use seaborn and pandas to analyse the data in the ```Results``` folder."
   ]
  },
  {
   "cell_type": "code",
   "execution_count": 6,
   "metadata": {},
   "outputs": [],
   "source": [
    "import pandas as pd\n",
    "import seaborn as sns"
   ]
  },
  {
   "cell_type": "code",
   "execution_count": 19,
   "metadata": {},
   "outputs": [
    {
     "data": {
      "text/html": [
       "<div>\n",
       "<style scoped>\n",
       "    .dataframe tbody tr th:only-of-type {\n",
       "        vertical-align: middle;\n",
       "    }\n",
       "\n",
       "    .dataframe tbody tr th {\n",
       "        vertical-align: top;\n",
       "    }\n",
       "\n",
       "    .dataframe thead th {\n",
       "        text-align: right;\n",
       "    }\n",
       "</style>\n",
       "<table border=\"1\" class=\"dataframe\">\n",
       "  <thead>\n",
       "    <tr style=\"text-align: right;\">\n",
       "      <th></th>\n",
       "      <th>technology</th>\n",
       "      <th>region</th>\n",
       "      <th>agent</th>\n",
       "      <th>type</th>\n",
       "      <th>sector</th>\n",
       "      <th>capacity</th>\n",
       "      <th>year</th>\n",
       "    </tr>\n",
       "  </thead>\n",
       "  <tbody>\n",
       "    <tr>\n",
       "      <th>2</th>\n",
       "      <td>gasCCGT</td>\n",
       "      <td>R1</td>\n",
       "      <td>A1</td>\n",
       "      <td>retrofit</td>\n",
       "      <td>power</td>\n",
       "      <td>1.000</td>\n",
       "      <td>2020</td>\n",
       "    </tr>\n",
       "    <tr>\n",
       "      <th>3</th>\n",
       "      <td>gasCCGT</td>\n",
       "      <td>R1</td>\n",
       "      <td>A2</td>\n",
       "      <td>retrofit</td>\n",
       "      <td>power</td>\n",
       "      <td>1.000</td>\n",
       "      <td>2020</td>\n",
       "    </tr>\n",
       "    <tr>\n",
       "      <th>10</th>\n",
       "      <td>gasCCGT</td>\n",
       "      <td>R1</td>\n",
       "      <td>A1</td>\n",
       "      <td>retrofit</td>\n",
       "      <td>power</td>\n",
       "      <td>1.000</td>\n",
       "      <td>2025</td>\n",
       "    </tr>\n",
       "    <tr>\n",
       "      <th>11</th>\n",
       "      <td>windturbine</td>\n",
       "      <td>R1</td>\n",
       "      <td>A1</td>\n",
       "      <td>retrofit</td>\n",
       "      <td>power</td>\n",
       "      <td>5.172</td>\n",
       "      <td>2025</td>\n",
       "    </tr>\n",
       "    <tr>\n",
       "      <th>12</th>\n",
       "      <td>gasCCGT</td>\n",
       "      <td>R1</td>\n",
       "      <td>A2</td>\n",
       "      <td>retrofit</td>\n",
       "      <td>power</td>\n",
       "      <td>11.000</td>\n",
       "      <td>2025</td>\n",
       "    </tr>\n",
       "  </tbody>\n",
       "</table>\n",
       "</div>"
      ],
      "text/plain": [
       "     technology region agent      type sector  capacity  year\n",
       "2       gasCCGT     R1    A1  retrofit  power     1.000  2020\n",
       "3       gasCCGT     R1    A2  retrofit  power     1.000  2020\n",
       "10      gasCCGT     R1    A1  retrofit  power     1.000  2025\n",
       "11  windturbine     R1    A1  retrofit  power     5.172  2025\n",
       "12      gasCCGT     R1    A2  retrofit  power    11.000  2025"
      ]
     },
     "execution_count": 19,
     "metadata": {},
     "output_type": "execute_result"
    }
   ],
   "source": [
    "mca_capacity = pd.read_csv(\"../Results/MCACapacity.csv\")\n",
    "power_sector = mca_capacity[mca_capacity.sector==\"power\"]\n",
    "power_sector.head()"
   ]
  },
  {
   "cell_type": "markdown",
   "metadata": {},
   "source": [
    "This time we can see that there is data for the new agent, \"A2\". Next, we will visualise the investments made by each of the agents using seaborn's facetgrid command."
   ]
  },
  {
   "cell_type": "code",
   "execution_count": 20,
   "metadata": {},
   "outputs": [
    {
     "data": {
      "text/plain": [
       "<seaborn.axisgrid.FacetGrid at 0x7f95819b4730>"
      ]
     },
     "execution_count": 20,
     "metadata": {},
     "output_type": "execute_result"
    },
    {
     "data": {
      "image/png": "[encoded data removed]",
      "text/plain": [
       "<Figure size 311.75x432 with 2 Axes>"
      ]
     },
     "metadata": {
      "needs_background": "light"
     },
     "output_type": "display_data"
    }
   ],
   "source": [
    "g=sns.FacetGrid(power_sector, row='agent')\n",
    "g.map(sns.lineplot, \"year\", \"capacity\", \"technology\")\n",
    "g.add_legend()"
   ]
  },
  {
   "cell_type": "markdown",
   "metadata": {},
   "source": [
    "In this scenario, agent \"A1\" is investing using LCOE, whereas agent \"A2\" is investing based on the mean of the objectives: LCOE and NPV in the same region. A different strategy is employed by these agents with \"A2\" investing in gasCCGT and windturbines, whereas A1 invests in solarPV."
   ]
  },
  {
   "cell_type": "markdown",
   "metadata": {},
   "source": [
    "Next, we will see what occurs if the agents invest based upon the same investment strategy, with both investing using NPV. This requires to edit the ```Agents.csv``` file once more, to look like the following:\n",
    "\n",
    "|AgentShare|Name|AgentNumber|RegionName|Objective1|Objective2|Objective3|ObjData1|ObjData2|…|DecisionMethod|…|Type|\n",
    "|-|-|-|-|-|-|-|-|-|-|-|-|-|\n",
    "|Agent1|A1|1|R1|LCOE|||1||…|singleObj|…|New|\n",
    "|Agent2|A1|2|R1|LCOE|||1||…|singleObj|…|Retrofit|\n",
    "|Agent1|A2|1|R1|**LCOE**|||**1**||…|**singleObj**|…|New|\n",
    "|Agent2|A2|2|R1|**LCOE**|||**1**||…|**singleObj**|…|Retrofit|"
   ]
  },
  {
   "cell_type": "markdown",
   "metadata": {},
   "source": [
    "Again, this requires rerunning of the simulation, and visualisation like before:"
   ]
  },
  {
   "cell_type": "code",
   "execution_count": 21,
   "metadata": {},
   "outputs": [
    {
     "data": {
      "text/plain": [
       "<seaborn.axisgrid.FacetGrid at 0x7f957e5f0970>"
      ]
     },
     "execution_count": 21,
     "metadata": {},
     "output_type": "execute_result"
    },
    {
     "data": {
      "image/png": "[encoded data removed]",
      "text/plain": [
       "<Figure size 311.75x432 with 2 Axes>"
      ]
     },
     "metadata": {
      "needs_background": "light"
     },
     "output_type": "display_data"
    }
   ],
   "source": [
    "mca_capacity = pd.read_csv(\"../Results/MCACapacity.csv\")\n",
    "power_sector = mca_capacity[mca_capacity.sector==\"power\"]\n",
    "g=sns.FacetGrid(power_sector, row='agent')\n",
    "g.map(sns.lineplot, \"year\", \"capacity\", \"technology\")\n",
    "g.add_legend()"
   ]
  },
  {
   "cell_type": "markdown",
   "metadata": {},
   "source": [
    "In this new scenario, with both agents running the same objective, very similar results can be seen, with a high investmwent in ```windturbine```, none in ```solarPV``` and low ```gasCCGT```."
   ]
  }
 ],
 "metadata": {
  "kernelspec": {
   "display_name": "Python 3",
   "language": "python",
   "name": "python3"
  },
  "language_info": {
   "codemirror_mode": {
    "name": "ipython",
    "version": 3
   },
   "file_extension": ".py",
   "mimetype": "text/x-python",
   "name": "python",
   "nbconvert_exporter": "python",
   "pygments_lexer": "ipython3",
   "version": "3.8.3"
  }
 },
 "nbformat": 4,
 "nbformat_minor": 4
}
