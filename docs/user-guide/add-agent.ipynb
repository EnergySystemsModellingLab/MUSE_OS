{
 "cells": [
  {
   "cell_type": "markdown",
   "metadata": {},
   "source": [
    "# Adding an agent"
   ]
  },
  {
   "cell_type": "markdown",
   "metadata": {},
   "source": [
    "In this section, we will add a new agent called `A2`. This agent will be slightly different to the other agents in the ```default``` example, in that it will make investments based upon a mixture of [levelised cost of electricity (LCOE)](https://en.wikipedia.org/wiki/Levelized_cost_of_energy) and [equivalent annual cost (EAC)](https://en.wikipedia.org/wiki/Equivalent_annual_cost). These two objectives will be combined by calculating a weighted sum of the two when comparing potential investment options. We will give the LCOE a relative weight value of 1 and the EAC a relative weight value  of 0.25.\n",
    "\n",
    "We will continue to use the files from the previous tutorial where we added `solarPV` and created a new scenario. \n",
    "\n",
    "To achieve this, first, we must modify the ```Agents.csv``` file in the directory:\n",
    "\n",
    "    {muse_install_location}/src/muse/data/example/default/technodata/Agents.csv"
   ]
  },
  {
   "cell_type": "markdown",
   "metadata": {},
   "source": [
    "To do this, we will add two new rows to the file. To simplify the process, we copy the data from the first two rows of agent `A1`, changing only the rows: ```Name```, ```Objective1```, ```Objective2```, ```ObjData1```, ```ObjData2``` and ```DecisionMethod```. The values we changed can be seen below. Again, we only show some of the rows due to space constraints, however see [here INSERT LINK HERE](broken-link) for the full file.\n",
    "\n",
    "|AgentShare|Name|RegionName|Objective1|Objective2|Objective3|ObjData1|ObjData2|…|DecisionMethod|…|Type|\n",
    "|-|-|-|-|-|-|-|-|-|-|-|-|\n",
    "|Agent1|A1|R1|LCOE|||1||…|singleObj|…|New|\n",
    "|Agent2|A1|R1|LCOE|||1||…|singleObj|…|Retrofit|\n",
    "|**Agent1**|**A2**|**R1**|**LCOE**|**EAC**||**1**|**0.25**|**…**|**weighted_sum**|**…**|**New**|\n",
    "|**Agent2**|**A2**|**R1**|**LCOE**|**EAC**||**1**|**0.25**|**…**|**weighted_sum**|**…**|**Retrofit**|\n"
   ]
  },
  {
   "cell_type": "markdown",
   "metadata": {},
   "source": [
    "We will now save this file and run the new simulation model using the following command in Anaconda prompt:\n",
    "\n",
    "    python -m muse settings.toml\n",
    "\n",
    "Again, we use seaborn and pandas to analyse the data in the ```Results``` folder."
   ]
  },
  {
   "cell_type": "code",
   "execution_count": 1,
   "metadata": {},
   "outputs": [],
   "source": [
    "import pandas as pd\n",
    "import seaborn as sns"
   ]
  },
  {
   "cell_type": "code",
   "execution_count": 2,
   "metadata": {},
   "outputs": [
    {
     "data": {
      "text/html": [
       "<div>\n",
       "<style scoped>\n",
       "    .dataframe tbody tr th:only-of-type {\n",
       "        vertical-align: middle;\n",
       "    }\n",
       "\n",
       "    .dataframe tbody tr th {\n",
       "        vertical-align: top;\n",
       "    }\n",
       "\n",
       "    .dataframe thead th {\n",
       "        text-align: right;\n",
       "    }\n",
       "</style>\n",
       "<table border=\"1\" class=\"dataframe\">\n",
       "  <thead>\n",
       "    <tr style=\"text-align: right;\">\n",
       "      <th></th>\n",
       "      <th>technology</th>\n",
       "      <th>region</th>\n",
       "      <th>agent</th>\n",
       "      <th>type</th>\n",
       "      <th>sector</th>\n",
       "      <th>capacity</th>\n",
       "      <th>year</th>\n",
       "    </tr>\n",
       "  </thead>\n",
       "  <tbody>\n",
       "    <tr>\n",
       "      <th>2</th>\n",
       "      <td>gasCCGT</td>\n",
       "      <td>R1</td>\n",
       "      <td>A1</td>\n",
       "      <td>retrofit</td>\n",
       "      <td>power</td>\n",
       "      <td>1.0000</td>\n",
       "      <td>2020</td>\n",
       "    </tr>\n",
       "    <tr>\n",
       "      <th>3</th>\n",
       "      <td>gasCCGT</td>\n",
       "      <td>R1</td>\n",
       "      <td>A2</td>\n",
       "      <td>retrofit</td>\n",
       "      <td>power</td>\n",
       "      <td>1.0000</td>\n",
       "      <td>2020</td>\n",
       "    </tr>\n",
       "    <tr>\n",
       "      <th>10</th>\n",
       "      <td>gasCCGT</td>\n",
       "      <td>R1</td>\n",
       "      <td>A1</td>\n",
       "      <td>retrofit</td>\n",
       "      <td>power</td>\n",
       "      <td>1.0000</td>\n",
       "      <td>2025</td>\n",
       "    </tr>\n",
       "    <tr>\n",
       "      <th>11</th>\n",
       "      <td>windturbine</td>\n",
       "      <td>R1</td>\n",
       "      <td>A1</td>\n",
       "      <td>retrofit</td>\n",
       "      <td>power</td>\n",
       "      <td>8.4048</td>\n",
       "      <td>2025</td>\n",
       "    </tr>\n",
       "    <tr>\n",
       "      <th>12</th>\n",
       "      <td>gasCCGT</td>\n",
       "      <td>R1</td>\n",
       "      <td>A2</td>\n",
       "      <td>retrofit</td>\n",
       "      <td>power</td>\n",
       "      <td>1.0000</td>\n",
       "      <td>2025</td>\n",
       "    </tr>\n",
       "  </tbody>\n",
       "</table>\n",
       "</div>"
      ],
      "text/plain": [
       "     technology region agent      type sector  capacity  year\n",
       "2       gasCCGT     R1    A1  retrofit  power    1.0000  2020\n",
       "3       gasCCGT     R1    A2  retrofit  power    1.0000  2020\n",
       "10      gasCCGT     R1    A1  retrofit  power    1.0000  2025\n",
       "11  windturbine     R1    A1  retrofit  power    8.4048  2025\n",
       "12      gasCCGT     R1    A2  retrofit  power    1.0000  2025"
      ]
     },
     "execution_count": 2,
     "metadata": {},
     "output_type": "execute_result"
    }
   ],
   "source": [
    "mca_capacity = pd.read_csv(\"../tutorial-code/2-add-agent/1-multiple-objective/Results/MCACapacity.csv\")\n",
    "power_sector = mca_capacity[mca_capacity.sector==\"power\"]\n",
    "power_sector.head()"
   ]
  },
  {
   "cell_type": "markdown",
   "metadata": {},
   "source": [
    "This time we can see that there is data for the new agent, `A2`. Next, we will visualise the investments made by each of the agents using seaborn's facetgrid command."
   ]
  },
  {
   "cell_type": "code",
   "execution_count": 3,
   "metadata": {},
   "outputs": [
    {
     "data": {
      "text/plain": [
       "<seaborn.axisgrid.FacetGrid at 0x7faaf03cfcd0>"
      ]
     },
     "execution_count": 3,
     "metadata": {},
     "output_type": "execute_result"
    },
    {
     "data": {
      "image/png": "[encoded data removed]",
      "text/plain": [
       "<Figure size 311.75x432 with 2 Axes>"
      ]
     },
     "metadata": {
      "needs_background": "light"
     },
     "output_type": "display_data"
    }
   ],
   "source": [
    "g=sns.FacetGrid(power_sector, row='agent')\n",
    "g.map(sns.lineplot, \"year\", \"capacity\", \"technology\")\n",
    "g.add_legend()"
   ]
  },
  {
   "cell_type": "markdown",
   "metadata": {},
   "source": [
    "In this scenario we can see two divergent strategies. Agent `A2` invests heavily in `solarPV` and `windturbine`, and less so in `gasCCGT`. Whereas Agent `A1`  invests primarily in `solarPV`. \n",
    "\n",
    "From this small scenario, the difference between investment strategies between agents is evident. This is one of the key benefits of agent-based models when compared to optimisation based models."
   ]
  },
  {
   "cell_type": "markdown",
   "metadata": {},
   "source": [
    "Next, we will see what occurs if the agents invest based upon the same investment strategy, with both investing using LCOE. This requires us to edit the ```Agents.csv``` file once more, to look like the following:\n",
    "\n",
    "|AgentShare|Name|AgentNumber|RegionName|Objective1|Objective2|Objective3|ObjData1|ObjData2|…|DecisionMethod|…|Type|\n",
    "|-|-|-|-|-|-|-|-|-|-|-|-|-|\n",
    "|Agent1|A1|1|R1|LCOE|||1||…|singleObj|…|New|\n",
    "|Agent2|A1|2|R1|LCOE|||1||…|singleObj|…|Retrofit|\n",
    "|Agent1|A2|1|R1|**LCOE**|||**1**||…|**singleObj**|…|New|\n",
    "|Agent2|A2|2|R1|**LCOE**|||**1**||…|**singleObj**|…|Retrofit|"
   ]
  },
  {
   "cell_type": "markdown",
   "metadata": {},
   "source": [
    "Again, this requires the re-running of the simulation, and to visualise the results like before:"
   ]
  },
  {
   "cell_type": "code",
   "execution_count": 4,
   "metadata": {},
   "outputs": [
    {
     "data": {
      "text/plain": [
       "<seaborn.axisgrid.FacetGrid at 0x7faaf0325fa0>"
      ]
     },
     "execution_count": 4,
     "metadata": {},
     "output_type": "execute_result"
    },
    {
     "data": {
      "image/png": "[encoded data removed]",
      "text/plain": [
       "<Figure size 311.75x432 with 2 Axes>"
      ]
     },
     "metadata": {
      "needs_background": "light"
     },
     "output_type": "display_data"
    }
   ],
   "source": [
    "mca_capacity = pd.read_csv(\"../tutorial-code/2-add-agent/2-single-objective/Results/MCACapacity.csv\")\n",
    "power_sector = mca_capacity[mca_capacity.sector==\"power\"]\n",
    "g=sns.FacetGrid(power_sector, row='agent')\n",
    "g.map(sns.lineplot, \"year\", \"capacity\", \"technology\")\n",
    "g.add_legend()"
   ]
  },
  {
   "cell_type": "markdown",
   "metadata": {},
   "source": [
    "In this new scenario, with both agents running the same objective, very similar results between agents can be seen. There is a low uptake in `gasCCGT`, and competition between `solarPV` and `windturbine`, especially in the year 2040 where a change in the price of `solarPV` was set in the previous tutorial. \n",
    "\n",
    "As the two agents make the same decisions, we see the same scenario develop for both agents, unlike in the previous scenario.\n",
    "\n",
    "Have a play around with the files to see if you can come up with different scenarios!"
   ]
  },
  {
   "cell_type": "markdown",
   "metadata": {},
   "source": [
    "## Next steps "
   ]
  },
  {
   "cell_type": "markdown",
   "metadata": {},
   "source": [
    "In the next section we will show you how to add a new region. We will maintain the two agents in this next section, and all the work done in the previous tutorials."
   ]
  }
 ],
 "metadata": {
  "kernelspec": {
   "display_name": "Python 3",
   "language": "python",
   "name": "python3"
  },
  "language_info": {
   "codemirror_mode": {
    "name": "ipython",
    "version": 3
   },
   "file_extension": ".py",
   "mimetype": "text/x-python",
   "name": "python",
   "nbconvert_exporter": "python",
   "pygments_lexer": "ipython3",
   "version": "3.8.5"
  }
 },
 "nbformat": 4,
 "nbformat_minor": 4
}
