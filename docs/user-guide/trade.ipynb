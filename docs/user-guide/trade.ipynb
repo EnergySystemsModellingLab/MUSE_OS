{
 "cells": [
  {
   "cell_type": "markdown",
   "metadata": {},
   "source": [
    "# Trade"
   ]
  },
  {
   "cell_type": "markdown",
   "metadata": {},
   "source": [
    "In this example we will introduce trade between two regions. There often exists trade between countries or regions within countries. This could be the trading of commodities such as gas or electricity imports/exports. MUSE is able to model this trade\n",
    "\n",
    "To keep this example straightforward we will start from the code created in the [add a region](add-region.ipynb) tutorial. This can be downloaded [here](dead-link).\n",
    "\n"
   ]
  }
 ],
 "metadata": {
  "kernelspec": {
   "display_name": "Python 3",
   "language": "python",
   "name": "python3"
  },
  "language_info": {
   "codemirror_mode": {
    "name": "ipython",
    "version": 3
   },
   "file_extension": ".py",
   "mimetype": "text/x-python",
   "name": "python",
   "nbconvert_exporter": "python",
   "pygments_lexer": "ipython3",
   "version": "3.8.5"
  }
 },
 "nbformat": 4,
 "nbformat_minor": 4
}
