{
 "cells": [
  {
   "cell_type": "markdown",
   "metadata": {},
   "source": [
    "# Trade"
   ]
  },
  {
   "cell_type": "markdown",
   "metadata": {},
   "source": [
    "In this example we will introduce trade between two regions. Often, there exists trade between countries or regions within countries. This could be the trading of commodities such as gas or electricity in the form of imports and exports. MUSE is able to model this trade between regions to add further realism.\n",
    "\n",
    "To keep this example straightforward we will start from the case study created in the [add a region](add-region.ipynb) tutorial. This can be downloaded [here](dead-link)."
   ]
  },
  {
   "cell_type": "markdown",
   "metadata": {},
   "source": [
    "## File changes"
   ]
  },
  {
   "cell_type": "markdown",
   "metadata": {},
   "source": [
    "The main file changes to implement trade occur in the `technodata` folder. Specifically, within the sector folders such as `technodata/power` or `technodata/gas`. For this example we will only modify the `power` sector. Note that any sector can trade, but not all sectors have to trade if you don't want them to.\n",
    "\n",
    "No changes are required for the files in the `input/` folder."
   ]
  },
  {
   "cell_type": "markdown",
   "metadata": {},
   "source": [
    "## TradeTechnodata"
   ]
  },
  {
   "cell_type": "markdown",
   "metadata": {},
   "source": [
    "The first file we must create within the `technodata/power/` folder will be the `TradeTechnodata.csv` file. This file effectively details the technodata parameters between regions. For instance, we can detail how much `R2` has to pay for `R1`'s gas or electricity in terms of `cap_par`, `fix_par` or otherwise. This also extends to other technoeconomic data, for instance `MaxCapacityGrowth` or `TotalCapacityLimit`.\n",
    "\n",
    "For this example, we will create a csv file with the following headers:\n",
    "\n",
    "|ProcessName|RegionName|Parameter|Unit|R1|R2|\n",
    "|-|-|-|-|-|-|\n",
    "|gasCCGT|R1|cap_par|MUSD/PJ|28.29|56.58|\n",
    "\n",
    "We can see that the technology and regions, similarly to the Technodata file are defined by the `ProcessName` and `RegionName` headers. In fact, the `TradeTechnodata.csv` follows the same naming convention as the `technodata.csv` file. The difference being that the `Parameter` column is long, as opposed to wide. Therefore, we define the parameters that we wish to assign in the rows rather than the columns. Next, we define the unit of interest in the `Unit` column followed by the regions `R1` and `R2`. \n",
    "\n",
    "As you may have noticed, we have three seperate places where we enter regions for only two total regions. This may be a bit confusing, but essentially, we have to define the costs that each region has to pay in for a technology based in `RegionName`. In this example, for a gas power plant located in region `R1`, `R1` has to pay a `cap_par` of 28.29, whereas `R2` has to pay a higher fee of 56.58. This could be because of additional connection or pipeline costs.\n",
    "\n",
    "To fully populate the TradeTechnodata file we have to define the following parameters for each region and technology:\n",
    "- `cap_par`\n",
    "- `fix_par`\n",
    "- `MaxCapacityAddition`\n",
    "- `MaxCapacityGrowth`\n",
    "- `TotalCapacityLimit`\n",
    "\n",
    "To keep things simple we will just present the `cap_par` and `TotalCapacityLimit` parameters here, but in your example you should add numbers for the remaining parameters. The full case study is available at the end of this tutorial.\n",
    "\n",
    "|ProcessName|RegionName|Parameter|Unit|R1|R2|\n",
    "|-|-|-|-|-|-|\n",
    "|gasCCGT|R1|cap_par|MUSD/PJ|28.29|56.58|\n",
    "|windturbine|R1|cap_par|MUSD/PJ|43.2|0|\n",
    "|solarPV|R1|cap_par|MUSD/PJ|43.2|0|\n",
    "|gasCCGT|R2|cap_par|MUSD/PJ|57.08|28.54|\n",
    "|windturbine|R2|cap_par|MUSD/PJ|0|43.57|\n",
    "|solarPV|R2|cap_par|MUSD/PJ|0|43.57|\n",
    "|...|...|...|...|...|...|\n",
    "|gasCCGT|R1|TotalCapacityLimit|PJ/y|3937.2188|0|\n",
    "|windturbine|R1|TotalCapacityLimit|PJ/y|3937.2188|0|\n",
    "|solarPV|R1|TotalCapacityLimit|PJ/y|3937.2188|0|\n",
    "|gasCCGT|R2|TotalCapacityLimit|PJ/y|0|3937.2188|\n",
    "|windturbine|R2|TotalCapacityLimit|PJ/y|0|3937.2188|\n",
    "|solarPV|R2|TotalCapacityLimit|PJ/y|0|3937.2188|"
   ]
  },
  {
   "cell_type": "markdown",
   "metadata": {},
   "source": [
    "## ExistingTrade"
   ]
  },
  {
   "cell_type": "markdown",
   "metadata": {},
   "source": [
    "The `ExistingCapacity.csv` file that was used in the non-trade cases can't specify how much existing trade there exists between regions. Therefore, the `ExistingCapacity.csv` has to be repurposed into a new input called `ExistingTrade.csv` which is able to define existing trade flows as well as existing capacity.\n",
    "\n",
    "This input is in long form, in a similar fashion to `TechnodataTrade.csv`. A quick example is shown below:\n",
    "\n",
    "|ProcessName|RegionName|Time|R1|R2|\n",
    "|-|-|-|-|-|\n",
    "|Unit|-|Year|PJ/y|PJ/y|\n",
    "|gasCCGT|R1|2010|300|0|\n",
    "|gasCCGT|R1|2020|240|0|\n",
    "|gasCCGT|R2|2010|0|200|\n",
    "|gasCCGT|R2|2020|0|200|"
   ]
  }
 ],
 "metadata": {
  "kernelspec": {
   "display_name": "Python 3",
   "language": "python",
   "name": "python3"
  },
  "language_info": {
   "codemirror_mode": {
    "name": "ipython",
    "version": 3
   },
   "file_extension": ".py",
   "mimetype": "text/x-python",
   "name": "python",
   "nbconvert_exporter": "python",
   "pygments_lexer": "ipython3",
   "version": "3.8.5"
  }
 },
 "nbformat": 4,
 "nbformat_minor": 4
}
