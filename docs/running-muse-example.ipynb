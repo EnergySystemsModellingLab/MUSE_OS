{
 "cells": [
  {
   "cell_type": "markdown",
   "metadata": {},
   "source": [
    "# Running your first example"
   ]
  },
  {
   "cell_type": "markdown",
   "metadata": {},
   "source": [
    "In this section we run an example simulation of MUSE and visualise the results. There are a number of different examples in the source code, which can be found [here](https://github.com/SGIModel/MUSE_OS/tree/main/docs/tutorial-code). \n",
    "\n",
    "Once python and MUSE have been installed, we can run an example. To do this open anaconda prompt. Then change directory to where you have downloaded the MUSE source code. \n",
    "\n",
    "Navigate to the following link for MacOS or Linux based operating systems:\n",
    "\n",
    "```bash\n",
    "{MUSE_download_location}/muse/run/example/default/\n",
    "```\n",
    "\n",
    "Change ```{MUSE_download_location}``` to the location you downloaded MUSE to, for example ```Users/{my_name}/Documents/``` using the `cd` command, or \"change directory\" command. Once we have navigated to the directory containing the example settings ```settings.toml``` we can run the simulation using the following command in the anaconda prompt or terminal:\n",
    "\n",
    "```bash\n",
    "python -m muse settings.toml\n",
    "```\n",
    "\n",
    "If running correctly, your prompt should output text similar to that which can be found [here](example-output.ipynb)."
   ]
  },
  {
   "cell_type": "markdown",
   "metadata": {},
   "source": [
    "It is also possible to run MUSE directly in python using the following code:"
   ]
  },
  {
   "cell_type": "code",
   "execution_count": null,
   "metadata": {},
   "outputs": [],
   "source": [
    "from muse import examples\n",
    "model = examples.model(\"default\")\n",
    "model.run()"
   ]
  },
  {
   "cell_type": "markdown",
   "metadata": {},
   "source": [
    "## Results"
   ]
  },
  {
   "cell_type": "markdown",
   "metadata": {},
   "source": [
    "If the default MUSE example has run successfully, you should now have a folder called ```Results``` in the same directory as ```settings.toml```.\n",
    "\n",
    "This directory should contain results for each sector (```Gas```,```Power``` and ```Residential```) as well as results for the entire simulation in the form of ```MCACapacity.csv``` and ```MCAPrices.csv```. \n",
    "\n",
    "- ```MCACapacity.csv``` contains information about the capacity each agent has per technology per benchmark year. Each benchmark year is the modelled year in the `settings.toml` file. In our example, this is 2020, 2025, ..., 2050. \n",
    "\n",
    "- ```MCAPrices.csv``` has the converged price of each commodity per benchmark year and timeslice. eg. the cost of electricity at night for electricity in 2020.\n",
    "\n",
    "Within each of the sector result folders, there is an output for ```Capacity``` for each commodity in each year. The years into the future, which the simulation has not run to, refers to the capacity as it retires. Within the ```Residential``` folder there is also a folder for ```Supply``` within each year. This refers to how much end-use commodity was output.\n",
    "\n",
    "The output can be fully configurable, as shown in the developer guide [here](advanced-guide/extending-muse.ipynb)."
   ]
  },
  {
   "cell_type": "markdown",
   "metadata": {},
   "source": [
    "## Using Python\n",
    "\n",
    "For the following parts of the tutorial, we will use python to run MUSE and visualise our results.\n",
    "\n",
    "A common approach for data visualisation is to use [Jupyter Notebook](https://jupyter.org). Jupyter Notebook is a method of running interactive computing across dozens of programming languages. However, you are free to visualise the results using the language or program of your choice, for example Excel, R, Matlab or Python. \n",
    "\n",
    "We will use Python, because MUSE is built using python, and so we can switch between running MUSE and visualisation rapidly. \n",
    "\n",
    "First, you will need to install jupyter notebook in your anaconda environment. You will need to ensure that you have a conda environment activated. If you are using the Anaconda Powershell Prompt, you will see something similar to the following if your conda environment called muse is activated:\n",
    "\n",
    "```bash\n",
    "(muse) PS C:\\Users\\my_name>\n",
    "```\n",
    "\n",
    "If your environment is not activated you will see:\n",
    "\n",
    "```bash\n",
    "(base) PS C:\\Users\\my_name>\n",
    "```\n",
    "\n",
    "Once your environment is activated, you can installed Jupyter Notebook by following the instructions showed [here](https://jupyter.org/install). We will install the classic Jupyter Notebook, and so we will run the following code:\n",
    "\n",
    "```bash\n",
    "conda install -c conda-forge notebook\n",
    "```\n",
    "\n",
    "Once this has been installed you can start Jupyter Notebook by running the following command:\n",
    "\n",
    "```bash\n",
    "jupyter notebook\n",
    "```\n",
    "\n",
    "A web browser should now open up with a URL such as the following: ```http://localhost:8888/tree```. If it doesn't, copy and paste the command as directed in the Anaconda Powershell Prompt. This will likely take the form of:\n",
    "\n",
    "```bash\n",
    "http://localhost:8888/?token=xxxxxxxxxx\n",
    "```\n",
    "\n",
    "Once you are on the page, you will be able to navigate to a location of your choice and create a new file, by clicking the ```new``` button in the top right, followed by clicking the ```Python 3``` button.\n",
    "\n",
    "You should then be able to proceed and follow the tutorials in this documentation.\n",
    "\n",
    "If you get any errors such as:\n",
    "\n",
    "```bash\n",
    "ModuleNotFoundError: No module named 'pandas'\n",
    "```\n",
    "\n",
    "It is possible to install the required packages by running the following in the Anaconda Powershell Prompt:\n",
    "\n",
    "```bash\n",
    "conda install pandas\n",
    "```\n",
    "\n",
    "or running the following in jupyter notebook:\n",
    "\n",
    "```bash\n",
    "!conda install pandas\n",
    "```"
   ]
  },
  {
   "cell_type": "markdown",
   "metadata": {},
   "source": [
    "## Visualisation"
   ]
  },
  {
   "cell_type": "code",
   "execution_count": null,
   "metadata": {},
   "outputs": [],
   "source": [
    "import pandas as pd\n",
    "import matplotlib.pyplot as plt\n",
    "import seaborn as sns"
   ]
  },
  {
   "cell_type": "markdown",
   "metadata": {},
   "source": [
    "Next, we load the dataset of interest to us for this example: the ```MCACapacity.csv``` file. We do this using pandas."
   ]
  },
  {
   "cell_type": "code",
   "execution_count": null,
   "metadata": {},
   "outputs": [],
   "source": [
    "capacity_results = pd.read_csv(\"Results/MCAcapacity.csv\")\n",
    "capacity_results.head()"
   ]
  },
  {
   "cell_type": "markdown",
   "metadata": {},
   "source": [
    "Using the ```head``` command we print the first five rows of our dataset. Next, we will visualise each of the sectors, with capacity on the y-axis and year on the x-axis.\n",
    "\n",
    "Don't worry too much about the code if some of it is unfamiliar. We effectively split the data into each sector and then plot a line plot for each."
   ]
  },
  {
   "cell_type": "code",
   "execution_count": null,
   "metadata": {},
   "outputs": [],
   "source": [
    "for sector_name, results in capacity_results.groupby(\"sector\"):\n",
    "    print(\"{} sector\".format(sector_name))\n",
    "    sns.lineplot(data=results, x=\"year\", y=\"capacity\", hue=\"technology\")\n",
    "    plt.ylabel(\"capacity (PJ)\")\n",
    "    plt.show()\n",
    "    plt.close()"
   ]
  },
  {
   "cell_type": "markdown",
   "metadata": {},
   "source": [
    "In this toy example, we can see that the end-use technology of choice in the residential sector becomes a heatpump. The heatpump displaces the gas boiler. Therefore, the supply of gas crashes due to a reduced demand. To account for the increase in demand for electricity, the agent invests heavily in wind turbines.\n",
    "\n",
    "Note, that the units are in petajoules (PJ). MUSE requires consistent units across each of the sectors, and each of the input files (which we will see later). The model does not make any unit conversion internally."
   ]
  },
  {
   "cell_type": "markdown",
   "metadata": {},
   "source": [
    "## Next steps"
   ]
  },
  {
   "cell_type": "markdown",
   "metadata": {},
   "source": [
    "If you want to jump straight into customising your own example scenarios, head to the link [here](user-guide/index.rst). If you would like a little bit of background based on how MUSE works first, head to the next section!"
   ]
  }
 ],
 "metadata": {
  "kernelspec": {
   "display_name": "Python 3",
   "language": "python",
   "name": "python3"
  },
  "language_info": {
   "codemirror_mode": {
    "name": "ipython",
    "version": 3
   },
   "file_extension": ".py",
   "mimetype": "text/x-python",
   "name": "python",
   "nbconvert_exporter": "python",
   "pygments_lexer": "ipython3",
   "version": "3.8.5"
  }
 },
 "nbformat": 4,
 "nbformat_minor": 4
}
