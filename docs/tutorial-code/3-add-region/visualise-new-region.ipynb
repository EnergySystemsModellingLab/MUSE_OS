{
 "cells": [
  {
   "cell_type": "code",
   "execution_count": null,
   "metadata": {},
   "outputs": [],
   "source": [
    "import seaborn as sns\n",
    "import pandas as pd\n",
    "import matplotlib.pyplot as plt"
   ]
  },
  {
   "cell_type": "code",
   "execution_count": null,
   "metadata": {},
   "outputs": [],
   "source": [
    "mca_capacity = pd.read_csv(\"Results/MCACapacity.csv\")\n",
    "power_sector = mca_capacity[mca_capacity.sector==\"power\"].groupby([\"year\",\"region\"]).sum().reset_index()\n",
    "power_sector.head()"
   ]
  },
  {
   "cell_type": "code",
   "execution_count": null,
   "metadata": {},
   "outputs": [],
   "source": [
    "mca_capacity = pd.read_csv(\"Results/MCACapacity.csv\").groupby([\"year\",\"technology\",\"region\", \"sector\"]).sum().reset_index()\n",
    "\n",
    "for name, sector in mca_capacity.groupby(\"sector\"):\n",
    "    print(\"{} sector:\".format(name))\n",
    "    g = sns.FacetGrid(data=sector, col=\"region\")\n",
    "    g.map(sns.lineplot, \"year\", \"capacity\", \"technology\")\n",
    "    g.add_legend()\n",
    "    plt.show()"
   ]
  }
 ],
 "metadata": {
  "kernelspec": {
   "display_name": "Python 3.9.0 ('muse39')",
   "language": "python",
   "name": "python3"
  },
  "language_info": {
   "codemirror_mode": {
    "name": "ipython",
    "version": 3
   },
   "file_extension": ".py",
   "mimetype": "text/x-python",
   "name": "python",
   "nbconvert_exporter": "python",
   "pygments_lexer": "ipython3",
   "version": "3.9.0"
  },
  "vscode": {
   "interpreter": {
    "hash": "22ff8bbda430c28f07def99f448c0c69dabbaf0c7d993cae69f87b3c458d04b2"
   }
  }
 },
 "nbformat": 4,
 "nbformat_minor": 4
}
