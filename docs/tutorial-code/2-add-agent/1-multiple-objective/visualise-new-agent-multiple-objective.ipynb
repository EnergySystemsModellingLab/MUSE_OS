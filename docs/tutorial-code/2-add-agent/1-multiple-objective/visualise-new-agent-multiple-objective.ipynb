{
 "cells": [
  {
   "cell_type": "code",
   "execution_count": 4,
   "metadata": {},
   "outputs": [],
   "source": [
    "import pandas as pd\n",
    "import seaborn as sns"
   ]
  },
  {
   "cell_type": "code",
   "execution_count": 5,
   "metadata": {},
   "outputs": [
    {
     "data": {
      "text/html": [
       "<div>\n",
       "<style scoped>\n",
       "    .dataframe tbody tr th:only-of-type {\n",
       "        vertical-align: middle;\n",
       "    }\n",
       "\n",
       "    .dataframe tbody tr th {\n",
       "        vertical-align: top;\n",
       "    }\n",
       "\n",
       "    .dataframe thead th {\n",
       "        text-align: right;\n",
       "    }\n",
       "</style>\n",
       "<table border=\"1\" class=\"dataframe\">\n",
       "  <thead>\n",
       "    <tr style=\"text-align: right;\">\n",
       "      <th></th>\n",
       "      <th>Unnamed: 0</th>\n",
       "      <th>agent</th>\n",
       "      <th>capacity</th>\n",
       "      <th>dst_region</th>\n",
       "      <th>index</th>\n",
       "      <th>installed</th>\n",
       "      <th>region</th>\n",
       "      <th>sector</th>\n",
       "      <th>technology</th>\n",
       "      <th>type</th>\n",
       "      <th>year</th>\n",
       "    </tr>\n",
       "  </thead>\n",
       "  <tbody>\n",
       "    <tr>\n",
       "      <th>0</th>\n",
       "      <td>4</td>\n",
       "      <td>A1</td>\n",
       "      <td>5.0</td>\n",
       "      <td>R1</td>\n",
       "      <td>0</td>\n",
       "      <td>2020</td>\n",
       "      <td>R1</td>\n",
       "      <td>residential</td>\n",
       "      <td>gasboiler</td>\n",
       "      <td>retrofit</td>\n",
       "      <td>2020</td>\n",
       "    </tr>\n",
       "    <tr>\n",
       "      <th>1</th>\n",
       "      <td>15</td>\n",
       "      <td>A2</td>\n",
       "      <td>5.0</td>\n",
       "      <td>R1</td>\n",
       "      <td>0</td>\n",
       "      <td>2020</td>\n",
       "      <td>R1</td>\n",
       "      <td>residential</td>\n",
       "      <td>gasboiler</td>\n",
       "      <td>retrofit</td>\n",
       "      <td>2020</td>\n",
       "    </tr>\n",
       "    <tr>\n",
       "      <th>6</th>\n",
       "      <td>0</td>\n",
       "      <td>A1</td>\n",
       "      <td>2.5</td>\n",
       "      <td>R1</td>\n",
       "      <td>0</td>\n",
       "      <td>2020</td>\n",
       "      <td>R1</td>\n",
       "      <td>residential</td>\n",
       "      <td>gasboiler</td>\n",
       "      <td>retrofit</td>\n",
       "      <td>2025</td>\n",
       "    </tr>\n",
       "    <tr>\n",
       "      <th>7</th>\n",
       "      <td>3</td>\n",
       "      <td>A1</td>\n",
       "      <td>9.5</td>\n",
       "      <td>R1</td>\n",
       "      <td>7</td>\n",
       "      <td>2020</td>\n",
       "      <td>R1</td>\n",
       "      <td>residential</td>\n",
       "      <td>heatpump</td>\n",
       "      <td>retrofit</td>\n",
       "      <td>2025</td>\n",
       "    </tr>\n",
       "    <tr>\n",
       "      <th>8</th>\n",
       "      <td>6</td>\n",
       "      <td>A2</td>\n",
       "      <td>2.5</td>\n",
       "      <td>R1</td>\n",
       "      <td>0</td>\n",
       "      <td>2020</td>\n",
       "      <td>R1</td>\n",
       "      <td>residential</td>\n",
       "      <td>gasboiler</td>\n",
       "      <td>retrofit</td>\n",
       "      <td>2025</td>\n",
       "    </tr>\n",
       "  </tbody>\n",
       "</table>\n",
       "</div>"
      ],
      "text/plain": [
       "   Unnamed: 0 agent  capacity dst_region  index  installed region  \\\n",
       "0           4    A1       5.0         R1      0       2020     R1   \n",
       "1          15    A2       5.0         R1      0       2020     R1   \n",
       "6           0    A1       2.5         R1      0       2020     R1   \n",
       "7           3    A1       9.5         R1      7       2020     R1   \n",
       "8           6    A2       2.5         R1      0       2020     R1   \n",
       "\n",
       "        sector technology      type  year  \n",
       "0  residential  gasboiler  retrofit  2020  \n",
       "1  residential  gasboiler  retrofit  2020  \n",
       "6  residential  gasboiler  retrofit  2025  \n",
       "7  residential   heatpump  retrofit  2025  \n",
       "8  residential  gasboiler  retrofit  2025  "
      ]
     },
     "execution_count": 5,
     "metadata": {},
     "output_type": "execute_result"
    }
   ],
   "source": [
    "mca_capacity = pd.read_csv(\"Results/MCACapacity.csv\")\n",
    "power_sector = mca_capacity[mca_capacity.sector==\"power\"]\n",
    "power_sector.head()"
   ]
  },
  {
   "cell_type": "code",
   "execution_count": 6,
   "metadata": {},
   "outputs": [
    {
     "data": {
      "text/plain": [
       "<seaborn.axisgrid.FacetGrid at 0x7f94d1c25610>"
      ]
     },
     "execution_count": 6,
     "metadata": {},
     "output_type": "execute_result"
    },
    {
     "data": {
      "image/png": "[encoded data removed]",
      "text/plain": [
       "<Figure size 303x432 with 2 Axes>"
      ]
     },
     "metadata": {
      "needs_background": "light"
     },
     "output_type": "display_data"
    }
   ],
   "source": [
    "g=sns.FacetGrid(power_sector, row='agent')\n",
    "g.map(sns.lineplot, \"year\", \"capacity\", \"technology\")\n",
    "g.add_legend()"
   ]
  }
 ],
 "metadata": {
  "kernelspec": {
   "display_name": "Python 3",
   "language": "python",
   "name": "python3"
  },
  "language_info": {
   "codemirror_mode": {
    "name": "ipython",
    "version": 3
   },
   "file_extension": ".py",
   "mimetype": "text/x-python",
   "name": "python",
   "nbconvert_exporter": "python",
   "pygments_lexer": "ipython3",
   "version": "3.8.5"
  }
 },
 "nbformat": 4,
 "nbformat_minor": 4
}
