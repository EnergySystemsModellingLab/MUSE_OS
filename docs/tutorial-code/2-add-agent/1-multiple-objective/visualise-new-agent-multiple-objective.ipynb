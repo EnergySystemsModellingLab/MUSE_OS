{
 "cells": [
  {
   "cell_type": "code",
   "execution_count": 1,
   "metadata": {},
   "outputs": [],
   "source": [
    "import pandas as pd\n",
    "import seaborn as sns"
   ]
  },
  {
   "cell_type": "code",
   "execution_count": 2,
   "metadata": {},
   "outputs": [
    {
     "data": {
      "text/html": [
       "<div>\n",
       "<style scoped>\n",
       "    .dataframe tbody tr th:only-of-type {\n",
       "        vertical-align: middle;\n",
       "    }\n",
       "\n",
       "    .dataframe tbody tr th {\n",
       "        vertical-align: top;\n",
       "    }\n",
       "\n",
       "    .dataframe thead th {\n",
       "        text-align: right;\n",
       "    }\n",
       "</style>\n",
       "<table border=\"1\" class=\"dataframe\">\n",
       "  <thead>\n",
       "    <tr style=\"text-align: right;\">\n",
       "      <th></th>\n",
       "      <th>Unnamed: 0</th>\n",
       "      <th>agent</th>\n",
       "      <th>capacity</th>\n",
       "      <th>dst_region</th>\n",
       "      <th>index</th>\n",
       "      <th>installed</th>\n",
       "      <th>region</th>\n",
       "      <th>sector</th>\n",
       "      <th>technology</th>\n",
       "      <th>type</th>\n",
       "      <th>year</th>\n",
       "    </tr>\n",
       "  </thead>\n",
       "  <tbody>\n",
       "    <tr>\n",
       "      <th>2</th>\n",
       "      <td>0</td>\n",
       "      <td>A1</td>\n",
       "      <td>0.5000</td>\n",
       "      <td>R1</td>\n",
       "      <td>0</td>\n",
       "      <td>2020</td>\n",
       "      <td>R1</td>\n",
       "      <td>power</td>\n",
       "      <td>gasCCGT</td>\n",
       "      <td>retrofit</td>\n",
       "      <td>2020</td>\n",
       "    </tr>\n",
       "    <tr>\n",
       "      <th>3</th>\n",
       "      <td>21</td>\n",
       "      <td>A2</td>\n",
       "      <td>0.5000</td>\n",
       "      <td>R1</td>\n",
       "      <td>0</td>\n",
       "      <td>2020</td>\n",
       "      <td>R1</td>\n",
       "      <td>power</td>\n",
       "      <td>gasCCGT</td>\n",
       "      <td>retrofit</td>\n",
       "      <td>2020</td>\n",
       "    </tr>\n",
       "    <tr>\n",
       "      <th>10</th>\n",
       "      <td>0</td>\n",
       "      <td>A1</td>\n",
       "      <td>0.5000</td>\n",
       "      <td>R1</td>\n",
       "      <td>0</td>\n",
       "      <td>2020</td>\n",
       "      <td>R1</td>\n",
       "      <td>power</td>\n",
       "      <td>gasCCGT</td>\n",
       "      <td>retrofit</td>\n",
       "      <td>2025</td>\n",
       "    </tr>\n",
       "    <tr>\n",
       "      <th>11</th>\n",
       "      <td>14</td>\n",
       "      <td>A1</td>\n",
       "      <td>2.9549</td>\n",
       "      <td>R1</td>\n",
       "      <td>18</td>\n",
       "      <td>2020</td>\n",
       "      <td>R1</td>\n",
       "      <td>power</td>\n",
       "      <td>windturbine</td>\n",
       "      <td>retrofit</td>\n",
       "      <td>2025</td>\n",
       "    </tr>\n",
       "    <tr>\n",
       "      <th>12</th>\n",
       "      <td>20</td>\n",
       "      <td>A2</td>\n",
       "      <td>9.3018</td>\n",
       "      <td>R1</td>\n",
       "      <td>0</td>\n",
       "      <td>2020</td>\n",
       "      <td>R1</td>\n",
       "      <td>power</td>\n",
       "      <td>gasCCGT</td>\n",
       "      <td>retrofit</td>\n",
       "      <td>2025</td>\n",
       "    </tr>\n",
       "  </tbody>\n",
       "</table>\n",
       "</div>"
      ],
      "text/plain": [
       "    Unnamed: 0 agent  capacity dst_region  index  installed region sector  \\\n",
       "2            0    A1    0.5000         R1      0       2020     R1  power   \n",
       "3           21    A2    0.5000         R1      0       2020     R1  power   \n",
       "10           0    A1    0.5000         R1      0       2020     R1  power   \n",
       "11          14    A1    2.9549         R1     18       2020     R1  power   \n",
       "12          20    A2    9.3018         R1      0       2020     R1  power   \n",
       "\n",
       "     technology      type  year  \n",
       "2       gasCCGT  retrofit  2020  \n",
       "3       gasCCGT  retrofit  2020  \n",
       "10      gasCCGT  retrofit  2025  \n",
       "11  windturbine  retrofit  2025  \n",
       "12      gasCCGT  retrofit  2025  "
      ]
     },
     "execution_count": 2,
     "metadata": {},
     "output_type": "execute_result"
    }
   ],
   "source": [
    "mca_capacity = pd.read_csv(\"Results/MCACapacity.csv\")\n",
    "power_sector = mca_capacity[mca_capacity.sector==\"power\"]\n",
    "power_sector.head()"
   ]
  },
  {
   "cell_type": "code",
   "execution_count": 3,
   "metadata": {},
   "outputs": [
    {
     "data": {
      "text/plain": [
       "<seaborn.axisgrid.FacetGrid at 0x7fa3ed2ddf40>"
      ]
     },
     "execution_count": 3,
     "metadata": {},
     "output_type": "execute_result"
    },
    {
     "data": {
      "image/png": "[encoded data removed]",
      "text/plain": [
       "<Figure size 311.75x432 with 2 Axes>"
      ]
     },
     "metadata": {
      "needs_background": "light"
     },
     "output_type": "display_data"
    }
   ],
   "source": [
    "g=sns.FacetGrid(power_sector, row='agent')\n",
    "g.map(sns.lineplot, \"year\", \"capacity\", \"technology\")\n",
    "g.add_legend()"
   ]
  }
 ],
 "metadata": {
  "kernelspec": {
   "display_name": "Python 3",
   "language": "python",
   "name": "python3"
  },
  "language_info": {
   "codemirror_mode": {
    "name": "ipython",
    "version": 3
   },
   "file_extension": ".py",
   "mimetype": "text/x-python",
   "name": "python",
   "nbconvert_exporter": "python",
   "pygments_lexer": "ipython3",
   "version": "3.8.5"
  }
 },
 "nbformat": 4,
 "nbformat_minor": 4
}
