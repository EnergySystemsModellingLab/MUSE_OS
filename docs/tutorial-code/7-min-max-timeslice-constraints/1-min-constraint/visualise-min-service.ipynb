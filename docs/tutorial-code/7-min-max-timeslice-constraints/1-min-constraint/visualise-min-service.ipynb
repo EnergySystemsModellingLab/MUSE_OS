{
 "cells": [
  {
   "cell_type": "code",
   "execution_count": null,
   "metadata": {},
   "outputs": [],
   "source": [
    "import pandas as pd\n",
    "import seaborn as sns\n",
    "import matplotlib.pyplot as plt"
   ]
  },
  {
   "cell_type": "code",
   "execution_count": null,
   "metadata": {},
   "outputs": [],
   "source": [
    "# share with minimum service\n",
    "mca_capacity = pd.read_csv(\"Results/MCACapacity.csv\")\n",
    "print (mca_capacity.head())\n",
    "\n",
    "capacity = mca_capacity[mca_capacity.sector==\"power\"].groupby([\"technology\",\"year\"]).sum().reset_index()\n",
    "sns.lineplot(data=capacity, x='year', y='capacity', hue=\"technology\")"
   ]
  },
  {
   "cell_type": "code",
   "execution_count": null,
   "metadata": {},
   "outputs": [],
   "source": [
    "power_supply_2020 = pd.read_csv(\"Results/Power/Supply_Timeslice/2020.csv\")\n",
    "\n",
    "sns.lineplot(data=power_supply_2020[(power_supply_2020.commodity==\"electricity\") & (power_supply_2020.year==2025) ], \n",
    "hue=\"technology\", x=\"timeslice\", y=\"supply\")\n",
    "plt.title(\"Supply versus timeslice for the year 2025\")\n",
    "\n",
    "plt.ylim(0,10)\n"
   ]
  },
  {
   "cell_type": "code",
   "execution_count": null,
   "metadata": {},
   "outputs": [],
   "source": [
    "from pathlib import Path\n",
    "\n",
    "path = 'Results/Residential/Capacity/'\n",
    "\n",
    "all_files = Path(path).glob(\"*.csv\")\n",
    "\n",
    "li = []\n",
    "\n",
    "for filename in all_files:\n",
    "    df = pd.read_csv(filename, index_col=None, header=0)\n",
    "    year_needed = filename.stem\n",
    "    filtered_year = df[df.year==int(year_needed)]\n",
    "    li.append(filtered_year)\n",
    "\n",
    "frame = pd.concat(li, axis=0, ignore_index=True)\n",
    "frame"
   ]
  },
  {
   "cell_type": "code",
   "execution_count": null,
   "metadata": {},
   "outputs": [],
   "source": [
    "grouped_by = frame.groupby([\"year\", \"technology\",\"region\"]).sum().reset_index()\n",
    "grouped_by\n",
    "\n",
    "g = sns.FacetGrid(data=grouped_by, row=\"region\")\n",
    "g.map(sns.lineplot, \"year\", \"capacity\", \"technology\")\n",
    "g.add_legend()"
   ]
  }
 ],
 "metadata": {
  "kernelspec": {
   "display_name": "Python 3.9.0 ('muse39')",
   "language": "python",
   "name": "python3"
  },
  "language_info": {
   "codemirror_mode": {
    "name": "ipython",
    "version": 3
   },
   "file_extension": ".py",
   "mimetype": "text/x-python",
   "name": "python",
   "nbconvert_exporter": "python",
   "pygments_lexer": "ipython3",
   "version": "3.9.0"
  },
  "vscode": {
   "interpreter": {
    "hash": "22ff8bbda430c28f07def99f448c0c69dabbaf0c7d993cae69f87b3c458d04b2"
   }
  }
 },
 "nbformat": 4,
 "nbformat_minor": 4
}
