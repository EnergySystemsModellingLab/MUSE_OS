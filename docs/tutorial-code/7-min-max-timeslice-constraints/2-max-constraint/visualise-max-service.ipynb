{
 "cells": [
  {
   "cell_type": "code",
   "execution_count": null,
   "metadata": {},
   "outputs": [],
   "source": [
    "import pandas as pd\n",
    "import seaborn as sns\n",
    "import matplotlib.pyplot as plt"
   ]
  },
  {
   "cell_type": "code",
   "execution_count": null,
   "metadata": {},
   "outputs": [],
   "source": [
    "# share with minimum service\n",
    "mca_capacity = pd.read_csv(\"Results/MCACapacity.csv\")\n",
    "print (mca_capacity.head())\n",
    "\n",
    "capacity = mca_capacity[mca_capacity.sector==\"power\"].groupby([\"technology\",\"year\"]).sum().reset_index()\n",
    "sns.lineplot(data=capacity, x='year', y='capacity', hue=\"technology\")"
   ]
  },
  {
   "cell_type": "code",
   "execution_count": null,
   "metadata": {},
   "outputs": [],
   "source": [
    "power_supply = pd.read_csv(\"Results/Power/Supply_Timeslice/2025.csv\")\n",
    "\n",
    "sns.lineplot(data=power_supply[(power_supply.commodity==\"electricity\") & (power_supply.year==2030)], x=\"timeslice\", hue=\"technology\", y=\"supply\")\n",
    "plt.title(\"Supply versus timeslice for the year 2030\")\n",
    "\n",
    "plt.ylim(0,10)\n"
   ]
  }
 ],
 "metadata": {
  "kernelspec": {
   "display_name": "Python 3.9.0 ('muse39')",
   "language": "python",
   "name": "python3"
  },
  "language_info": {
   "codemirror_mode": {
    "name": "ipython",
    "version": 3
   },
   "file_extension": ".py",
   "mimetype": "text/x-python",
   "name": "python",
   "nbconvert_exporter": "python",
   "pygments_lexer": "ipython3",
   "version": "3.9.0"
  },
  "vscode": {
   "interpreter": {
    "hash": "22ff8bbda430c28f07def99f448c0c69dabbaf0c7d993cae69f87b3c458d04b2"
   }
  }
 },
 "nbformat": 4,
 "nbformat_minor": 4
}
