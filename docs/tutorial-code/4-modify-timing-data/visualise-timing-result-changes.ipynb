{
 "cells": [
  {
   "cell_type": "code",
   "execution_count": null,
   "metadata": {},
   "outputs": [],
   "source": [
    "import matplotlib.pyplot as plt\n",
    "import pandas as pd\n",
    "import seaborn as sns"
   ]
  },
  {
   "cell_type": "code",
   "execution_count": null,
   "metadata": {},
   "outputs": [],
   "source": [
    "mca_capacity = (\n",
    "    pd.read_csv(\"1-modify-timeslices/Results/MCACapacity.csv\")\n",
    "    .groupby([\"technology\", \"sector\", \"region\", \"year\", \"agent\"])\n",
    "    .sum()\n",
    "    .reset_index()\n",
    ")\n",
    "\n",
    "for name, sector in mca_capacity.groupby(\"sector\"):\n",
    "    print(f\"{name} sector:\")\n",
    "\n",
    "    fig, ax = plt.subplots(1, 2)\n",
    "    sns.lineplot(\n",
    "        data=sector[sector.region == \"R1\"],\n",
    "        x=\"year\",\n",
    "        y=\"capacity\",\n",
    "        hue=\"technology\",\n",
    "        ax=ax[0],\n",
    "    )\n",
    "    sns.lineplot(\n",
    "        data=sector[sector.region == \"R2\"],\n",
    "        x=\"year\",\n",
    "        y=\"capacity\",\n",
    "        hue=\"technology\",\n",
    "        ax=ax[1],\n",
    "    )\n",
    "    plt.show()\n",
    "    plt.close()"
   ]
  }
 ],
 "metadata": {
  "kernelspec": {
   "display_name": "Python 3.9.0 ('muse39')",
   "language": "python",
   "name": "python3"
  },
  "language_info": {
   "codemirror_mode": {
    "name": "ipython",
    "version": 3
   },
   "file_extension": ".py",
   "mimetype": "text/x-python",
   "name": "python",
   "nbconvert_exporter": "python",
   "pygments_lexer": "ipython3",
   "version": "3.9.18"
  },
  "vscode": {
   "interpreter": {
    "hash": "22ff8bbda430c28f07def99f448c0c69dabbaf0c7d993cae69f87b3c458d04b2"
   }
  }
 },
 "nbformat": 4,
 "nbformat_minor": 4
}
