{
 "cells": [
  {
   "cell_type": "code",
   "execution_count": null,
   "metadata": {},
   "outputs": [],
   "source": [
    "import pandas as pd\n",
    "import seaborn as sns\n",
    "import matplotlib.pyplot as plt"
   ]
  },
  {
   "cell_type": "code",
   "execution_count": null,
   "metadata": {},
   "outputs": [],
   "source": [
    "mca_capacity = pd.read_csv(\"Results/MCACapacity.csv\").groupby([\"technology\", \"sector\", \"region\", \"year\"]).sum().reset_index()\n",
    "limits = [20, 20,60]\n",
    "sec_list = list(mca_capacity.groupby(\"sector\").groups.keys())\n",
    "for name, sector in mca_capacity.groupby(\"sector\"):\n",
    "    print(\"{} sector:\".format(name))\n",
    "    fig, ax =plt.subplots(1,2)\n",
    "    sns.lineplot(data=sector[sector.region==\"R1\"], x=\"year\", y=\"capacity\", hue=\"technology\", ax=ax[0])\n",
    "    sns.lineplot(data=sector[sector.region==\"R2\"], x=\"year\", y=\"capacity\", hue=\"technology\", ax=ax[1])\n",
    "    ax[0].set_ylim(0, limits[sec_list.index(name)])\n",
    "    ax[1].set_ylim(0, limits[sec_list.index(name)])\n",
    "    plt.show()\n",
    "    plt.close()\n"
   ]
  }
 ],
 "metadata": {
  "kernelspec": {
   "display_name": "Python 3.9.0 ('muse39')",
   "language": "python",
   "name": "python3"
  },
  "language_info": {
   "codemirror_mode": {
    "name": "ipython",
    "version": 3
   },
   "file_extension": ".py",
   "mimetype": "text/x-python",
   "name": "python",
   "nbconvert_exporter": "python",
   "pygments_lexer": "ipython3",
   "version": "3.9.0"
  },
  "vscode": {
   "interpreter": {
    "hash": "22ff8bbda430c28f07def99f448c0c69dabbaf0c7d993cae69f87b3c458d04b2"
   }
  }
 },
 "nbformat": 4,
 "nbformat_minor": 4
}
