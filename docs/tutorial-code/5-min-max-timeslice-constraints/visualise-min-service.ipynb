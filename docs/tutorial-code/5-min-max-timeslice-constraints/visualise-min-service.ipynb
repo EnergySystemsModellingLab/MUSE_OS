{
 "cells": [
  {
   "cell_type": "code",
   "execution_count": null,
   "metadata": {},
   "outputs": [],
   "source": [
    "import matplotlib.pyplot as plt\n",
    "import pandas as pd\n",
    "import seaborn as sns"
   ]
  },
  {
   "cell_type": "code",
   "execution_count": null,
   "metadata": {},
   "outputs": [],
   "source": [
    "# share with minimum service\n",
    "mca_capacity = pd.read_csv(\"1-min-constraint/Results/MCACapacity.csv\")\n",
    "print(mca_capacity.head())\n",
    "\n",
    "capacity = (\n",
    "    mca_capacity[mca_capacity.sector == \"power\"]\n",
    "    .groupby([\"technology\", \"year\"])\n",
    "    .sum()\n",
    "    .reset_index()\n",
    ")\n",
    "sns.lineplot(data=capacity, x=\"year\", y=\"capacity\", hue=\"technology\")"
   ]
  },
  {
   "cell_type": "code",
   "execution_count": null,
   "metadata": {},
   "outputs": [],
   "source": [
    "power_supply = pd.read_csv(\"1-min-constraint/Results/Power_Supply.csv\")\n",
    "\n",
    "sns.lineplot(\n",
    "    data=power_supply[\n",
    "        (power_supply.commodity == \"electricity\") & (power_supply.year == 2025)\n",
    "    ],\n",
    "    hue=\"technology\",\n",
    "    x=\"timeslice\",\n",
    "    y=\"supply\",\n",
    ")\n",
    "plt.title(\"Supply versus timeslice for the year 2025\")\n",
    "\n",
    "plt.ylim(0, 10)"
   ]
  },
  {
   "cell_type": "code",
   "execution_count": null,
   "metadata": {},
   "outputs": [],
   "source": []
  }
 ],
 "metadata": {
  "kernelspec": {
   "display_name": "Python 3.9.0 ('muse39')",
   "language": "python",
   "name": "python3"
  },
  "language_info": {
   "codemirror_mode": {
    "name": "ipython",
    "version": 3
   },
   "file_extension": ".py",
   "mimetype": "text/x-python",
   "name": "python",
   "nbconvert_exporter": "python",
   "pygments_lexer": "ipython3",
   "version": "3.12.4"
  },
  "vscode": {
   "interpreter": {
    "hash": "22ff8bbda430c28f07def99f448c0c69dabbaf0c7d993cae69f87b3c458d04b2"
   }
  }
 },
 "nbformat": 4,
 "nbformat_minor": 4
}
