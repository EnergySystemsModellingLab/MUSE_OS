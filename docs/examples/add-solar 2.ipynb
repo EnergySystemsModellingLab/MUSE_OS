{
 "cells": [
  {
   "cell_type": "markdown",
   "metadata": {},
   "source": [
    "# Adding a new technology"
   ]
  },
  {
   "cell_type": "markdown",
   "metadata": {},
   "source": [
    "In this section we will give you the information needed to customise MUSE for your own case studies and to answer questions you may have."
   ]
  },
  {
   "cell_type": "markdown",
   "metadata": {},
   "source": [
    "## Input Files"
   ]
  },
  {
   "cell_type": "markdown",
   "metadata": {},
   "source": [
    "MUSE is made up of a different number of files. However, these can be broadly split into two kinds of input:\n",
    "\n",
    "- Simulation settings \n",
    "\n",
    "- Simulation data\n",
    "\n",
    "Simulation settings specify how a simulation should be run. For example, which sectors to run, for how many years and what to output.\n",
    "\n",
    "Whereas, simulation data parametrises the technologies involved in the simulation, or the number and kinds of agents.\n",
    "\n",
    "To create a customised case study it is necessary to edit both of these file types.\n",
    "\n",
    "Simulation settings are specified in a TOML file. [TOML](https://github.com/toml-lang/toml) is a simple, extensible and intuitive file format well suited  for specifying small sets of complex data.\n",
    "\n",
    "Simulation data is specified in [CSV](https://en.wikipedia.org/wiki/Comma-separated_values). This is a common format used for larger datasets, and is made up of columns and rows, with a comma used to differentiate between entries. \n",
    "\n",
    "MUSE requires at least the following files to successfully run:\n",
    "\n",
    "* a single [simulation settings TOML file](inputs/toml.rst) for the simulation as a whole\n",
    "* a file indicating initial market price [projections](inputs/projections.rst)\n",
    "* a file describing the [commodities in the simulation](inputs/commodities.rst)\n",
    "* for generalized sectors:\n",
    "   * a file descring the [agents](inputs/agents.rst)\n",
    "   * a file descring the [technologies](inputs/technodata.rst)\n",
    "   * a file descring the [input commodities](inputs/commodities_io.rst) for each technology\n",
    "   * a file descring the [output commodities](inputs/commodities_io.rst) for each technology\n",
    "   * a file descring the [existing capacity](inputs/existing_capacity.rst) of a given\n",
    "     sector\n",
    "* for each preset sector:\n",
    "   * a csv file describing consumption for the duration of the simulation\n",
    "   \n",
    "For a full description of these files see the [input files section](inputs/index.rst). To see how to customise an example, continue on this page."
   ]
  },
  {
   "cell_type": "markdown",
   "metadata": {},
   "source": [
    "## Addition of solar PV"
   ]
  },
  {
   "cell_type": "markdown",
   "metadata": {},
   "source": [
    "In this section, we will add solar photovoltaics to the default model seen in the [example page](running-muse-example.ipynb). To achieve this, we must modify some of the input files shown in the above section. These files can be found in the ```StarMuse``` folder at the following location:\n",
    "\n",
    "`{muse_install_location}/src/muse/data/example/default`\n",
    "\n",
    "Change ```{muse_install_location}``` to the location where you installed MUSE. "
   ]
  },
  {
   "cell_type": "markdown",
   "metadata": {},
   "source": [
    "### Technodata Input "
   ]
  },
  {
   "cell_type": "markdown",
   "metadata": {},
   "source": [
    "Within the default folder there is the ```settings.toml``` file, input folder and technodata folder. To add a technology within the power sector, we must open the ```technodata``` folder followed by the ```power``` folder.\n",
    "\n",
    "Next, we will edit the ```CommIn.csv``` file, which specifies the commodities consumed by solar photovoltaics.\n",
    "\n",
    "The table below shows the original ```CommIn.csv``` version in normal text, and the added column and row in **bold**.\n",
    "\n",
    "|ProcessName|RegionName|Time|Level|electricity|gas|heat|CO2f|wind|**solar**|\n",
    "|-----------|----------|----|-----|-----------|---|----|----|----|----|\n",
    "|Unit|-|Year|-|PJ/PJ|PJ/PJ|PJ/PJ|kt/PJ|PJ/PJ|**PJ/PJ**|\n",
    "|gasCCGT|R1|2020|fixed|0|1.67|0|0|0|**0**|\n",
    "|windturbine|R1|2020|fixed|0|0|0|0|1|**0**|\n",
    "|**solarPV**|**R1**|**2020**|**fixed**|**0**|**0**|**0**|**0**|**0**|**1**|\n",
    "\n",
    "We must first add a new row at the bottom of the file, to indicate the new solar photovoltaic technology:\n",
    "\n",
    "- we call this technology ```solarPV``` \n",
    "- place it in region ```R1``` \n",
    "- the data in this row is associated to the year 2020\n",
    "- the input type is fixed\n",
    "- solarPV consumes solar\n",
    "\n",
    "As the solar commodity has not been previously defined, we must define it by adding a column, which we will call solar. We then indicate that the only technology which consumes solar is solarPV.\n"
   ]
  },
  {
   "cell_type": "markdown",
   "metadata": {},
   "source": [
    "We repeat this process for the file: ```CommOut.csv```. This file specifies the output of the technology. In our case, solar photovoltaics only output ```electricity```, unlike ```gasCCGT``` which also outputs ```CO2f```, or carbon dioxide.\n",
    "\n",
    "|ProcessName|RegionName|Time|Level|electricity|gas|heat|CO2f|wind|**solar**|\n",
    "|-|-|-|-|-|-|-|-|-|----|\n",
    "|Unit|-|Year|-|PJ/PJ|PJ/PJ|PJ/PJ|kt/PJ|PJ/PJ|**PJ/PJ**|\n",
    "|gasCCGT|R1|2020|fixed|1|0|0|91.67|0|**0**|\n",
    "|windturbine|R1|2020|fixed|1|0|0|0|0|**0**|\n",
    "|**solarPV**|**R1**|**2020**|**fixed**|**1**|**0**|**0**|**0**|**0**|**0**|\n",
    "\n",
    "Similar to the the ```CommIn.csv```, we create a new row, and add in the solar commodity. We must ensure that we call our new commodity and technologies the same as the previous file for MUSE to successfully run."
   ]
  },
  {
   "cell_type": "markdown",
   "metadata": {},
   "source": [
    "The next file to modify is the ```ExistingCapacity.csv```. This file details the existing capacity of each technology, per year. For this example, we will set the existing capacity to be 0.\n",
    "\n",
    "|ProcessName|RegionName|Unit|2020|2025|2030|2035|2040|2045|2050|\n",
    "|-|-|-|-|-|-|-|-|-|-|\n",
    "|gasCCGT|R1|PJ/y|1|1|0|0|0|0|0|\n",
    "|windturbine|R1|PJ/y|0|0|0|0|0|0|0|\n",
    "|**solarPV**|**R1**|**PJ/y**|**0**|**0**|**0**|**0**|**0**|**0**|**0**|\n"
   ]
  },
  {
   "cell_type": "markdown",
   "metadata": {},
   "source": [
    "Finally, the ```technodata.csv``` containts parametrisation data for the technology, such as the cost, growth constraints, lifetime of the power plant and fuel used. The technodata file is too long for it all to be displayed here, so we will truncate the full version."
   ]
  },
  {
   "cell_type": "markdown",
   "metadata": {},
   "source": [
    "Here, we will only define the parameters: ```processName```, ```RegionName```, ```Time```, ```Level```,```cap_par```, ```Fuel```,```EndUse```,```Agent2``` and ```Agent1```\n",
    "\n",
    "We shall copy the existing parameters from the ```windturbine``` technology for the remaining parameters that can be seen in the ```technodata.csv``` file for brevity. You can see the full file [here INSERT LINK HERE](here)"
   ]
  },
  {
   "cell_type": "markdown",
   "metadata": {},
   "source": [
    "|ProcessName|RegionName|Time|Level|cap_par|cap_exp|…|Fuel|EndUse|Agent2|Agent1|\n",
    "|-|-|-|-|-|-|-|-|-|-|-|\n",
    "|Unit|-|Year|-|MUS$2010/PJ_a|-|…|-|-|Retrofit|New|\n",
    "|gasCCGT|R1|2020|fixed|23.78234399|1|…|gas|electricity|1|0|\n",
    "|windturbine|R1|2020|fixed|36.30771182|1|…|wind|electricity|1|0|\n",
    "|**solarPV**|**R1**|**2020**|**fixed**|**30**|**1**|...|**solar**|**electricity**|**1**|**0**|"
   ]
  },
  {
   "cell_type": "markdown",
   "metadata": {},
   "source": [
    "### Global inputs"
   ]
  },
  {
   "cell_type": "markdown",
   "metadata": {},
   "source": [
    "Next, navigate to the ```input``` folder, found at ```{muse_installation_location}src/muse/data/example/default/input```.\n",
    "\n",
    "We now must edit each of the files found here to add the new solar commodity. Due to space constraints we will not display all of the entries contained in the input files. The editted files can be downloaded from [here INSERT LINK HERE](here) however."
   ]
  },
  {
   "cell_type": "markdown",
   "metadata": {},
   "source": [
    "The ```BaseYearExport.csv``` file defines the exports in the base year. For our example we add a column to indicate that there is no export for solar. However, it is important that a column exists for the new commodity.\n",
    "\n",
    "|RegionName|Attribute|Time|electricity|gas|heat|CO2f|wind|**solar**|\n",
    "|-|-|-|-|-|-|-|-|-|\n",
    "|Unit|-|Year|PJ|PJ|PJ|kt|PJ|**PJ**|\n",
    "|R1|Exports|2010|0|0|0|0|0|**0**|\n",
    "|R1|Exports|2015|0|0|0|0|0|**0**|\n",
    "|...|...|...|...|...|...|...|...|**...**|\n",
    "|R1|Exports|2100|0|0|0|0|0|**0**|"
   ]
  },
  {
   "cell_type": "markdown",
   "metadata": {},
   "source": [
    "The ```BaseYearImport.csv``` file defines the imports in the base year. Similarly to ```BaseYearExport.csv```, we add a column for solar in the ```BaseYearImport.csv``` file. Again, we indicate that solar has no imports.\n",
    "\n",
    "|RegionName|Attribute|Time|electricity|gas|heat|CO2f|wind|**solar**|\n",
    "|-|-|-|-|-|-|-|-|-|\n",
    "|Unit|-|Year|PJ|PJ|PJ|kt|PJ|**PJ**|\n",
    "|R1|Imports|2010|0|0|0|0|0|**0**|\n",
    "|R1|Imports|2015|0|0|0|0|0|**0**|\n",
    "|...|...|...|...|...|...|...|...|**...**|\n",
    "|R1|Imports|2100|0|0|0|0|0|**0**|"
   ]
  },
  {
   "cell_type": "markdown",
   "metadata": {},
   "source": [
    "The ```GlobalCommodities.csv``` file is the file which defines the commodities, giving them a commodity type, CO2 emissions factor and heat rate. For this file, we will add the solar commodity, with zero CO2 emissions factor and a heat rate of 1.\n",
    "\n",
    "|Commodity|CommodityType|CommodityName|CommodityEmissionFactor_CO2|HeatRate|Unit|\n",
    "|-|-|-|-|-|-|\n",
    "|Electricity|Energy|electricity|0|1|PJ|\n",
    "|Gas|Energy|gas|56.1|1|PJ|\n",
    "|Heat|Energy|heat|0|1|PJ|\n",
    "|Wind|Energy|wind|0|1|PJ|\n",
    "|CO2fuelcomsbustion|Environmental|CO2f|0|1|kt|\n",
    "|**Solar**|**Energy**|**solar**|**0**|**1**|**PJ**|"
   ]
  },
  {
   "cell_type": "markdown",
   "metadata": {},
   "source": [
    "The ```projections.csv``` file details the initial market prices for the commodities. The market clearing algorithm will update these throughout the simulation, however, an initial estimate is required to start the simulation. As solar energy is free, we will indicate this by adding a final column.\n",
    "\n",
    "|RegionName|Attribute|Time|electricity|gas|heat|CO2f|wind|**solar**|\n",
    "|-|-|-|-|-|-|-|-|-|\n",
    "|Unit|-|Year|MUS\\$2010/PJ|MUS\\$2010/PJ|MUS\\$2010/PJ|MUS\\$2010/kt|MUS\\$2010/kt|**MUS\\$2010/kt**|\n",
    "|R1|CommodityPrice|2010|14.81481472|6.6759|100|0|0|**0**|\n",
    "|R1|CommodityPrice|2015|17.89814806|6.914325|100|0.052913851|0|**0**|\n",
    "|...|...|...|...|...|...|...|...|**...**|\n",
    "|R1|CommodityPrice|2100|21.39814806|7.373485819|100|1.871299697|0|**0**|"
   ]
  },
  {
   "cell_type": "markdown",
   "metadata": {},
   "source": [
    "### Running our customised simulation"
   ]
  },
  {
   "cell_type": "markdown",
   "metadata": {},
   "source": [
    "Now we are able to run our simulation, with the new solar power technology.\n",
    "\n",
    "To do this, we just have to run the same run command as previously in anaconda command prompt:\n",
    "\n",
    "`python -m muse settings.toml`"
   ]
  },
  {
   "cell_type": "markdown",
   "metadata": {},
   "source": [
    "If the simulation has run successfully, you should now have a folder in the same location as your settings.toml file called Results. The next step is to visualise the results using the python visualisation package ```seaborn``` as well as the data analysis library ```pandas```."
   ]
  },
  {
   "cell_type": "code",
   "execution_count": 2,
   "metadata": {},
   "outputs": [],
   "source": [
    "import seaborn as sns\n",
    "import pandas as pd"
   ]
  },
  {
   "cell_type": "markdown",
   "metadata": {},
   "source": [
    "Next, we will import the ```MCACapacity.csv``` file into pandas and print the first 5 lines using the ```head()``` command."
   ]
  },
  {
   "cell_type": "code",
   "execution_count": 6,
   "metadata": {},
   "outputs": [
    {
     "data": {
      "text/html": [
       "<div>\n",
       "<style scoped>\n",
       "    .dataframe tbody tr th:only-of-type {\n",
       "        vertical-align: middle;\n",
       "    }\n",
       "\n",
       "    .dataframe tbody tr th {\n",
       "        vertical-align: top;\n",
       "    }\n",
       "\n",
       "    .dataframe thead th {\n",
       "        text-align: right;\n",
       "    }\n",
       "</style>\n",
       "<table border=\"1\" class=\"dataframe\">\n",
       "  <thead>\n",
       "    <tr style=\"text-align: right;\">\n",
       "      <th></th>\n",
       "      <th>technology</th>\n",
       "      <th>region</th>\n",
       "      <th>agent</th>\n",
       "      <th>type</th>\n",
       "      <th>sector</th>\n",
       "      <th>capacity</th>\n",
       "      <th>year</th>\n",
       "    </tr>\n",
       "  </thead>\n",
       "  <tbody>\n",
       "    <tr>\n",
       "      <th>0</th>\n",
       "      <td>gasboiler</td>\n",
       "      <td>R1</td>\n",
       "      <td>A1</td>\n",
       "      <td>retrofit</td>\n",
       "      <td>residential</td>\n",
       "      <td>10.0</td>\n",
       "      <td>2020</td>\n",
       "    </tr>\n",
       "    <tr>\n",
       "      <th>1</th>\n",
       "      <td>gasCCGT</td>\n",
       "      <td>R1</td>\n",
       "      <td>A1</td>\n",
       "      <td>retrofit</td>\n",
       "      <td>power</td>\n",
       "      <td>1.0</td>\n",
       "      <td>2020</td>\n",
       "    </tr>\n",
       "    <tr>\n",
       "      <th>2</th>\n",
       "      <td>gassupply1</td>\n",
       "      <td>R1</td>\n",
       "      <td>A1</td>\n",
       "      <td>retrofit</td>\n",
       "      <td>gas</td>\n",
       "      <td>15.0</td>\n",
       "      <td>2020</td>\n",
       "    </tr>\n",
       "    <tr>\n",
       "      <th>3</th>\n",
       "      <td>gasboiler</td>\n",
       "      <td>R1</td>\n",
       "      <td>A1</td>\n",
       "      <td>retrofit</td>\n",
       "      <td>residential</td>\n",
       "      <td>5.0</td>\n",
       "      <td>2025</td>\n",
       "    </tr>\n",
       "    <tr>\n",
       "      <th>4</th>\n",
       "      <td>heatpump</td>\n",
       "      <td>R1</td>\n",
       "      <td>A1</td>\n",
       "      <td>retrofit</td>\n",
       "      <td>residential</td>\n",
       "      <td>19.0</td>\n",
       "      <td>2025</td>\n",
       "    </tr>\n",
       "  </tbody>\n",
       "</table>\n",
       "</div>"
      ],
      "text/plain": [
       "   technology region agent      type       sector  capacity  year\n",
       "0   gasboiler     R1    A1  retrofit  residential      10.0  2020\n",
       "1     gasCCGT     R1    A1  retrofit        power       1.0  2020\n",
       "2  gassupply1     R1    A1  retrofit          gas      15.0  2020\n",
       "3   gasboiler     R1    A1  retrofit  residential       5.0  2025\n",
       "4    heatpump     R1    A1  retrofit  residential      19.0  2025"
      ]
     },
     "execution_count": 6,
     "metadata": {},
     "output_type": "execute_result"
    }
   ],
   "source": [
    "mca_capacity = pd.read_csv(\"../Results/MCACapacity.csv\")\n",
    "mca_capacity.head()"
   ]
  },
  {
   "cell_type": "markdown",
   "metadata": {},
   "source": [
    "We will only visualise the power sector in this example, as this was the only sector we changed in this example. We, therefore, filter for this sector, and then visualise it using ```seaborn```:"
   ]
  },
  {
   "cell_type": "code",
   "execution_count": 7,
   "metadata": {},
   "outputs": [
    {
     "data": {
      "text/plain": [
       "<matplotlib.axes._subplots.AxesSubplot at 0x7fd544a6e760>"
      ]
     },
     "execution_count": 7,
     "metadata": {},
     "output_type": "execute_result"
    },
    {
     "data": {
      "image/png": "[encoded data removed]",
      "text/plain": [
       "<Figure size 432x288 with 1 Axes>"
      ]
     },
     "metadata": {
      "needs_background": "light"
     },
     "output_type": "display_data"
    }
   ],
   "source": [
    "power_capacity = mca_capacity[mca_capacity.sector==\"power\"]\n",
    "sns.lineplot(data=power_capacity, x='year', y='capacity', hue=\"technology\")"
   ]
  },
  {
   "cell_type": "markdown",
   "metadata": {},
   "source": [
    "We can now see that there is solarPV in addition to windturbine and gasCCGT, when compared to the example [here](running-muse-example.ipynb)! That's great and means it worked! \n",
    "\n",
    "This is due to the fact that ```solarPV``` has a lower ```cap_par``` cost of 30, compared to the ```windturbine```. Meaning that ```solarPV``` outcompetes both ```windturbine``` and ```gasCCGT``` in the electricity market."
   ]
  },
  {
   "cell_type": "markdown",
   "metadata": {},
   "source": [
    "### Change Solar Price"
   ]
  },
  {
   "cell_type": "markdown",
   "metadata": {},
   "source": [
    "Now, we will observe what happens if we increase the price of solar to be more expensive than wind. To achieve, this we have to modify the ```Technodata.csv``` file:\n",
    "\n",
    "|ProcessName|RegionName|Time|Level|cap_par|cap_exp|…|Fuel|EndUse|Agent2|Agent1|\n",
    "|-|-|-|-|-|-|-|-|-|-|-|\n",
    "|Unit|-|Year|-|MUS$2010/PJ_a|-|…|-|-|Retrofit|New|\n",
    "|gasCCGT|R1|2020|fixed|23.78234399|1|…|gas|electricity|1|0|\n",
    "|windturbine|R1|2020|fixed|36.30771182|1|…|wind|electricity|1|0|\n",
    "|solarPV|R1|2020|fixed|**40**|1|...|solar|electricity|1|0|\n",
    "\n",
    "Here, we increase the ```cap_par``` variable by 10, to be a total of 40. We will now rerun the simulation, using the same command as previously and visualise the new results."
   ]
  },
  {
   "cell_type": "markdown",
   "metadata": {},
   "source": [
    "We must import the new ```MCACapacity.csv``` file again, and then visualise the results."
   ]
  },
  {
   "cell_type": "code",
   "execution_count": 8,
   "metadata": {},
   "outputs": [
    {
     "data": {
      "text/plain": [
       "<matplotlib.axes._subplots.AxesSubplot at 0x7fd544ef7ee0>"
      ]
     },
     "execution_count": 8,
     "metadata": {},
     "output_type": "execute_result"
    },
    {
     "data": {
      "image/png": "[encoded data removed]",
      "text/plain": [
       "<Figure size 432x288 with 1 Axes>"
      ]
     },
     "metadata": {
      "needs_background": "light"
     },
     "output_type": "display_data"
    }
   ],
   "source": [
    "mca_capacity = pd.read_csv(\"../Results/MCACapacity.csv\")\n",
    "power_capacity = mca_capacity[mca_capacity.sector==\"power\"]\n",
    "sns.lineplot(data=power_capacity, x='year', y='capacity', hue=\"technology\")"
   ]
  },
  {
   "cell_type": "markdown",
   "metadata": {},
   "source": [
    "Now, we can see that the technology ```windturbine``` outcompetes ```solarPV``` and ```gasCCGT``` due to the difference in price. The possibilities for creating your own scenarios are infinite. "
   ]
  },
  {
   "cell_type": "markdown",
   "metadata": {},
   "source": [
    "In the next section we will add a new region to the simulation."
   ]
  }
 ],
 "metadata": {
  "kernelspec": {
   "display_name": "Python 3",
   "language": "python",
   "name": "python3"
  },
  "language_info": {
   "codemirror_mode": {
    "name": "ipython",
    "version": 3
   },
   "file_extension": ".py",
   "mimetype": "text/x-python",
   "name": "python",
   "nbconvert_exporter": "python",
   "pygments_lexer": "ipython3",
   "version": "3.8.3"
  }
 },
 "nbformat": 4,
 "nbformat_minor": 4
}
