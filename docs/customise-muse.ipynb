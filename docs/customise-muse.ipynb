{
 "cells": [
  {
   "cell_type": "markdown",
   "metadata": {},
   "source": [
    "# Customising MUSE"
   ]
  },
  {
   "cell_type": "markdown",
   "metadata": {},
   "source": [
    "In this section we will give you the information needed to customise MUSE for your own case studies and to answer questions you may have."
   ]
  },
  {
   "cell_type": "markdown",
   "metadata": {},
   "source": [
    "## Input Files"
   ]
  },
  {
   "cell_type": "markdown",
   "metadata": {},
   "source": [
    "MUSE is made up of a different number of files. However, these can be broadly split into two kinds of input:\n",
    "\n",
    "- Simulation settings \n",
    "\n",
    "- Simulation data\n",
    "\n",
    "Simulation settings specify how a simulation should be run. For example, which sectors to run, for how many years and what to output.\n",
    "\n",
    "Whereas, simulation data parametrises the technologies involved in the simulation, or the number and kinds of agents.\n",
    "\n",
    "To create a customised case study it is necessary to edit both of these file types.\n",
    "\n",
    "Simulation settings are specified in a TOML file. [TOML](https://github.com/toml-lang/toml) is a simple, extensible and intuitive file format well suited  for specifying small sets of complex data.\n",
    "\n",
    "Simulation data is specified in [CSV](https://en.wikipedia.org/wiki/Comma-separated_values). This is a common format used for larger datasets, and is made up of columns and rows, with a comma used to differentiate between entries. \n",
    "\n",
    "MUSE requires at least the following files to successfully run:\n",
    "\n",
    "* a single [simulation settings TOML file](inputs/toml.rst) for the simulation as a whole\n",
    "* a file indicating initial market price [projections](inputs/projections.rst)\n",
    "* a file describing the [commodities in the simulation](inputs/commodities.rst)\n",
    "* for generalized sectors:\n",
    "   * a file descring the [agents](inputs/agents.rst)\n",
    "   * a file descring the [technologies](inputs/technodata.rst)\n",
    "   * a file descring the [input commodities](inputs/commodities_io.rst) for each technology\n",
    "   * a file descring the [output commodities](inputs/commodities_io.rst) for each technology\n",
    "   * a file descring the [existing capacity](inputs/existing_capacity.rst) of a given\n",
    "     sector\n",
    "* for each preset sector:\n",
    "   * a csv file describing consumption for the duration of the simulation\n",
    "   \n",
    "For a full description of these files see the [input files section](inputs/index.rst). To see how to customise an example, continue on this page."
   ]
  },
  {
   "cell_type": "markdown",
   "metadata": {},
   "source": [
    "# Addition of a Technology"
   ]
  },
  {
   "cell_type": "markdown",
   "metadata": {},
   "source": [
    "In this section, we will add solar photovoltaics to the default model seen in the [example page](running-muse-example.ipynb). To achieve this, we must modify some of the input files shown in the above section. These files can be found in the ```StarMuse``` folder at the following location:\n",
    "\n",
    "`{muse_install_location}/src/muse/data/example/default`\n",
    "\n",
    "Change ```{muse_install_location}``` to the location where you installed MUSE. "
   ]
  },
  {
   "cell_type": "markdown",
   "metadata": {},
   "source": [
    "## Technodata Input "
   ]
  },
  {
   "cell_type": "markdown",
   "metadata": {},
   "source": [
    "Within the default folder there is the ```settings.toml``` file, input folder and technodata folder. To add a technology within the power sector, we must open the ```technodata``` folder followed by the ```power``` folder.\n",
    "\n",
    "Next, we will edit the ```CommIn.csv``` file, which specifies the commodities consumed by solar photovoltaics.\n",
    "\n",
    "The table below shows the original ```CommIn.csv``` version in normal text, and the added column and row in **bold**.\n",
    "\n",
    "|ProcessName|RegionName|Time|Level|electricity|gas|heat|CO2f|wind|**solar**|\n",
    "|-----------|----------|----|-----|-----------|---|----|----|----|----|\n",
    "|Unit|-|Year|-|PJ/PJ|PJ/PJ|PJ/PJ|kt/PJ|PJ/PJ|**PJ/PJ**|\n",
    "|gasCCGT|R1|2020|fixed|0|1.67|0|0|0|**0**|\n",
    "|windturbine|R1|2020|fixed|0|0|0|0|1|**0**|\n",
    "|**solarPV**|**R1**|**2020**|**fixed**|**0**|**0**|**0**|**0**|**0**|**1**|\n",
    "\n",
    "We must first add a new row at the bottom of the file, to indicate the new solar photovoltaic technology:\n",
    "\n",
    "- we call this technology ```solarPV``` \n",
    "- place it in region ```R1``` \n",
    "- the data in this row is associated to the year 2020\n",
    "- the input type is fixed\n",
    "- solarPV consumes solar\n",
    "\n",
    "As the solar commodity has not been previously defined, we must define it by adding a column, which we will call solar. We then indicate that the only technology which consumes solar is solarPV.\n"
   ]
  },
  {
   "cell_type": "markdown",
   "metadata": {},
   "source": [
    "We repeat this process for the file: ```CommOut.csv```. This file specifies the output of the technology. In our case, solar photovoltaics only output ```electricity```, unlike ```gasCCGT``` which also outputs ```CO2f```, or carbon dioxide.\n",
    "\n",
    "|ProcessName|RegionName|Time|Level|electricity|gas|heat|CO2f|wind|**solar**|\n",
    "|-|-|-|-|-|-|-|-|-|----|\n",
    "|Unit|-|Year|-|PJ/PJ|PJ/PJ|PJ/PJ|kt/PJ|PJ/PJ|**PJ/PJ**|\n",
    "|gasCCGT|R1|2020|fixed|1|0|0|91.67|0|**0**|\n",
    "|windturbine|R1|2020|fixed|1|0|0|0|0|**0**|\n",
    "|**solarPV**|**R1**|**2020**|**fixed**|**1**|**0**|**0**|**0**|**0**|**0**|\n",
    "\n",
    "Similar to the the ```CommIn.csv```, we create a new row, and add in the solar commodity. We must ensure that we call our new commodity and technologies the same as the previous file for MUSE to successfully run."
   ]
  },
  {
   "cell_type": "markdown",
   "metadata": {},
   "source": [
    "The next file to modify is the ```ExistingCapacity.csv```. This file details the existing capacity of each technology, per year. For this example, we will set the existing capacity to be 0.\n",
    "\n",
    "|ProcessName|RegionName|Unit|2020|2025|2030|2035|2040|2045|2050|\n",
    "|-|-|-|-|-|-|-|-|-|-|\n",
    "|gasCCGT|R1|PJ/y|1|1|0|0|0|0|0|\n",
    "|windturbine|R1|PJ/y|0|0|0|0|0|0|0|\n",
    "|**solarPV**|**R1**|**PJ/y**|**0**|**0**|**0**|**0**|**0**|**0**|**0**|\n"
   ]
  },
  {
   "cell_type": "markdown",
   "metadata": {},
   "source": [
    "Finally, the ```technodata.csv``` containts parametrisation data for the technology, such as the cost, growth constraints, lifetime of the power plant and fuel used. The technodata file is too long for it all to be displayed here, so we will truncate the full version."
   ]
  },
  {
   "cell_type": "markdown",
   "metadata": {},
   "source": [
    "Here, we will only define the parameters: ```processName```, ```RegionName```, ```Time```, ```Level```,```cap_par```, ```Fuel```,```EndUse```,```Agent2``` and ```Agent1```\n",
    "\n",
    "We shall copy the existing parameters from the ```windturbine``` technology for the remaining parameters that can be seen in the ```technodata.csv``` file for brevity. You can see the full file [here INSERT LINK HERE](here)"
   ]
  },
  {
   "cell_type": "markdown",
   "metadata": {},
   "source": [
    "|ProcessName|RegionName|Time|Level|cap_par|cap_exp|…|Fuel|EndUse|Agent2|Agent1|\n",
    "|-|-|-|-|-|-|-|-|-|-|-|\n",
    "|Unit|-|Year|-|MUS$2010/PJ_a|-|…|-|-|Retrofit|New|\n",
    "|gasCCGT|R1|2020|fixed|23.78234399|1|…|gas|electricity|1|0|\n",
    "|windturbine|R1|2020|fixed|36.30771182|1|…|wind|electricity|1|0|\n",
    "|**solarPV**|**R1**|**2020**|**fixed**|**30**|**1**|...|**solar**|**electricity**|**1**|**0**|"
   ]
  },
  {
   "cell_type": "markdown",
   "metadata": {},
   "source": [
    "## Global inputs"
   ]
  },
  {
   "cell_type": "markdown",
   "metadata": {},
   "source": [
    "Next, navigate to the ```input``` folder, found at ```{muse_installation_location}src/muse/data/example/default/input```.\n",
    "\n",
    "We now must edit each of the files found here to add the new solar commodity. Due to space constraints we will not display all of the entries contained in the input files. The editted files can be downloaded from [here INSERT LINK HERE](here) however."
   ]
  },
  {
   "cell_type": "markdown",
   "metadata": {},
   "source": [
    "```BaseYearExport.csv```\n",
    "\n",
    "|RegionName|Attribute|Time|electricity|gas|heat|CO2f|wind|**solar**|\n",
    "|-|-|-|-|-|-|-|-|-|\n",
    "|Unit|-|Year|PJ|PJ|PJ|kt|PJ|**PJ**|\n",
    "|R1|Exports|2010|0|0|0|0|0|**0**|\n",
    "|R1|Exports|2015|0|0|0|0|0|**0**|\n",
    "|...|...|...|...|...|...|...|...|**...**|\n",
    "|R1|Exports|2100|0|0|0|0|0|**0**|"
   ]
  },
  {
   "cell_type": "markdown",
   "metadata": {},
   "source": [
    "```BaseYearImport.csv```\n",
    "\n",
    "|RegionName|Attribute|Time|electricity|gas|heat|CO2f|wind|**solar**|\n",
    "|-|-|-|-|-|-|-|-|-|\n",
    "|Unit|-|Year|PJ|PJ|PJ|kt|PJ|**PJ**|\n",
    "|R1|Imports|2010|0|0|0|0|0|**0**|\n",
    "|R1|Imports|2015|0|0|0|0|0|**0**|\n",
    "|...|...|...|...|...|...|...|...|**...**|\n",
    "|R1|Imports|2100|0|0|0|0|0|**0**|"
   ]
  },
  {
   "cell_type": "markdown",
   "metadata": {},
   "source": [
    "```GlobalCommodities.csv```\n",
    "\n",
    "|Commodity|CommodityType|CommodityName|CommodityEmissionFactor_CO2|HeatRate|Unit|\n",
    "|-|-|-|-|-|-|\n",
    "|Electricity|Energy|electricity|0|1|PJ|\n",
    "|Gas|Energy|gas|56.1|1|PJ|\n",
    "|Heat|Energy|heat|0|1|PJ|\n",
    "|Wind|Energy|wind|0|1|PJ|\n",
    "|CO2fuelcomsbustion|Environmental|CO2f|0|1|kt|\n",
    "|**Solar**|**Energy**|**solar**|**0**|**1**|**PJ**|"
   ]
  },
  {
   "cell_type": "markdown",
   "metadata": {},
   "source": [
    "```GlobalCommodities.csv```"
   ]
  },
  {
   "cell_type": "markdown",
   "metadata": {},
   "source": [
    "\n",
    "The ```projections.csv``` file details the initial \n",
    "\n",
    "|RegionName|Attribute|Time|electricity|gas|heat|CO2f|wind|**solar**|\n",
    "|-|-|-|-|-|-|-|-|-|\n",
    "|Unit|-|Year|MUS\\$2010/PJ|MUS\\$2010/PJ|MUS\\$2010/PJ|MUS\\$2010/kt|MUS\\$2010/kt|**MUS\\$2010/kt**|\n",
    "|R1|CommodityPrice|2010|14.81481472|6.6759|100|0|0|**0**|\n",
    "|R1|CommodityPrice|2015|17.89814806|6.914325|100|0.052913851|0|**0**|\n",
    "|...|...|...|...|...|...|...|...|**...**|\n",
    "|R1|CommodityPrice|2100|21.39814806|7.373485819|100|1.871299697|0|**0**|"
   ]
  }
 ],
 "metadata": {
  "kernelspec": {
   "display_name": "Python 3",
   "language": "python",
   "name": "python3"
  },
  "language_info": {
   "codemirror_mode": {
    "name": "ipython",
    "version": 3
   },
   "file_extension": ".py",
   "mimetype": "text/x-python",
   "name": "python",
   "nbconvert_exporter": "python",
   "pygments_lexer": "ipython3",
   "version": "3.8.3"
  }
 },
 "nbformat": 4,
 "nbformat_minor": 4
}
