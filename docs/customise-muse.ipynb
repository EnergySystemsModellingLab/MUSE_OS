{
 "cells": [
  {
   "cell_type": "markdown",
   "metadata": {},
   "source": [
    "# Customising MUSE"
   ]
  },
  {
   "cell_type": "markdown",
   "metadata": {},
   "source": [
    "In this section we will give you the information needed to customise MUSE for your own case studies and to answer questions you may have."
   ]
  },
  {
   "cell_type": "markdown",
   "metadata": {},
   "source": [
    "## Input Files"
   ]
  },
  {
   "cell_type": "markdown",
   "metadata": {},
   "source": [
    "MUSE is made up of a different number of files. However, these can be broadly split into two kinds of input:\n",
    "\n",
    "- Simulation settings \n",
    "\n",
    "- Simulation data\n",
    "\n",
    "Simulation settings specify how a simulation should be run. For example, which sectors to run, for how many years and what to output.\n",
    "\n",
    "Whereas, simulation data parametrises the technologies involved in the simulation, or the number and kinds of agents.\n",
    "\n",
    "To create a customised case study it is necessary to edit both of these file types.\n",
    "\n",
    "Simulation settings are specified in a TOML file. [TOML](https://github.com/toml-lang/toml) is a simple, extensible and intuitive file format well suited  for specifying small sets of complex data.\n",
    "\n",
    "Simulation data is specified in [CSV](https://en.wikipedia.org/wiki/Comma-separated_values). This is a common format used for larger datasets, and is made up of columns and rows, with a comma used to differentiate between entries. \n",
    "\n",
    "MUSE requires at least the following files to successfully run:\n",
    "\n",
    "* a single [simulation settings TOML file](inputs/toml.rst) for the simulation as a whole\n",
    "* a file indicating initial market price [projections](inputs/projections.rst)\n",
    "* a file describing the [commodities in the simulation](inputs/commodities.rst)\n",
    "* for generalized sectors:\n",
    "   * a file descring the [agents](inputs/agents.rst)\n",
    "   * a file descring the [technologies](inputs/technodata.rst)\n",
    "   * a file descring the [input commodities](inputs/commodities_io.rst) for each technology\n",
    "   * a file descring the [output commodities](inputs/commodities_io.rst) for each technology\n",
    "   * a file descring the [existing capacity](inputs/existing_capacity.rst) of a given\n",
    "     sector\n",
    "* for each preset sector:\n",
    "   * a csv file describing consumption for the duration of the simulation\n",
    "   \n",
    "For a full description of these files see the [input files section](inputs/index.rst). To see how to customise an example, continnue on this page."
   ]
  },
  {
   "cell_type": "code",
   "execution_count": 3,
   "metadata": {},
   "outputs": [
    {
     "name": "stdout",
     "output_type": "stream",
     "text": [
      "Hello\n"
     ]
    }
   ],
   "source": []
  },
  {
   "cell_type": "code",
   "execution_count": null,
   "metadata": {},
   "outputs": [],
   "source": []
  }
 ],
 "metadata": {
  "kernelspec": {
   "display_name": "Python 3",
   "language": "python",
   "name": "python3"
  },
  "language_info": {
   "codemirror_mode": {
    "name": "ipython",
    "version": 3
   },
   "file_extension": ".py",
   "mimetype": "text/x-python",
   "name": "python",
   "nbconvert_exporter": "python",
   "pygments_lexer": "ipython3",
   "version": "3.8.3"
  }
 },
 "nbformat": 4,
 "nbformat_minor": 4
}
