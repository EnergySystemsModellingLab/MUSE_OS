{
 "cells": [
  {
   "cell_type": "markdown",
   "metadata": {},
   "source": [
    "# Further extending MUSE"
   ]
  },
  {
   "cell_type": "markdown",
   "metadata": {},
   "source": [
    "## Adding a search space filter"
   ]
  },
  {
   "cell_type": "code",
   "execution_count": 1,
   "metadata": {},
   "outputs": [],
   "source": [
    "from xarray import Dataset, DataArray\n",
    "\n",
    "from muse.agents import Agent\n",
    "from muse.filters import register_filter\n",
    "\n",
    "@register_filter\n",
    "def no_ccgt_filter(\n",
    "    agent: Agent,\n",
    "    search_space: DataArray,\n",
    "    technologies: Dataset,\n",
    "    market: Dataset\n",
    ") -> DataArray:\n",
    "    \"\"\"Excludes gasCCGT.\"\"\"\n",
    "    dropped_tech = search_space.where(search_space.replacement != \"windturbine\")\n",
    "    return search_space & search_space.replacement.isin(dropped_tech.replacement)"
   ]
  },
  {
   "cell_type": "code",
   "execution_count": 2,
   "metadata": {},
   "outputs": [
    {
     "name": "stderr",
     "output_type": "stream",
     "text": [
      "-- 2020-11-26 16:43:53 - muse.sectors.register - INFO\n",
      "Sector legacy registered.\n",
      "\n",
      "-- 2020-11-26 16:43:53 - muse.sectors.register - INFO\n",
      "Sector preset registered, with alias presets.\n",
      "\n",
      "-- 2020-11-26 16:43:53 - muse.sectors.register - INFO\n",
      "Sector default registered.\n",
      "\n",
      "-- 2020-11-26 16:43:58 - muse.mca - WARNING\n",
      "Check growth constraints for wind.\n",
      "\n",
      "-- 2020-11-26 16:44:03 - muse.mca - WARNING\n",
      "Check growth constraints for wind.\n",
      "\n",
      "-- 2020-11-26 16:44:08 - muse.mca - WARNING\n",
      "Check growth constraints for wind.\n",
      "\n",
      "-- 2020-11-26 16:44:12 - muse.mca - WARNING\n",
      "Check growth constraints for wind.\n",
      "\n",
      "-- 2020-11-26 16:44:17 - muse.mca - WARNING\n",
      "Check growth constraints for wind.\n",
      "\n",
      "-- 2020-11-26 16:44:21 - muse.mca - WARNING\n",
      "Check growth constraints for wind.\n",
      "\n",
      "-- 2020-11-26 16:44:25 - muse.mca - WARNING\n",
      "Check growth constraints for wind.\n",
      "\n",
      "-- 2020-11-26 16:44:30 - muse.mca - WARNING\n",
      "Check growth constraints for wind.\n",
      "\n",
      "-- 2020-11-26 16:44:34 - muse.mca - WARNING\n",
      "Check growth constraints for wind.\n",
      "\n",
      "-- 2020-11-26 16:44:38 - muse.mca - WARNING\n",
      "Check growth constraints for wind.\n",
      "\n",
      "-- 2020-11-26 16:44:43 - muse.mca - WARNING\n",
      "Check growth constraints for wind.\n",
      "\n",
      "-- 2020-11-26 16:44:47 - muse.mca - WARNING\n",
      "Check growth constraints for wind.\n",
      "\n",
      "-- 2020-11-26 16:44:51 - muse.mca - WARNING\n",
      "Check growth constraints for wind.\n",
      "\n"
     ]
    }
   ],
   "source": [
    "import logging\n",
    "from muse.mca import MCA\n",
    "from muse import examples\n",
    "\n",
    "# model_path = examples.copy_model(overwrite=True)\n",
    "logging.getLogger(\"muse\").setLevel(0)\n",
    "mca = MCA.factory(\"model/settings.toml\")\n",
    "mca.run();"
   ]
  },
  {
   "cell_type": "code",
   "execution_count": 3,
   "metadata": {},
   "outputs": [
    {
     "data": {
      "text/plain": [
       "<AxesSubplot:xlabel='year', ylabel='capacity'>"
      ]
     },
     "execution_count": 3,
     "metadata": {},
     "output_type": "execute_result"
    },
    {
     "data": {
      "image/png": "[encoded data removed]",
      "text/plain": [
       "<Figure size 432x288 with 1 Axes>"
      ]
     },
     "metadata": {
      "needs_background": "light"
     },
     "output_type": "display_data"
    }
   ],
   "source": [
    "import pandas as pd\n",
    "import seaborn as sns\n",
    "import matplotlib.pyplot\n",
    "\n",
    "results = pd.read_csv(\"Results/MCACapacity.csv\")\n",
    "results\n",
    "sns.lineplot(data=results[results.sector==\"power\"], x='year', y='capacity', hue='technology')"
   ]
  },
  {
   "cell_type": "markdown",
   "metadata": {},
   "source": [
    "## Registering a custom decision function"
   ]
  },
  {
   "cell_type": "markdown",
   "metadata": {},
   "source": [
    "Next, we would like to add an additional decision function. A decision function is a transformation applied to aggregate multiple objectives into a single objective during agent investment. For example, through the use of a weighted sum. \n",
    "\n",
    "In this example, we would like to take the median objective. However, the functions predefined in MUSE don't include this functionality. MUSE contains examples such as the mean, weighted sum and a single objective. Therefore we will have to register and create our own.\n",
    "\n",
    "Now, we create our new `median_objective` function:"
   ]
  },
  {
   "cell_type": "code",
   "execution_count": 4,
   "metadata": {},
   "outputs": [],
   "source": [
    "from muse.decisions import register_decision\n",
    "from typing import Any\n",
    "from xarray import Dataset\n",
    "\n",
    "@register_decision\n",
    "def median_objective(\n",
    "    objectives: Dataset,\n",
    "    parameters: Any,\n",
    "    **kwargs\n",
    ") -> DataArray:\n",
    "    from xarray import concat\n",
    "    allobjectives = concat(objectives.data_vars.values(), dim=\"concat_var\")\n",
    "    return allobjectives.median(set(allobjectives.dims) - {\"asset\", \"replacement\"})"
   ]
  },
  {
   "cell_type": "markdown",
   "metadata": {},
   "source": [
    "After importing the decorator function, `register_decision`, and ensuring that we decorate our new function with  `@register_decision`, we are able to create our new function as above.\n",
    "\n",
    "Our new function `median_objective` modifies the `mean` function already built into MUSE, with one difference. Replacing the return value, from `allobjectives.mean` to `allobjectives.mean`.\n",
    "\n",
    "    @register_decision\n",
    "    def mean(objectives: Dataset, *args, **kwargs) -> DataArray:\n",
    "        \"\"\"Mean over objectives.\"\"\"\n",
    "        from xarray import concat\n",
    "\n",
    "        allobjectives = concat(objectives.data_vars.values(), dim=\"concat_var\")\n",
    "        return allobjectives.mean(set(allobjectives.dims) - {\"asset\", \"replacement\"})\n",
    "        \n",
    "Of course, you are free to make your functions as complicated as you like, depending on your own requirements.\n",
    "\n",
    "Next, we must edit our `Agents.csv` file. We will modify the `default` example for this tutorial. We change the first two entry rows, to be as follows:\n",
    "\n",
    "    Agent1,A1,1,R1,LCOE,NPV,EAC,1,,,FALSE,,,all,median_objective,1,-1,inf,New\n",
    "    Agent2,A1,2,R1,LCOE,NPV,EAC,1,,,FALSE,,,all,median_objective,1,-1,inf,Retrofit\n",
    "\n",
    "Here, we add the NPV and EAC decision metrics, as well as replacing the `singleObj` `DecisionMethod` to `median_objective`.\n",
    "\n",
    "Now we are able to run our modified model as before:"
   ]
  },
  {
   "cell_type": "code",
   "execution_count": 5,
   "metadata": {},
   "outputs": [
    {
     "name": "stderr",
     "output_type": "stream",
     "text": [
      "-- 2020-11-26 16:44:59 - muse.mca - WARNING\n",
      "Check growth constraints for wind.\n",
      "\n",
      "-- 2020-11-26 16:45:02 - muse.mca - WARNING\n",
      "Check growth constraints for wind.\n",
      "\n",
      "-- 2020-11-26 16:45:04 - muse.mca - WARNING\n",
      "Check growth constraints for wind.\n",
      "\n",
      "-- 2020-11-26 16:45:09 - muse.mca - WARNING\n",
      "Check growth constraints for wind.\n",
      "\n",
      "-- 2020-11-26 16:45:13 - muse.mca - WARNING\n",
      "Check growth constraints for wind.\n",
      "\n",
      "-- 2020-11-26 16:45:17 - muse.mca - WARNING\n",
      "Check growth constraints for wind.\n",
      "\n",
      "-- 2020-11-26 16:45:20 - muse.mca - WARNING\n",
      "Check growth constraints for wind.\n",
      "\n",
      "-- 2020-11-26 16:45:25 - muse.mca - WARNING\n",
      "Check growth constraints for wind.\n",
      "\n",
      "-- 2020-11-26 16:45:28 - muse.mca - WARNING\n",
      "Check growth constraints for wind.\n",
      "\n",
      "-- 2020-11-26 16:45:32 - muse.mca - WARNING\n",
      "Check growth constraints for wind.\n",
      "\n",
      "-- 2020-11-26 16:45:35 - muse.mca - WARNING\n",
      "Check growth constraints for wind.\n",
      "\n",
      "-- 2020-11-26 16:45:39 - muse.mca - WARNING\n",
      "Check growth constraints for wind.\n",
      "\n",
      "-- 2020-11-26 16:45:43 - muse.mca - WARNING\n",
      "Check growth constraints for wind.\n",
      "\n"
     ]
    }
   ],
   "source": [
    "logging.getLogger(\"muse\").setLevel(0)\n",
    "mca = MCA.factory(\"../tutorial-code/new-decision-metric/settings.toml\")\n",
    "mca.run();"
   ]
  },
  {
   "cell_type": "markdown",
   "metadata": {},
   "source": [
    "Again, we visualise the power sector:"
   ]
  },
  {
   "cell_type": "code",
   "execution_count": 6,
   "metadata": {},
   "outputs": [
    {
     "data": {
      "text/plain": [
       "<AxesSubplot:xlabel='year', ylabel='capacity'>"
      ]
     },
     "execution_count": 6,
     "metadata": {},
     "output_type": "execute_result"
    },
    {
     "data": {
      "image/png": "[encoded data removed]",
      "text/plain": [
       "<Figure size 432x288 with 1 Axes>"
      ]
     },
     "metadata": {
      "needs_background": "light"
     },
     "output_type": "display_data"
    }
   ],
   "source": [
    "import pandas as pd\n",
    "import seaborn as sns\n",
    "import matplotlib.pyplot\n",
    "\n",
    "results = pd.read_csv(\"Results/MCACapacity.csv\")\n",
    "results\n",
    "sns.lineplot(data=results[results.sector==\"power\"], x='year', y='capacity', hue='technology')"
   ]
  },
  {
   "cell_type": "markdown",
   "metadata": {},
   "source": [
    "We see a different scenario emerge through these different decision metrics. This shows the importance of decision metrics when making long-term investment decisions."
   ]
  },
  {
   "cell_type": "markdown",
   "metadata": {},
   "source": [
    "## End of tutorials\n",
    "\n",
    "In these tutorials you have seen the ways in which you can modify MUSE. All of these methods can be combined and extended to make as simple or complex model as you wish. Feel free to experiment and come up with your own ideas for your future work!\n",
    "\n",
    "For further information, we refer you to the API in the next section."
   ]
  }
 ],
 "metadata": {
  "kernelspec": {
   "display_name": "Python 3",
   "language": "python",
   "name": "python3"
  },
  "language_info": {
   "codemirror_mode": {
    "name": "ipython",
    "version": 3
   },
   "file_extension": ".py",
   "mimetype": "text/x-python",
   "name": "python",
   "nbconvert_exporter": "python",
   "pygments_lexer": "ipython3",
   "version": "3.8.5"
  }
 },
 "nbformat": 4,
 "nbformat_minor": 4
}
