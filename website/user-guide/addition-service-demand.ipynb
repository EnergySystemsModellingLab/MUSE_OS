{
 "cells": [
  {
   "cell_type": "markdown",
   "metadata": {},
   "source": [
    "# Adding a service demand"
   ]
  },
  {
   "cell_type": "markdown",
   "metadata": {},
   "source": [
    "In this section, we will detail how to add a service demand to MUSE. \n",
    "\n",
    "A service demand is an end-use demand. For example, in the residential sector, a service demand could be cooking. Houses require energy to cook food and a technology to service this demand, such as an electric stove. \n",
    "\n",
    "This process consists of setting a demand, either through inputs derived from the user or correlations of GDP and population which reflect the socio-economic decvelopment of a region or country. In addition, a technology must be added to service the demand."
   ]
  },
  {
   "cell_type": "markdown",
   "metadata": {},
   "source": [
    "## Addition of cooking demand"
   ]
  },
  {
   "cell_type": "markdown",
   "metadata": {},
   "source": [
    "Firstly, we must add the demand section. In this example, we will add a cooking preset demand. To achieve this, we will now edit the `Residential2020Consumption.csv` and `Residential2050Consumption.csv` files, found within the `technodata/preset/` directory.\n",
    "\n",
    "The `Residential2020Consumption.csv` file allows us to specify the demand in 2020 for each region and technology per timeslice. The `Residential2050Consumption.csv` file does the same but for the year 2050. The datapoints between these are interpolated.\n",
    "\n",
    "Firstly, we must add the new service demand: `cook` as a column in these two files. Next, we add the demand. Again, the modified entries are in bold:"
   ]
  },
  {
   "cell_type": "markdown",
   "metadata": {},
   "source": [
    "||RegionName|ProcessName|Timeslice|electricity|gas|heat|CO2f|wind|**cook**|\n",
    "|-|-|-|-|-|-|-|-|-|-|\n",
    "|0|R1|gasboiler|1|0|0|1|0|0|**0**|\n",
    "|...|...|...|...|...|...|...|...|...|**...**|\n",
    "|15|R2|gasboiler|8|0|0|2|0|0|**0**|\n",
    "|**16**|**R1**|**electric_stove**|**1**|**0**|**0**|**0**|**0**|**0**|**1**|\n",
    "|**17**|**R1**|**electric_stove**|**2**|**0**|**0**|**0**|**0**|**0**|**2**|\n",
    "|**18**|**R1**|**electric_stove**|**3**|**0**|**0**|**0**|**0**|**0**|**1**|\n",
    "|**19**|**R1**|**electric_stove**|**4**|**0**|**0**|**0**|**0**|**0**|**1.5**|\n",
    "|**20**|**R1**|**electric_stove**|**5**|**0**|**0**|**0**|**0**|**0**|**2**|\n",
    "|**21**|**R1**|**electric_stove**|**6**|**0**|**0**|**0**|**0**|**0**|**3**|\n",
    "|**22**|**R1**|**electric_stove**|**7**|**0**|**0**|**0**|**0**|**0**|**2**|\n",
    "|**23**|**R1**|**electric_stove**|**8**|**0**|**0**|**0**|**0**|**0**|**3**|\n",
    "|**24**|**R2**|**electric_stove**|**1**|**0**|**0**|**0**|**0**|**0**|**1**|\n",
    "|**25**|**R2**|**electric_stove**|**2**|**0**|**0**|**0**|**0**|**0**|**1**|\n",
    "|**26**|**R2**|**electric_stove**|**3**|**0**|**0**|**0**|**0**|**0**|**1**|\n",
    "|**27**|**R2**|**electric_stove**|**4**|**0**|**0**|**0**|**0**|**0**|**1.5**|\n",
    "|**28**|**R2**|**electric_stove**|**5**|**0**|**0**|**0**|**0**|**0**|**2**|\n",
    "|**29**|**R2**|**electric_stove**|**6**|**0**|**0**|**0**|**0**|**0**|**2**|\n",
    "|**30**|**R2**|**electric_stove**|**7**|**0**|**0**|**0**|**0**|**0**|**2.5**|\n",
    "|**31**|**R2**|**electric_stove**|**8**|**0**|**0**|**0**|**0**|**0**|**2**|\n"
   ]
  },
  {
   "cell_type": "markdown",
   "metadata": {},
   "source": [
    "For the purposes of brevity, we omitted the majority of the `gasboiler` entries. However, these remain unchanged, apart from a `0` entry in the cook column to indicate that a `gasboiler` does not meet `cook` demand.\n",
    "\n",
    "We added an `electric_stove` process for each of the timeslices, which meets the `cook` demand. This can be seen through the addition of a positive number in the `cook` column.\n",
    "\n",
    "The process is very similar for the `Residential2050Consumption.csv` file, however, for this example, we often placed larger numbers to indicate higher demand in 2050. For the complete file see the link [here INCLUDE LINK HERE](total-addition-service-demand-github)"
   ]
  },
  {
   "cell_type": "markdown",
   "metadata": {},
   "source": [
    "Next, we must edit the files within the `input` folder. For this, we must  add the `cook` service demand to each of these files.\n",
    "\n",
    "First, we will amend the `BaseYearExport.csv` and `BaseYearImport.csv` files. For this, we say that there is no import or export of the `cook` service demand. A brief example is outlined below for `BaseYearExport.csv`:\n",
    "\n",
    "|RegionName|Attribute|Time|electricity|gas|heat|CO2f|wind|solar|**cook**|\n",
    "|-|-|-|-|-|-|-|-|-|-|\n",
    "|Unit|-|Year|PJ|PJ|PJ|kt|PJ|PJ|**PJ**|\n",
    "|R1|Exports|2010|0|0|0|0|0|0|**0**|\n",
    "|...|...|...|...|...|...|...|...|...|**...**|\n",
    "|R2|Exports|2100|0|0|0|0|0|0|**0**|\n",
    "\n",
    "The same is true for the `BaseYearImport.csv` file:\n",
    "\n",
    "|RegionName|Attribute|Time|electricity|gas|heat|CO2f|wind|solar|**cook**|\n",
    "|-|-|-|-|-|-|-|-|-|-|\n",
    "|Unit|-|Year|PJ|PJ|PJ|kt|PJ|PJ|**PJ**|\n",
    "|R1|Imports|2010|0|0|0|0|0|0|**0**|\n",
    "|...|...|...|...|...|...|...|...|...|**...**|\n",
    "|R2|Imports|2100|0|0|0|0|0|0|**0**|\n",
    "\n"
   ]
  },
  {
   "cell_type": "markdown",
   "metadata": {},
   "source": [
    "Next, we must edit the `GlobalCommodities.csv` file. This is where we define the new commodity `cook`. It tells MUSE the commodity type, name, emissions factor of CO2 and heat rate, amongst other things. \n",
    "\n",
    "The example used for this tutorial is below: \n",
    "\n",
    "|Commodity|CommodityType|CommodityName|CommodityEmissionFactor_CO2|HeatRate|Unit|\n",
    "|-|-|-|-|-|-|\n",
    "|Electricity|Energy|electricity|0|1|PJ|\n",
    "|Gas|Energy|gas|56.1|1|PJ|\n",
    "|Heat|Energy|heat|0|1|PJ|\n",
    "|Wind|Energy|wind|0|1|PJ|\n",
    "|CO2fuelcomsbustion|Environmental|CO2f|0|1|kt|\n",
    "|Solar|Energy|solar|0|1|PJ|\n",
    "|**Cook**|**Energy**|**cook**|**0**|**1**|**PJ**|"
   ]
  },
  {
   "cell_type": "markdown",
   "metadata": {},
   "source": [
    "Finally, the `Projections.csv` file must be changed. This is a large file which details the expected cost of the technology in the first year of the simulation. Due to its size, we will only show two rows of the new column `cook`.\n",
    "\n",
    "|RegionName|Attribute|Time|…|**cook**|\n",
    "|-|-|-|-|-|\n",
    "|Unit|-|Year|…|**MUS\\$2010/kt**|\n",
    "|R1|CommodityPrice|2010|…|**100**|\n",
    "|…|…|…|…|**…**|\n",
    "|R2|CommodityPrice|2100|…|**100**|\n",
    "\n",
    "We set every price of cook to be `100MUS$2010/kt`"
   ]
  },
  {
   "cell_type": "markdown",
   "metadata": {},
   "source": [
    "## Addition of cooking technology"
   ]
  },
  {
   "cell_type": "markdown",
   "metadata": {},
   "source": [
    "Next, we must add a technology to service this new demand. This is achieved through a similar process as the section in the [\"adding a new technology\"](add-solar.ipynb) section. However, we must be careful to specify the end-use of the technology as `cook`.\n",
    "\n",
    "For this example, we will add two competing technologies to service the cooking demand: `electric_stove` and `gas_stove` to the `Technodata.csv` file in `/technodata/residential/Technodata.csv`.\n",
    "\n",
    "Again for the interests of space, we have omitted the existing `gasboiler` and `heatpump` technologies. But we copy the `gasboiler` row for `R1` and paste it for the new `electric_stove` for both `R1` and `R2`. For `gas_stove` we copy and paste the data for `heatpump` from region `R1` for both `R1` and `R2`. \n",
    "\n",
    "An important modification, however, is specifying the end-use for these new technologies to be `cook` and not `heat`.\n",
    "\n",
    "|ProcessName|RegionName|Time|Level|cap_par|…|Fuel|EndUse|Agent2|Agent1|\n",
    "|-|-|-|-|-|-|-|-|-|-|\n",
    "|Unit|-|Year|-|MUS$2010/PJ_a|…|-|-|Retrofit|New|\n",
    "|gasboiler|R1|2020|fixed|3.8|…|gas|heat|1|0|\n",
    "|...|...|...|...|...|...|...|...|...|...|\n",
    "|**electric_stove**|**R1**|**2020**|**fixed**|**3.8**|**…**|**electricity**|**cook**|**1**|**0**|\n",
    "|**electric_stove**|**R2**|**2020**|**fixed**|**3.8**|**…**|**electricity**|**cook**|**1**|**0**|\n",
    "|**gas_stove**|**R1**|**2020**|**fixed**|**8.8667**|**…**|**gas**|**cook**|**1**|**0**|\n",
    "|**gas_stove**|**R2**|**2020**|**fixed**|**8.8667**|**…**|**gas**|**cook**|**1**|**0**|\n",
    "\n",
    "\n",
    "As can be seen we have added two technologies, in the two regions with different `cap_par` costs. We specified their respective fules, and the enduse for both is `cook`. For the full file please see [here INSERT LINK HERE](here)."
   ]
  },
  {
   "cell_type": "markdown",
   "metadata": {},
   "source": [
    "We must also add the data for these new technologies to the following files:\n",
    "\n",
    "- `CommIn.csv`\n",
    "\n",
    "- `CommOut.csv`\n",
    "\n",
    "- `ExistingCapacity.csv`\n",
    "\n",
    "This is largely a similar process to the tutorial shown in [\"adding a new technology\"](add-solar.ipynb). We must add the input to each of the technologies (gas and electricity for `gas_stove` and `electric_stove` respectively), outputs of `cook` for both and the existing capacity for each technology in each region.\n",
    "\n",
    "Due to the additional demand for gas and electricity brought on by the new `cook` demand, it is necessary to relax the growth constraints for `gassupply1` in the `technodata/gas/technodata.csv` file. For this example, we set this file as follows:\n",
    "\n",
    "|ProcessName|RegionName|Time|…|MaxCapacityAddition|MaxCapacityGrowth|TotalCapacityLimit|…|Agent1|\n",
    "|-|-|-|-|-|-|-|-|-|\n",
    "|Unit|-|Year|…|PJ|%|PJ|…|New|\n",
    "|gassupply1|R1|2020|…|**100**|**5**|**500**|…|0|\n",
    "|gassupply1|R2|2020|…|**100**|**5**|**120**|…|0|\n",
    "\n",
    "To prevent repetition of the [\"adding a new technology\"](add-solar.ipynb) section, we will leave the full files [here INSERT LINK HERE](link-here). "
   ]
  },
  {
   "cell_type": "markdown",
   "metadata": {},
   "source": [
    "Again, we run the simulation with our modified input files using the following command, in the relevant directory:\n",
    "    \n",
    "    python -m pip muse settings.toml\n",
    "    \n",
    "Once this has run we are ready to visualise our results."
   ]
  },
  {
   "cell_type": "code",
   "execution_count": 2,
   "metadata": {},
   "outputs": [],
   "source": [
    "import pandas as pd\n",
    "import seaborn as sns\n",
    "import matplotlib.pyplot as plt"
   ]
  },
  {
   "cell_type": "code",
   "execution_count": 3,
   "metadata": {},
   "outputs": [
    {
     "data": {
      "text/html": [
       "<div>\n",
       "<style scoped>\n",
       "    .dataframe tbody tr th:only-of-type {\n",
       "        vertical-align: middle;\n",
       "    }\n",
       "\n",
       "    .dataframe tbody tr th {\n",
       "        vertical-align: top;\n",
       "    }\n",
       "\n",
       "    .dataframe thead th {\n",
       "        text-align: right;\n",
       "    }\n",
       "</style>\n",
       "<table border=\"1\" class=\"dataframe\">\n",
       "  <thead>\n",
       "    <tr style=\"text-align: right;\">\n",
       "      <th></th>\n",
       "      <th>technology</th>\n",
       "      <th>region</th>\n",
       "      <th>agent</th>\n",
       "      <th>type</th>\n",
       "      <th>sector</th>\n",
       "      <th>capacity</th>\n",
       "      <th>year</th>\n",
       "    </tr>\n",
       "  </thead>\n",
       "  <tbody>\n",
       "    <tr>\n",
       "      <th>0</th>\n",
       "      <td>gas_stove</td>\n",
       "      <td>R1</td>\n",
       "      <td>A1</td>\n",
       "      <td>retrofit</td>\n",
       "      <td>residential</td>\n",
       "      <td>10.0</td>\n",
       "      <td>2020</td>\n",
       "    </tr>\n",
       "    <tr>\n",
       "      <th>1</th>\n",
       "      <td>gasboiler</td>\n",
       "      <td>R1</td>\n",
       "      <td>A1</td>\n",
       "      <td>retrofit</td>\n",
       "      <td>residential</td>\n",
       "      <td>10.0</td>\n",
       "      <td>2020</td>\n",
       "    </tr>\n",
       "    <tr>\n",
       "      <th>2</th>\n",
       "      <td>gas_stove</td>\n",
       "      <td>R2</td>\n",
       "      <td>A1</td>\n",
       "      <td>retrofit</td>\n",
       "      <td>residential</td>\n",
       "      <td>10.0</td>\n",
       "      <td>2020</td>\n",
       "    </tr>\n",
       "    <tr>\n",
       "      <th>3</th>\n",
       "      <td>gasboiler</td>\n",
       "      <td>R2</td>\n",
       "      <td>A1</td>\n",
       "      <td>retrofit</td>\n",
       "      <td>residential</td>\n",
       "      <td>10.0</td>\n",
       "      <td>2020</td>\n",
       "    </tr>\n",
       "    <tr>\n",
       "      <th>4</th>\n",
       "      <td>gas_stove</td>\n",
       "      <td>R1</td>\n",
       "      <td>A2</td>\n",
       "      <td>retrofit</td>\n",
       "      <td>residential</td>\n",
       "      <td>10.0</td>\n",
       "      <td>2020</td>\n",
       "    </tr>\n",
       "  </tbody>\n",
       "</table>\n",
       "</div>"
      ],
      "text/plain": [
       "  technology region agent      type       sector  capacity  year\n",
       "0  gas_stove     R1    A1  retrofit  residential      10.0  2020\n",
       "1  gasboiler     R1    A1  retrofit  residential      10.0  2020\n",
       "2  gas_stove     R2    A1  retrofit  residential      10.0  2020\n",
       "3  gasboiler     R2    A1  retrofit  residential      10.0  2020\n",
       "4  gas_stove     R1    A2  retrofit  residential      10.0  2020"
      ]
     },
     "execution_count": 3,
     "metadata": {},
     "output_type": "execute_result"
    }
   ],
   "source": [
    "mca_capacity = pd.read_csv(\"../tutorial-code/add-service-demand/Results/MCACapacity.csv\")\n",
    "mca_capacity.head()\n",
    "\n"
   ]
  },
  {
   "cell_type": "code",
   "execution_count": 4,
   "metadata": {},
   "outputs": [
    {
     "name": "stdout",
     "output_type": "stream",
     "text": [
      "gas sector:\n"
     ]
    },
    {
     "data": {
      "image/png": "[encoded data removed]",
      "text/plain": [
       "<Figure size 432x288 with 2 Axes>"
      ]
     },
     "metadata": {
      "needs_background": "light"
     },
     "output_type": "display_data"
    },
    {
     "name": "stdout",
     "output_type": "stream",
     "text": [
      "power sector:\n"
     ]
    },
    {
     "data": {
      "image/png": "[encoded data removed]",
      "text/plain": [
       "<Figure size 432x288 with 2 Axes>"
      ]
     },
     "metadata": {
      "needs_background": "light"
     },
     "output_type": "display_data"
    },
    {
     "name": "stdout",
     "output_type": "stream",
     "text": [
      "residential sector:\n"
     ]
    },
    {
     "data": {
      "image/png": "[encoded data removed]",
      "text/plain": [
       "<Figure size 432x288 with 2 Axes>"
      ]
     },
     "metadata": {
      "needs_background": "light"
     },
     "output_type": "display_data"
    }
   ],
   "source": [
    "for name, sector in mca_capacity.groupby(\"sector\"):\n",
    "    print(\"{} sector:\".format(name))\n",
    "    fig, ax =plt.subplots(1,2)\n",
    "    sns.lineplot(data=sector[sector.region==\"R1\"], x=\"year\", y=\"capacity\", hue=\"technology\", ax=ax[0])\n",
    "    sns.lineplot(data=sector[sector.region==\"R2\"], x=\"year\", y=\"capacity\", hue=\"technology\", ax=ax[1])\n",
    "    plt.show()\n",
    "    plt.close()"
   ]
  },
  {
   "cell_type": "markdown",
   "metadata": {},
   "source": [
    "We can see our new technology, the `gas_stove` is used over the `electric_stove`. Therefore, there is an increase in `gassupply1` to accommodate for this growth in demand. However, this is not enough to displace `windturbine` by `gasCCGT`."
   ]
  },
  {
   "cell_type": "markdown",
   "metadata": {},
   "source": [
    "## Next steps"
   ]
  },
  {
   "cell_type": "markdown",
   "metadata": {},
   "source": [
    "This brings us to the end of the user guide! Using the information explained in this tutorial, or following similar steps, you will be able to create complex scenarios of your choosing.\n",
    "\n",
    "For the full code to generate the final results, see [here INSERT LINK HERE](dead-link)."
   ]
  }
 ],
 "metadata": {
  "kernelspec": {
   "display_name": "Python 3",
   "language": "python",
   "name": "python3"
  },
  "language_info": {
   "codemirror_mode": {
    "name": "ipython",
    "version": 3
   },
   "file_extension": ".py",
   "mimetype": "text/x-python",
   "name": "python",
   "nbconvert_exporter": "python",
   "pygments_lexer": "ipython3",
   "version": "3.8.3"
  }
 },
 "nbformat": 4,
 "nbformat_minor": 4
}
